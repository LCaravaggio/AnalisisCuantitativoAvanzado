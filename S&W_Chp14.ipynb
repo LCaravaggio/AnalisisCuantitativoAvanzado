{
  "nbformat": 4,
  "nbformat_minor": 0,
  "metadata": {
    "colab": {
      "provenance": [],
      "authorship_tag": "ABX9TyOZ47eEPXuW7Nqzwmdq3jqg",
      "include_colab_link": true
    },
    "kernelspec": {
      "name": "python3",
      "display_name": "Python 3"
    },
    "language_info": {
      "name": "python"
    }
  },
  "cells": [
    {
      "cell_type": "markdown",
      "metadata": {
        "id": "view-in-github",
        "colab_type": "text"
      },
      "source": [
        "<a href=\"https://colab.research.google.com/github/LCaravaggio/AnalisisCuantitativoAvanzado/blob/main/S%26W_Chp14.ipynb\" target=\"_parent\"><img src=\"https://colab.research.google.com/assets/colab-badge.svg\" alt=\"Open In Colab\"/></a>"
      ]
    },
    {
      "cell_type": "markdown",
      "source": [
        "\n",
        "Esta notebook se propone replicar con datos de Argentina el Capítulo 14 de Stock y Watson (2006).\n",
        "\n"
      ],
      "metadata": {
        "id": "-FJMxIMhzy8L"
      }
    },
    {
      "cell_type": "markdown",
      "source": [
        "# Carga de datos"
      ],
      "metadata": {
        "id": "f4K6mD-l0FSa"
      }
    },
    {
      "cell_type": "code",
      "execution_count": 1,
      "metadata": {
        "id": "JwyScr0AbBE5"
      },
      "outputs": [],
      "source": [
        "from google.colab import drive\n",
        "import json\n",
        "\n",
        "import requests\n",
        "from requests.auth import HTTPBasicAuth\n",
        "\n",
        "import pandas as pd\n",
        "\n",
        "from matplotlib import pyplot as plt\n",
        "import seaborn as sns"
      ]
    },
    {
      "cell_type": "code",
      "source": [
        "drive.mount('/content/drive', force_remount=True)\n",
        "with open(\"/content/drive/My Drive/alphacast.json\", 'r') as f:\n",
        "    api_token= json.load(f)"
      ],
      "metadata": {
        "colab": {
          "base_uri": "https://localhost:8080/"
        },
        "id": "K8Boc1v0bDIP",
        "outputId": "744e8696-d755-4f99-96be-d51f95a958ef"
      },
      "execution_count": 2,
      "outputs": [
        {
          "output_type": "stream",
          "name": "stdout",
          "text": [
            "Mounted at /content/drive\n"
          ]
        }
      ]
    },
    {
      "cell_type": "code",
      "source": [
        "# Definir user key para la API\n",
        "user_key = api_token[\"key\"]     "
      ],
      "metadata": {
        "id": "JgcN0lgfbE7d"
      },
      "execution_count": 3,
      "outputs": []
    },
    {
      "cell_type": "code",
      "source": [
        "# Desocupados\n",
        "desocup = requests.get('https://api.alphacast.io/datasets/6144/data?apiKey='+user_key+'&&$format=csv', auth=HTTPBasicAuth(user_key, ''))\n",
        "open('desocup.csv','wb').write(desocup.content)\n",
        "desocup = pd.read_csv('desocup.csv',delimiter = ',')\n",
        "desocup = desocup.loc[54:]"
      ],
      "metadata": {
        "id": "lM4OkYhvbKoo"
      },
      "execution_count": 4,
      "outputs": []
    },
    {
      "cell_type": "code",
      "source": [
        "infla = requests.get('https://api.alphacast.io/drafts/615-1677091841985?apiKey='+user_key, auth=HTTPBasicAuth(user_key, ''))\n",
        "open('infla.csv','wb').write(infla.content)\n",
        "infla = pd.read_csv('infla.csv',delimiter = ',')"
      ],
      "metadata": {
        "id": "u5xgtmQKbuFs"
      },
      "execution_count": 5,
      "outputs": []
    },
    {
      "cell_type": "markdown",
      "source": [
        "# Figura 14.1"
      ],
      "metadata": {
        "id": "ltNMyEJ20DGQ"
      }
    },
    {
      "cell_type": "code",
      "source": [
        "import matplotlib.pyplot as plt\n",
        "from matplotlib.pyplot import figure\n",
        "\n",
        "figure(figsize=(5, 3), dpi=80)\n",
        "variable=desocup['TOTAL AGLOMERADOS EPH - Tasa Desempleo']\n",
        "fig = sns.lineplot(x=desocup.Date, y=variable)\n",
        "plt.title(variable.name)\n",
        "plt.xlabel(\"Trimestre\")\n",
        "plt.xticks(rotation=90)\n",
        "plt.savefig('%s.png'%variable.name)"
      ],
      "metadata": {
        "colab": {
          "base_uri": "https://localhost:8080/",
          "height": 336
        },
        "id": "yB4nkvMtfK4K",
        "outputId": "73d5fd4d-dfad-4b77-9358-871e8455633d"
      },
      "execution_count": 6,
      "outputs": [
        {
          "output_type": "display_data",
          "data": {
            "text/plain": [
              "<Figure size 400x240 with 1 Axes>"
            ],
            "image/png": "[encoded data removed]"
          },
          "metadata": {
            "needs_background": "light"
          }
        }
      ]
    },
    {
      "cell_type": "code",
      "source": [
        "figure(figsize=(5, 3), dpi=80)\n",
        "variable=infla['Nivel general - current_prices_mom']/100\n",
        "fig = sns.lineplot(x=infla.Date, y=variable)\n",
        "plt.title(variable.name)\n",
        "plt.xlabel(\"Trimestre\")\n",
        "plt.xticks(rotation=90)\n",
        "plt.savefig('%s.png'%variable.name)"
      ],
      "metadata": {
        "colab": {
          "base_uri": "https://localhost:8080/",
          "height": 317
        },
        "id": "b0T0M1H-g6QO",
        "outputId": "37547933-1fa7-487b-eed4-efce0cde07ac"
      },
      "execution_count": 7,
      "outputs": [
        {
          "output_type": "display_data",
          "data": {
            "text/plain": [
              "<Figure size 400x240 with 1 Axes>"
            ],
            "image/png": "[encoded data removed]"
          },
          "metadata": {
            "needs_background": "light"
          }
        }
      ]
    },
    {
      "cell_type": "markdown",
      "source": [
        "# Modelo autoregresivo: AR"
      ],
      "metadata": {
        "id": "Y5OImwKh0my_"
      }
    },
    {
      "cell_type": "code",
      "source": [
        "datos=pd.DataFrame({\"infla\":list(infla['Nivel general - current_prices_mom'][1:-2]/100), \"desocup\":list(desocup['TOTAL AGLOMERADOS EPH - Tasa Desempleo'][1:])}, index=infla['Date'][1:-2])"
      ],
      "metadata": {
        "id": "RRc7iE5Oz4_v"
      },
      "execution_count": 8,
      "outputs": []
    },
    {
      "cell_type": "code",
      "source": [
        "from statsmodels.tsa.api import AutoReg\n",
        "ar_model = AutoReg(datos['infla'], lags=1, old_names=True).fit()"
      ],
      "metadata": {
        "id": "Szksgpik0qql",
        "outputId": "fe9e2844-f275-4450-c0c1-c85d9bf1cb71",
        "colab": {
          "base_uri": "https://localhost:8080/"
        }
      },
      "execution_count": 9,
      "outputs": [
        {
          "output_type": "stream",
          "name": "stderr",
          "text": [
            "/usr/local/lib/python3.8/dist-packages/statsmodels/tsa/base/tsa_model.py:524: ValueWarning: No frequency information was provided, so inferred frequency QS-OCT will be used.\n",
            "  warnings.warn('No frequency information was'\n"
          ]
        }
      ]
    },
    {
      "cell_type": "code",
      "source": [
        "# Estos valores aparecen, para el caso de EEUU, en la ecuación 14.7\n",
        "ar_model.params"
      ],
      "metadata": {
        "colab": {
          "base_uri": "https://localhost:8080/"
        },
        "id": "1mdfWcwG54A9",
        "outputId": "544d2e66-0bb7-4c21-b0ed-49398699f912"
      },
      "execution_count": 10,
      "outputs": [
        {
          "output_type": "execute_result",
          "data": {
            "text/plain": [
              "intercept    0.004685\n",
              "infla.L1     0.922209\n",
              "dtype: float64"
            ]
          },
          "metadata": {},
          "execution_count": 10
        }
      ]
    },
    {
      "cell_type": "markdown",
      "source": [
        "Es decir que se trata de los parámetros estimados para la ecuación 14.8 \\\n",
        "$Y_t=\\beta_0+\\beta_1Y_{t-1}+u_t$"
      ],
      "metadata": {
        "id": "8ekTC_NA4bUi"
      }
    },
    {
      "cell_type": "code",
      "source": [
        "ar_model.summary()"
      ],
      "metadata": {
        "id": "LnsRncv32E5Y",
        "outputId": "f350051a-e781-465d-f685-41528fc4f6a7",
        "colab": {
          "base_uri": "https://localhost:8080/",
          "height": 349
        }
      },
      "execution_count": 11,
      "outputs": [
        {
          "output_type": "stream",
          "name": "stderr",
          "text": [
            "/usr/local/lib/python3.8/dist-packages/statsmodels/tsa/base/tsa_model.py:132: FutureWarning: The 'freq' argument in Timestamp is deprecated and will be removed in a future version.\n",
            "  date_key = Timestamp(key, freq=base_index.freq)\n"
          ]
        },
        {
          "output_type": "execute_result",
          "data": {
            "text/plain": [
              "<class 'statsmodels.iolib.summary.Summary'>\n",
              "\"\"\"\n",
              "                            AutoReg Model Results                             \n",
              "==============================================================================\n",
              "Dep. Variable:                  infla   No. Observations:                   23\n",
              "Model:                     AutoReg(1)   Log Likelihood                  74.637\n",
              "Method:               Conditional MLE   S.D. of innovations              0.008\n",
              "Date:                Thu, 23 Feb 2023   AIC                             -9.350\n",
              "Time:                        16:05:39   BIC                             -9.202\n",
              "Sample:                    04-01-2017   HQIC                            -9.315\n",
              "                         - 07-01-2022                                         \n",
              "==============================================================================\n",
              "                 coef    std err          z      P>|z|      [0.025      0.975]\n",
              "------------------------------------------------------------------------------\n",
              "intercept      0.0047      0.006      0.850      0.395      -0.006       0.015\n",
              "infla.L1       0.9222      0.164      5.633      0.000       0.601       1.243\n",
              "                                    Roots                                    \n",
              "=============================================================================\n",
              "                  Real          Imaginary           Modulus         Frequency\n",
              "-----------------------------------------------------------------------------\n",
              "AR.1            1.0844           +0.0000j            1.0844            0.0000\n",
              "-----------------------------------------------------------------------------\n",
              "\"\"\""
            ],
            "text/html": [
              "<table class=\"simpletable\">\n",
              "<caption>AutoReg Model Results</caption>\n",
              "<tr>\n",
              "  <th>Dep. Variable:</th>       <td>infla</td>      <th>  No. Observations:  </th>   <td>23</td>  \n",
              "</tr>\n",
              "<tr>\n",
              "  <th>Model:</th>            <td>AutoReg(1)</td>    <th>  Log Likelihood     </th> <td>74.637</td>\n",
              "</tr>\n",
              "<tr>\n",
              "  <th>Method:</th>         <td>Conditional MLE</td> <th>  S.D. of innovations</th>  <td>0.008</td>\n",
              "</tr>\n",
              "<tr>\n",
              "  <th>Date:</th>          <td>Thu, 23 Feb 2023</td> <th>  AIC                </th> <td>-9.350</td>\n",
              "</tr>\n",
              "<tr>\n",
              "  <th>Time:</th>              <td>16:05:39</td>     <th>  BIC                </th> <td>-9.202</td>\n",
              "</tr>\n",
              "<tr>\n",
              "  <th>Sample:</th>           <td>04-01-2017</td>    <th>  HQIC               </th> <td>-9.315</td>\n",
              "</tr>\n",
              "<tr>\n",
              "  <th></th>                 <td>- 07-01-2022</td>   <th>                     </th>    <td> </td>  \n",
              "</tr>\n",
              "</table>\n",
              "<table class=\"simpletable\">\n",
              "<tr>\n",
              "      <td></td>         <th>coef</th>     <th>std err</th>      <th>z</th>      <th>P>|z|</th>  <th>[0.025</th>    <th>0.975]</th>  \n",
              "</tr>\n",
              "<tr>\n",
              "  <th>intercept</th> <td>    0.0047</td> <td>    0.006</td> <td>    0.850</td> <td> 0.395</td> <td>   -0.006</td> <td>    0.015</td>\n",
              "</tr>\n",
              "<tr>\n",
              "  <th>infla.L1</th>  <td>    0.9222</td> <td>    0.164</td> <td>    5.633</td> <td> 0.000</td> <td>    0.601</td> <td>    1.243</td>\n",
              "</tr>\n",
              "</table>\n",
              "<table class=\"simpletable\">\n",
              "<caption>Roots</caption>\n",
              "<tr>\n",
              "    <td></td>   <th>            Real</th>  <th>         Imaginary</th> <th>         Modulus</th>  <th>        Frequency</th>\n",
              "</tr>\n",
              "<tr>\n",
              "  <th>AR.1</th> <td>           1.0844</td> <td>          +0.0000j</td> <td>           1.0844</td> <td>           0.0000</td>\n",
              "</tr>\n",
              "</table>"
            ]
          },
          "metadata": {},
          "execution_count": 11
        }
      ]
    },
    {
      "cell_type": "code",
      "source": [
        "# Con este modelo sería posible hacer una predicción para el siguiente valor aún no observado \n",
        "yhat = ar_model.predict(len(variable), len(variable))"
      ],
      "metadata": {
        "id": "VUIgs7I34PMh",
        "outputId": "d83be0d4-ebd3-4e61-e3b5-3a71a7e95fc3",
        "colab": {
          "base_uri": "https://localhost:8080/"
        }
      },
      "execution_count": 12,
      "outputs": [
        {
          "output_type": "stream",
          "name": "stderr",
          "text": [
            "/usr/local/lib/python3.8/dist-packages/statsmodels/tsa/deterministic.py:147: UserWarning: Only PeriodIndexes, DatetimeIndexes with a frequency set, RangesIndexes, and Int64Indexes with a unit increment support extending. The index is set will contain the position relative to the data length.\n",
            "  warnings.warn(\n"
          ]
        }
      ]
    },
    {
      "cell_type": "markdown",
      "source": [
        "Esta predicción se presenta en el texto en la ecuación 14.9 \\\n",
        "\n",
        "$\\hat{Y}_{t+1|t}=\\beta_0+\\beta_1Y_{t}$"
      ],
      "metadata": {
        "id": "Co5AEAIa5yt5"
      }
    },
    {
      "cell_type": "code",
      "source": [
        "yhat"
      ],
      "metadata": {
        "colab": {
          "base_uri": "https://localhost:8080/"
        },
        "id": "atIYakKK4VEq",
        "outputId": "d4bf0fd4-6e4e-4a46-e084-64d027027408"
      },
      "execution_count": 13,
      "outputs": [
        {
          "output_type": "execute_result",
          "data": {
            "text/plain": [
              "2023-07-01    0.06619\n",
              "Freq: QS-OCT, dtype: float64"
            ]
          },
          "metadata": {},
          "execution_count": 13
        }
      ]
    },
    {
      "cell_type": "markdown",
      "source": [
        "Cuando se conozca el verdadero valor de $y_{t+1}$ será posible calcular el error de estimación, que se presenta en la ecuación 14.10: \\\n",
        "\n",
        "error=$Y_{t+1}-\\hat{Y}_{t+1|t}$"
      ],
      "metadata": {
        "id": "QCsawfDP6mya"
      }
    },
    {
      "cell_type": "markdown",
      "source": [
        "# AR(p)"
      ],
      "metadata": {
        "id": "p3jSNlCvAZ0z"
      }
    },
    {
      "cell_type": "code",
      "source": [
        "# El modelo \n",
        "ar_model = AutoReg(datos['infla'], lags=4, old_names=True).fit()"
      ],
      "metadata": {
        "id": "zWoVSnWAAXnv",
        "outputId": "ea50e792-89e9-4e4d-ba1d-19fc30d1337b",
        "colab": {
          "base_uri": "https://localhost:8080/"
        }
      },
      "execution_count": 14,
      "outputs": [
        {
          "output_type": "stream",
          "name": "stderr",
          "text": [
            "/usr/local/lib/python3.8/dist-packages/statsmodels/tsa/base/tsa_model.py:524: ValueWarning: No frequency information was provided, so inferred frequency QS-OCT will be used.\n",
            "  warnings.warn('No frequency information was'\n"
          ]
        }
      ]
    },
    {
      "cell_type": "code",
      "source": [
        "# Los valores de esta salida corresponden a los presentados en la ecuación 14.13 \n",
        "ar_model.summary()"
      ],
      "metadata": {
        "id": "C3G5RkwcAZIK",
        "outputId": "629400d8-9ab7-43b2-c5f1-20cf0521aa28",
        "colab": {
          "base_uri": "https://localhost:8080/",
          "height": 477
        }
      },
      "execution_count": 15,
      "outputs": [
        {
          "output_type": "stream",
          "name": "stderr",
          "text": [
            "/usr/local/lib/python3.8/dist-packages/statsmodels/tsa/base/tsa_model.py:132: FutureWarning: The 'freq' argument in Timestamp is deprecated and will be removed in a future version.\n",
            "  date_key = Timestamp(key, freq=base_index.freq)\n"
          ]
        },
        {
          "output_type": "execute_result",
          "data": {
            "text/plain": [
              "<class 'statsmodels.iolib.summary.Summary'>\n",
              "\"\"\"\n",
              "                            AutoReg Model Results                             \n",
              "==============================================================================\n",
              "Dep. Variable:                  infla   No. Observations:                   23\n",
              "Model:                     AutoReg(4)   Log Likelihood                  65.565\n",
              "Method:               Conditional MLE   S.D. of innovations              0.008\n",
              "Date:                Thu, 23 Feb 2023   AIC                             -9.108\n",
              "Time:                        16:05:39   BIC                             -8.810\n",
              "Sample:                    01-01-2018   HQIC                            -9.057\n",
              "                         - 07-01-2022                                         \n",
              "==============================================================================\n",
              "                 coef    std err          z      P>|z|      [0.025      0.975]\n",
              "------------------------------------------------------------------------------\n",
              "intercept      0.0065      0.009      0.714      0.475      -0.011       0.024\n",
              "infla.L1       0.9376      0.252      3.723      0.000       0.444       1.431\n",
              "infla.L2      -0.0718      0.336     -0.213      0.831      -0.731       0.588\n",
              "infla.L3      -0.4665      0.363     -1.286      0.199      -1.178       0.245\n",
              "infla.L4       0.4929      0.275      1.793      0.073      -0.046       1.032\n",
              "                                    Roots                                    \n",
              "=============================================================================\n",
              "                  Real          Imaginary           Modulus         Frequency\n",
              "-----------------------------------------------------------------------------\n",
              "AR.1           -1.2831           -0.0000j            1.2831           -0.5000\n",
              "AR.2            1.0727           -0.0000j            1.0727           -0.0000\n",
              "AR.3            0.5783           -1.0675j            1.2141           -0.1710\n",
              "AR.4            0.5783           +1.0675j            1.2141            0.1710\n",
              "-----------------------------------------------------------------------------\n",
              "\"\"\""
            ],
            "text/html": [
              "<table class=\"simpletable\">\n",
              "<caption>AutoReg Model Results</caption>\n",
              "<tr>\n",
              "  <th>Dep. Variable:</th>       <td>infla</td>      <th>  No. Observations:  </th>   <td>23</td>  \n",
              "</tr>\n",
              "<tr>\n",
              "  <th>Model:</th>            <td>AutoReg(4)</td>    <th>  Log Likelihood     </th> <td>65.565</td>\n",
              "</tr>\n",
              "<tr>\n",
              "  <th>Method:</th>         <td>Conditional MLE</td> <th>  S.D. of innovations</th>  <td>0.008</td>\n",
              "</tr>\n",
              "<tr>\n",
              "  <th>Date:</th>          <td>Thu, 23 Feb 2023</td> <th>  AIC                </th> <td>-9.108</td>\n",
              "</tr>\n",
              "<tr>\n",
              "  <th>Time:</th>              <td>16:05:39</td>     <th>  BIC                </th> <td>-8.810</td>\n",
              "</tr>\n",
              "<tr>\n",
              "  <th>Sample:</th>           <td>01-01-2018</td>    <th>  HQIC               </th> <td>-9.057</td>\n",
              "</tr>\n",
              "<tr>\n",
              "  <th></th>                 <td>- 07-01-2022</td>   <th>                     </th>    <td> </td>  \n",
              "</tr>\n",
              "</table>\n",
              "<table class=\"simpletable\">\n",
              "<tr>\n",
              "      <td></td>         <th>coef</th>     <th>std err</th>      <th>z</th>      <th>P>|z|</th>  <th>[0.025</th>    <th>0.975]</th>  \n",
              "</tr>\n",
              "<tr>\n",
              "  <th>intercept</th> <td>    0.0065</td> <td>    0.009</td> <td>    0.714</td> <td> 0.475</td> <td>   -0.011</td> <td>    0.024</td>\n",
              "</tr>\n",
              "<tr>\n",
              "  <th>infla.L1</th>  <td>    0.9376</td> <td>    0.252</td> <td>    3.723</td> <td> 0.000</td> <td>    0.444</td> <td>    1.431</td>\n",
              "</tr>\n",
              "<tr>\n",
              "  <th>infla.L2</th>  <td>   -0.0718</td> <td>    0.336</td> <td>   -0.213</td> <td> 0.831</td> <td>   -0.731</td> <td>    0.588</td>\n",
              "</tr>\n",
              "<tr>\n",
              "  <th>infla.L3</th>  <td>   -0.4665</td> <td>    0.363</td> <td>   -1.286</td> <td> 0.199</td> <td>   -1.178</td> <td>    0.245</td>\n",
              "</tr>\n",
              "<tr>\n",
              "  <th>infla.L4</th>  <td>    0.4929</td> <td>    0.275</td> <td>    1.793</td> <td> 0.073</td> <td>   -0.046</td> <td>    1.032</td>\n",
              "</tr>\n",
              "</table>\n",
              "<table class=\"simpletable\">\n",
              "<caption>Roots</caption>\n",
              "<tr>\n",
              "    <td></td>   <th>            Real</th>  <th>         Imaginary</th> <th>         Modulus</th>  <th>        Frequency</th>\n",
              "</tr>\n",
              "<tr>\n",
              "  <th>AR.1</th> <td>          -1.2831</td> <td>          -0.0000j</td> <td>           1.2831</td> <td>          -0.5000</td>\n",
              "</tr>\n",
              "<tr>\n",
              "  <th>AR.2</th> <td>           1.0727</td> <td>          -0.0000j</td> <td>           1.0727</td> <td>          -0.0000</td>\n",
              "</tr>\n",
              "<tr>\n",
              "  <th>AR.3</th> <td>           0.5783</td> <td>          -1.0675j</td> <td>           1.2141</td> <td>          -0.1710</td>\n",
              "</tr>\n",
              "<tr>\n",
              "  <th>AR.4</th> <td>           0.5783</td> <td>          +1.0675j</td> <td>           1.2141</td> <td>           0.1710</td>\n",
              "</tr>\n",
              "</table>"
            ]
          },
          "metadata": {},
          "execution_count": 15
        }
      ]
    },
    {
      "cell_type": "code",
      "source": [
        "datos['L1.desocup']=datos['desocup'].shift(1)"
      ],
      "metadata": {
        "id": "oHm8ZbJ021Kv"
      },
      "execution_count": 16,
      "outputs": []
    },
    {
      "cell_type": "code",
      "source": [
        "datos=datos.dropna()"
      ],
      "metadata": {
        "id": "DTjnvSl53WkW"
      },
      "execution_count": 17,
      "outputs": []
    },
    {
      "cell_type": "code",
      "source": [
        "ar_model = AutoReg(endog=datos['infla'], exog=datos['L1.desocup'], lags=4, old_names=False).fit()"
      ],
      "metadata": {
        "id": "0nv1ljn-BJvw",
        "outputId": "5f528b94-69f3-44d5-8a77-73678ae1298a",
        "colab": {
          "base_uri": "https://localhost:8080/"
        }
      },
      "execution_count": 18,
      "outputs": [
        {
          "output_type": "stream",
          "name": "stderr",
          "text": [
            "/usr/local/lib/python3.8/dist-packages/statsmodels/tsa/base/tsa_model.py:524: ValueWarning: No frequency information was provided, so inferred frequency QS-OCT will be used.\n",
            "  warnings.warn('No frequency information was'\n"
          ]
        }
      ]
    },
    {
      "cell_type": "code",
      "source": [
        "# Estos son los resultados de la ecuación 14.16\n",
        "ar_model.summary()"
      ],
      "metadata": {
        "id": "cWrPF9f4BOhH",
        "outputId": "4959862c-685f-4351-c3a6-67d5e51a6165",
        "colab": {
          "base_uri": "https://localhost:8080/",
          "height": 498
        }
      },
      "execution_count": 19,
      "outputs": [
        {
          "output_type": "stream",
          "name": "stderr",
          "text": [
            "/usr/local/lib/python3.8/dist-packages/statsmodels/tsa/base/tsa_model.py:132: FutureWarning: The 'freq' argument in Timestamp is deprecated and will be removed in a future version.\n",
            "  date_key = Timestamp(key, freq=base_index.freq)\n"
          ]
        },
        {
          "output_type": "execute_result",
          "data": {
            "text/plain": [
              "<class 'statsmodels.iolib.summary.Summary'>\n",
              "\"\"\"\n",
              "                            AutoReg Model Results                             \n",
              "==============================================================================\n",
              "Dep. Variable:                  infla   No. Observations:                   22\n",
              "Model:                   AutoReg-X(4)   Log Likelihood                  63.252\n",
              "Method:               Conditional MLE   S.D. of innovations              0.007\n",
              "Date:                Thu, 23 Feb 2023   AIC                             -9.088\n",
              "Time:                        16:05:39   BIC                             -8.742\n",
              "Sample:                    04-01-2018   HQIC                            -9.040\n",
              "                         - 07-01-2022                                         \n",
              "==============================================================================\n",
              "                 coef    std err          z      P>|z|      [0.025      0.975]\n",
              "------------------------------------------------------------------------------\n",
              "const          0.0438      0.022      2.022      0.043       0.001       0.086\n",
              "infla.L1       0.6607      0.278      2.374      0.018       0.115       1.206\n",
              "infla.L2      -0.1456      0.318     -0.457      0.647      -0.770       0.478\n",
              "infla.L3      -0.4588      0.343     -1.337      0.181      -1.132       0.214\n",
              "infla.L4       0.4466      0.260      1.717      0.086      -0.063       0.956\n",
              "L1.desocup    -0.2499      0.142     -1.764      0.078      -0.527       0.028\n",
              "                                    Roots                                    \n",
              "=============================================================================\n",
              "                  Real          Imaginary           Modulus         Frequency\n",
              "-----------------------------------------------------------------------------\n",
              "AR.1           -1.2642           -0.0000j            1.2642           -0.5000\n",
              "AR.2            0.4664           -1.0421j            1.1417           -0.1830\n",
              "AR.3            0.4664           +1.0421j            1.1417            0.1830\n",
              "AR.4            1.3587           -0.0000j            1.3587           -0.0000\n",
              "-----------------------------------------------------------------------------\n",
              "\"\"\""
            ],
            "text/html": [
              "<table class=\"simpletable\">\n",
              "<caption>AutoReg Model Results</caption>\n",
              "<tr>\n",
              "  <th>Dep. Variable:</th>       <td>infla</td>      <th>  No. Observations:  </th>   <td>22</td>  \n",
              "</tr>\n",
              "<tr>\n",
              "  <th>Model:</th>           <td>AutoReg-X(4)</td>   <th>  Log Likelihood     </th> <td>63.252</td>\n",
              "</tr>\n",
              "<tr>\n",
              "  <th>Method:</th>         <td>Conditional MLE</td> <th>  S.D. of innovations</th>  <td>0.007</td>\n",
              "</tr>\n",
              "<tr>\n",
              "  <th>Date:</th>          <td>Thu, 23 Feb 2023</td> <th>  AIC                </th> <td>-9.088</td>\n",
              "</tr>\n",
              "<tr>\n",
              "  <th>Time:</th>              <td>16:05:39</td>     <th>  BIC                </th> <td>-8.742</td>\n",
              "</tr>\n",
              "<tr>\n",
              "  <th>Sample:</th>           <td>04-01-2018</td>    <th>  HQIC               </th> <td>-9.040</td>\n",
              "</tr>\n",
              "<tr>\n",
              "  <th></th>                 <td>- 07-01-2022</td>   <th>                     </th>    <td> </td>  \n",
              "</tr>\n",
              "</table>\n",
              "<table class=\"simpletable\">\n",
              "<tr>\n",
              "       <td></td>         <th>coef</th>     <th>std err</th>      <th>z</th>      <th>P>|z|</th>  <th>[0.025</th>    <th>0.975]</th>  \n",
              "</tr>\n",
              "<tr>\n",
              "  <th>const</th>      <td>    0.0438</td> <td>    0.022</td> <td>    2.022</td> <td> 0.043</td> <td>    0.001</td> <td>    0.086</td>\n",
              "</tr>\n",
              "<tr>\n",
              "  <th>infla.L1</th>   <td>    0.6607</td> <td>    0.278</td> <td>    2.374</td> <td> 0.018</td> <td>    0.115</td> <td>    1.206</td>\n",
              "</tr>\n",
              "<tr>\n",
              "  <th>infla.L2</th>   <td>   -0.1456</td> <td>    0.318</td> <td>   -0.457</td> <td> 0.647</td> <td>   -0.770</td> <td>    0.478</td>\n",
              "</tr>\n",
              "<tr>\n",
              "  <th>infla.L3</th>   <td>   -0.4588</td> <td>    0.343</td> <td>   -1.337</td> <td> 0.181</td> <td>   -1.132</td> <td>    0.214</td>\n",
              "</tr>\n",
              "<tr>\n",
              "  <th>infla.L4</th>   <td>    0.4466</td> <td>    0.260</td> <td>    1.717</td> <td> 0.086</td> <td>   -0.063</td> <td>    0.956</td>\n",
              "</tr>\n",
              "<tr>\n",
              "  <th>L1.desocup</th> <td>   -0.2499</td> <td>    0.142</td> <td>   -1.764</td> <td> 0.078</td> <td>   -0.527</td> <td>    0.028</td>\n",
              "</tr>\n",
              "</table>\n",
              "<table class=\"simpletable\">\n",
              "<caption>Roots</caption>\n",
              "<tr>\n",
              "    <td></td>   <th>            Real</th>  <th>         Imaginary</th> <th>         Modulus</th>  <th>        Frequency</th>\n",
              "</tr>\n",
              "<tr>\n",
              "  <th>AR.1</th> <td>          -1.2642</td> <td>          -0.0000j</td> <td>           1.2642</td> <td>          -0.5000</td>\n",
              "</tr>\n",
              "<tr>\n",
              "  <th>AR.2</th> <td>           0.4664</td> <td>          -1.0421j</td> <td>           1.1417</td> <td>          -0.1830</td>\n",
              "</tr>\n",
              "<tr>\n",
              "  <th>AR.3</th> <td>           0.4664</td> <td>          +1.0421j</td> <td>           1.1417</td> <td>           0.1830</td>\n",
              "</tr>\n",
              "<tr>\n",
              "  <th>AR.4</th> <td>           1.3587</td> <td>          -0.0000j</td> <td>           1.3587</td> <td>          -0.0000</td>\n",
              "</tr>\n",
              "</table>"
            ]
          },
          "metadata": {},
          "execution_count": 19
        }
      ]
    },
    {
      "cell_type": "code",
      "source": [
        "datos['L2.desocup']=datos['desocup'].shift(2)\n",
        "datos['L3.desocup']=datos['desocup'].shift(3)\n",
        "datos['L4.desocup']=datos['desocup'].shift(4)\n",
        "exog=['L1.desocup', 'L2.desocup', 'L3.desocup', 'L4.desocup']\n",
        "datos=datos.dropna()"
      ],
      "metadata": {
        "id": "s3vXHCzFBGQ9"
      },
      "execution_count": 20,
      "outputs": []
    },
    {
      "cell_type": "code",
      "source": [
        "ar_model = AutoReg(endog=datos['infla'], exog=datos[exog], lags=4, old_names=False).fit()"
      ],
      "metadata": {
        "id": "mumCkUB8mYr_",
        "outputId": "37e7a89f-3905-4c0c-feee-0aa36860ba96",
        "colab": {
          "base_uri": "https://localhost:8080/"
        }
      },
      "execution_count": 21,
      "outputs": [
        {
          "output_type": "stream",
          "name": "stderr",
          "text": [
            "/usr/local/lib/python3.8/dist-packages/statsmodels/tsa/base/tsa_model.py:524: ValueWarning: No frequency information was provided, so inferred frequency QS-OCT will be used.\n",
            "  warnings.warn('No frequency information was'\n"
          ]
        }
      ]
    },
    {
      "cell_type": "code",
      "source": [
        "# Estos son los resultados de la ecuación 14.17\n",
        "ar_model.summary()"
      ],
      "metadata": {
        "id": "iv5nOcbvteJX",
        "outputId": "e26bf014-a634-4bb5-e40d-58542894ff07",
        "colab": {
          "base_uri": "https://localhost:8080/",
          "height": 562
        }
      },
      "execution_count": 22,
      "outputs": [
        {
          "output_type": "stream",
          "name": "stderr",
          "text": [
            "/usr/local/lib/python3.8/dist-packages/statsmodels/tsa/base/tsa_model.py:132: FutureWarning: The 'freq' argument in Timestamp is deprecated and will be removed in a future version.\n",
            "  date_key = Timestamp(key, freq=base_index.freq)\n"
          ]
        },
        {
          "output_type": "execute_result",
          "data": {
            "text/plain": [
              "<class 'statsmodels.iolib.summary.Summary'>\n",
              "\"\"\"\n",
              "                            AutoReg Model Results                             \n",
              "==============================================================================\n",
              "Dep. Variable:                  infla   No. Observations:                   18\n",
              "Model:                   AutoReg-X(4)   Log Likelihood                  53.322\n",
              "Method:               Conditional MLE   S.D. of innovations              0.005\n",
              "Date:                Thu, 23 Feb 2023   AIC                             -9.027\n",
              "Time:                        16:05:40   BIC                             -8.570\n",
              "Sample:                    04-01-2019   HQIC                            -9.069\n",
              "                         - 07-01-2022                                         \n",
              "==============================================================================\n",
              "                 coef    std err          z      P>|z|      [0.025      0.975]\n",
              "------------------------------------------------------------------------------\n",
              "const          0.1582      0.059      2.666      0.008       0.042       0.274\n",
              "infla.L1       0.2707      0.393      0.689      0.491      -0.499       1.041\n",
              "infla.L2      -0.2085      0.301     -0.693      0.489      -0.798       0.382\n",
              "infla.L3      -0.8021      0.325     -2.470      0.013      -1.439      -0.166\n",
              "infla.L4      -0.1861      0.407     -0.457      0.648      -0.984       0.612\n",
              "L1.desocup    -0.4159      0.197     -2.115      0.034      -0.801      -0.030\n",
              "L2.desocup     0.1874      0.234      0.800      0.424      -0.272       0.647\n",
              "L3.desocup    -0.4948      0.245     -2.023      0.043      -0.974      -0.015\n",
              "L4.desocup    -0.1898      0.244     -0.777      0.437      -0.669       0.289\n",
              "                                    Roots                                    \n",
              "=============================================================================\n",
              "                  Real          Imaginary           Modulus         Frequency\n",
              "-----------------------------------------------------------------------------\n",
              "AR.1            0.5323           -0.7886j            0.9514           -0.1555\n",
              "AR.2            0.5323           +0.7886j            0.9514            0.1555\n",
              "AR.3           -1.5537           -0.0000j            1.5537           -0.5000\n",
              "AR.4           -3.8201           -0.0000j            3.8201           -0.5000\n",
              "-----------------------------------------------------------------------------\n",
              "\"\"\""
            ],
            "text/html": [
              "<table class=\"simpletable\">\n",
              "<caption>AutoReg Model Results</caption>\n",
              "<tr>\n",
              "  <th>Dep. Variable:</th>       <td>infla</td>      <th>  No. Observations:  </th>   <td>18</td>  \n",
              "</tr>\n",
              "<tr>\n",
              "  <th>Model:</th>           <td>AutoReg-X(4)</td>   <th>  Log Likelihood     </th> <td>53.322</td>\n",
              "</tr>\n",
              "<tr>\n",
              "  <th>Method:</th>         <td>Conditional MLE</td> <th>  S.D. of innovations</th>  <td>0.005</td>\n",
              "</tr>\n",
              "<tr>\n",
              "  <th>Date:</th>          <td>Thu, 23 Feb 2023</td> <th>  AIC                </th> <td>-9.027</td>\n",
              "</tr>\n",
              "<tr>\n",
              "  <th>Time:</th>              <td>16:05:40</td>     <th>  BIC                </th> <td>-8.570</td>\n",
              "</tr>\n",
              "<tr>\n",
              "  <th>Sample:</th>           <td>04-01-2019</td>    <th>  HQIC               </th> <td>-9.069</td>\n",
              "</tr>\n",
              "<tr>\n",
              "  <th></th>                 <td>- 07-01-2022</td>   <th>                     </th>    <td> </td>  \n",
              "</tr>\n",
              "</table>\n",
              "<table class=\"simpletable\">\n",
              "<tr>\n",
              "       <td></td>         <th>coef</th>     <th>std err</th>      <th>z</th>      <th>P>|z|</th>  <th>[0.025</th>    <th>0.975]</th>  \n",
              "</tr>\n",
              "<tr>\n",
              "  <th>const</th>      <td>    0.1582</td> <td>    0.059</td> <td>    2.666</td> <td> 0.008</td> <td>    0.042</td> <td>    0.274</td>\n",
              "</tr>\n",
              "<tr>\n",
              "  <th>infla.L1</th>   <td>    0.2707</td> <td>    0.393</td> <td>    0.689</td> <td> 0.491</td> <td>   -0.499</td> <td>    1.041</td>\n",
              "</tr>\n",
              "<tr>\n",
              "  <th>infla.L2</th>   <td>   -0.2085</td> <td>    0.301</td> <td>   -0.693</td> <td> 0.489</td> <td>   -0.798</td> <td>    0.382</td>\n",
              "</tr>\n",
              "<tr>\n",
              "  <th>infla.L3</th>   <td>   -0.8021</td> <td>    0.325</td> <td>   -2.470</td> <td> 0.013</td> <td>   -1.439</td> <td>   -0.166</td>\n",
              "</tr>\n",
              "<tr>\n",
              "  <th>infla.L4</th>   <td>   -0.1861</td> <td>    0.407</td> <td>   -0.457</td> <td> 0.648</td> <td>   -0.984</td> <td>    0.612</td>\n",
              "</tr>\n",
              "<tr>\n",
              "  <th>L1.desocup</th> <td>   -0.4159</td> <td>    0.197</td> <td>   -2.115</td> <td> 0.034</td> <td>   -0.801</td> <td>   -0.030</td>\n",
              "</tr>\n",
              "<tr>\n",
              "  <th>L2.desocup</th> <td>    0.1874</td> <td>    0.234</td> <td>    0.800</td> <td> 0.424</td> <td>   -0.272</td> <td>    0.647</td>\n",
              "</tr>\n",
              "<tr>\n",
              "  <th>L3.desocup</th> <td>   -0.4948</td> <td>    0.245</td> <td>   -2.023</td> <td> 0.043</td> <td>   -0.974</td> <td>   -0.015</td>\n",
              "</tr>\n",
              "<tr>\n",
              "  <th>L4.desocup</th> <td>   -0.1898</td> <td>    0.244</td> <td>   -0.777</td> <td> 0.437</td> <td>   -0.669</td> <td>    0.289</td>\n",
              "</tr>\n",
              "</table>\n",
              "<table class=\"simpletable\">\n",
              "<caption>Roots</caption>\n",
              "<tr>\n",
              "    <td></td>   <th>            Real</th>  <th>         Imaginary</th> <th>         Modulus</th>  <th>        Frequency</th>\n",
              "</tr>\n",
              "<tr>\n",
              "  <th>AR.1</th> <td>           0.5323</td> <td>          -0.7886j</td> <td>           0.9514</td> <td>          -0.1555</td>\n",
              "</tr>\n",
              "<tr>\n",
              "  <th>AR.2</th> <td>           0.5323</td> <td>          +0.7886j</td> <td>           0.9514</td> <td>           0.1555</td>\n",
              "</tr>\n",
              "<tr>\n",
              "  <th>AR.3</th> <td>          -1.5537</td> <td>          -0.0000j</td> <td>           1.5537</td> <td>          -0.5000</td>\n",
              "</tr>\n",
              "<tr>\n",
              "  <th>AR.4</th> <td>          -3.8201</td> <td>          -0.0000j</td> <td>           3.8201</td> <td>          -0.5000</td>\n",
              "</tr>\n",
              "</table>"
            ]
          },
          "metadata": {},
          "execution_count": 22
        }
      ]
    },
    {
      "cell_type": "code",
      "source": [
        "# Agrego todos los datos nuevamente\n",
        "datos=pd.DataFrame({\"infla\":list(infla['Nivel general - current_prices_mom'][1:-2]/100), \"desocup\":list(desocup['TOTAL AGLOMERADOS EPH - Tasa Desempleo'][1:])}, index=infla['Date'][1:-2])\n",
        "datos['D.Infla']=datos['infla']-datos['infla'].shift(1)\n",
        "datos=datos.dropna()"
      ],
      "metadata": {
        "id": "4CEYZw9ZDGvN"
      },
      "execution_count": 33,
      "outputs": []
    },
    {
      "cell_type": "markdown",
      "source": [
        "# Figura 14.3"
      ],
      "metadata": {
        "id": "Xw7qepPiEMi5"
      }
    },
    {
      "cell_type": "code",
      "source": [
        "import numpy as np\n",
        "x=datos['desocup']\n",
        "y=datos['D.Infla']\n",
        "plt.plot(x, y, 'o')\n",
        "m, b = np.polyfit(x, y, 1)\n",
        "plt.plot(x, m*x+b, color='red')"
      ],
      "metadata": {
        "id": "WNTjBtxADgRF",
        "outputId": "5601f3ae-7f8f-4de5-c119-309f99728890",
        "colab": {
          "base_uri": "https://localhost:8080/",
          "height": 282
        }
      },
      "execution_count": 34,
      "outputs": [
        {
          "output_type": "execute_result",
          "data": {
            "text/plain": [
              "[<matplotlib.lines.Line2D at 0x7f5b8a69b700>]"
            ]
          },
          "metadata": {},
          "execution_count": 34
        },
        {
          "output_type": "display_data",
          "data": {
            "text/plain": [
              "<Figure size 432x288 with 1 Axes>"
            ],
            "image/png": "[encoded data removed]"
          },
          "metadata": {
            "needs_background": "light"
          }
        }
      ]
    }
  ]
}