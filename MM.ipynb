{
  "nbformat": 4,
  "nbformat_minor": 0,
  "metadata": {
    "colab": {
      "provenance": [],
      "authorship_tag": "ABX9TyM/ADqkiTfnt04jGI11Epuf",
      "include_colab_link": true
    },
    "kernelspec": {
      "name": "python3",
      "display_name": "Python 3"
    },
    "language_info": {
      "name": "python"
    }
  },
  "cells": [
    {
      "cell_type": "markdown",
      "metadata": {
        "id": "view-in-github",
        "colab_type": "text"
      },
      "source": [
        "<a href=\"https://colab.research.google.com/github/LCaravaggio/AnalisisCuantitativoAvanzado/blob/main/MM.ipynb\" target=\"_parent\"><img src=\"https://colab.research.google.com/assets/colab-badge.svg\" alt=\"Open In Colab\"/></a>"
      ]
    },
    {
      "cell_type": "markdown",
      "source": [
        "# Librerías"
      ],
      "metadata": {
        "id": "g3K4W2K2fXi8"
      }
    },
    {
      "cell_type": "code",
      "source": [
        "import pandas as pd\n",
        "import numpy as np\n",
        "import requests\n",
        "\n",
        "import matplotlib.pyplot as plt\n",
        "\n",
        "from sklearn import linear_model"
      ],
      "metadata": {
        "id": "PnRq8GjVfaZr"
      },
      "execution_count": 74,
      "outputs": []
    },
    {
      "cell_type": "markdown",
      "source": [
        "# Capítulo 4"
      ],
      "metadata": {
        "id": "iRZNFXWYfIm9"
      }
    },
    {
      "cell_type": "code",
      "source": [
        "response = requests.get('http://masteringmetrics.com/wp-content/uploads/2015/01/AEJfigs.dta', stream=True, headers={\"User-Agent\": \"Mozilla/5.0 (X11; CrOS x86_64 12871.102.0) AppleWebKit/537.36 (KHTML, like Gecko) Chrome/81.0.4044.141 Safari/537.36\"})"
      ],
      "metadata": {
        "id": "LM3s94VkfgKR"
      },
      "execution_count": 38,
      "outputs": []
    },
    {
      "cell_type": "code",
      "source": [
        "if response.ok:\n",
        "    file = open('AEJfigs.dta', \"wb+\") # write, binary, allow creation\n",
        "    file.write(response.content)\n",
        "    file.close()\n",
        "else:\n",
        "    print(\"Failed to get the file\")"
      ],
      "metadata": {
        "id": "8wvctLV2fzEB"
      },
      "execution_count": 39,
      "outputs": []
    },
    {
      "cell_type": "code",
      "source": [
        "df = pd.read_stata('AEJfigs.dta')"
      ],
      "metadata": {
        "id": "ks-71ChycV7G"
      },
      "execution_count": 40,
      "outputs": []
    },
    {
      "cell_type": "code",
      "source": [
        "df.head(2)"
      ],
      "metadata": {
        "colab": {
          "base_uri": "https://localhost:8080/",
          "height": 176
        },
        "id": "8ZzejK8DgDEi",
        "outputId": "17860986-e71f-4874-d6b5-99c3fe9f6412"
      },
      "execution_count": 43,
      "outputs": [
        {
          "output_type": "execute_result",
          "data": {
            "text/plain": [
              "     agecell        all  allfitted   internal  internalfitted   external  \\\n",
              "0  19.068493  92.825401  91.706146  16.617590       16.738131  76.207817   \n",
              "1  19.150684  95.100739  91.883720  18.327684       16.920654  76.773056   \n",
              "\n",
              "   externalfitted   alcohol  alcoholfitted   homicide  homicidefitted  \\\n",
              "0       74.968010  0.639138       0.794344  16.316818       16.284573   \n",
              "1       74.963066  0.677409       0.837575  16.859964       16.270697   \n",
              "\n",
              "     suicide  suicidefitted        mva  mvafitted     drugs  drugsfitted  \\\n",
              "0  11.203714      11.592100  35.829327  34.817780  3.872425     3.448835   \n",
              "1  12.193368      11.593611  35.639256  34.633888  3.236511     3.470022   \n",
              "\n",
              "   externalother  externalotherfitted  \n",
              "0       8.534373             8.388236  \n",
              "1       8.655786             8.530174  "
            ],
            "text/html": [
              "\n",
              "  <div id=\"df-faefc0d3-2450-4d78-8b3d-a674392fb513\">\n",
              "    <div class=\"colab-df-container\">\n",
              "      <div>\n",
              "<style scoped>\n",
              "    .dataframe tbody tr th:only-of-type {\n",
              "        vertical-align: middle;\n",
              "    }\n",
              "\n",
              "    .dataframe tbody tr th {\n",
              "        vertical-align: top;\n",
              "    }\n",
              "\n",
              "    .dataframe thead th {\n",
              "        text-align: right;\n",
              "    }\n",
              "</style>\n",
              "<table border=\"1\" class=\"dataframe\">\n",
              "  <thead>\n",
              "    <tr style=\"text-align: right;\">\n",
              "      <th></th>\n",
              "      <th>agecell</th>\n",
              "      <th>all</th>\n",
              "      <th>allfitted</th>\n",
              "      <th>internal</th>\n",
              "      <th>internalfitted</th>\n",
              "      <th>external</th>\n",
              "      <th>externalfitted</th>\n",
              "      <th>alcohol</th>\n",
              "      <th>alcoholfitted</th>\n",
              "      <th>homicide</th>\n",
              "      <th>homicidefitted</th>\n",
              "      <th>suicide</th>\n",
              "      <th>suicidefitted</th>\n",
              "      <th>mva</th>\n",
              "      <th>mvafitted</th>\n",
              "      <th>drugs</th>\n",
              "      <th>drugsfitted</th>\n",
              "      <th>externalother</th>\n",
              "      <th>externalotherfitted</th>\n",
              "    </tr>\n",
              "  </thead>\n",
              "  <tbody>\n",
              "    <tr>\n",
              "      <th>0</th>\n",
              "      <td>19.068493</td>\n",
              "      <td>92.825401</td>\n",
              "      <td>91.706146</td>\n",
              "      <td>16.617590</td>\n",
              "      <td>16.738131</td>\n",
              "      <td>76.207817</td>\n",
              "      <td>74.968010</td>\n",
              "      <td>0.639138</td>\n",
              "      <td>0.794344</td>\n",
              "      <td>16.316818</td>\n",
              "      <td>16.284573</td>\n",
              "      <td>11.203714</td>\n",
              "      <td>11.592100</td>\n",
              "      <td>35.829327</td>\n",
              "      <td>34.817780</td>\n",
              "      <td>3.872425</td>\n",
              "      <td>3.448835</td>\n",
              "      <td>8.534373</td>\n",
              "      <td>8.388236</td>\n",
              "    </tr>\n",
              "    <tr>\n",
              "      <th>1</th>\n",
              "      <td>19.150684</td>\n",
              "      <td>95.100739</td>\n",
              "      <td>91.883720</td>\n",
              "      <td>18.327684</td>\n",
              "      <td>16.920654</td>\n",
              "      <td>76.773056</td>\n",
              "      <td>74.963066</td>\n",
              "      <td>0.677409</td>\n",
              "      <td>0.837575</td>\n",
              "      <td>16.859964</td>\n",
              "      <td>16.270697</td>\n",
              "      <td>12.193368</td>\n",
              "      <td>11.593611</td>\n",
              "      <td>35.639256</td>\n",
              "      <td>34.633888</td>\n",
              "      <td>3.236511</td>\n",
              "      <td>3.470022</td>\n",
              "      <td>8.655786</td>\n",
              "      <td>8.530174</td>\n",
              "    </tr>\n",
              "  </tbody>\n",
              "</table>\n",
              "</div>\n",
              "      <button class=\"colab-df-convert\" onclick=\"convertToInteractive('df-faefc0d3-2450-4d78-8b3d-a674392fb513')\"\n",
              "              title=\"Convert this dataframe to an interactive table.\"\n",
              "              style=\"display:none;\">\n",
              "        \n",
              "  <svg xmlns=\"http://www.w3.org/2000/svg\" height=\"24px\"viewBox=\"0 0 24 24\"\n",
              "       width=\"24px\">\n",
              "    <path d=\"M0 0h24v24H0V0z\" fill=\"none\"/>\n",
              "    <path d=\"M18.56 5.44l.94 2.06.94-2.06 2.06-.94-2.06-.94-.94-2.06-.94 2.06-2.06.94zm-11 1L8.5 8.5l.94-2.06 2.06-.94-2.06-.94L8.5 2.5l-.94 2.06-2.06.94zm10 10l.94 2.06.94-2.06 2.06-.94-2.06-.94-.94-2.06-.94 2.06-2.06.94z\"/><path d=\"M17.41 7.96l-1.37-1.37c-.4-.4-.92-.59-1.43-.59-.52 0-1.04.2-1.43.59L10.3 9.45l-7.72 7.72c-.78.78-.78 2.05 0 2.83L4 21.41c.39.39.9.59 1.41.59.51 0 1.02-.2 1.41-.59l7.78-7.78 2.81-2.81c.8-.78.8-2.07 0-2.86zM5.41 20L4 18.59l7.72-7.72 1.47 1.35L5.41 20z\"/>\n",
              "  </svg>\n",
              "      </button>\n",
              "      \n",
              "  <style>\n",
              "    .colab-df-container {\n",
              "      display:flex;\n",
              "      flex-wrap:wrap;\n",
              "      gap: 12px;\n",
              "    }\n",
              "\n",
              "    .colab-df-convert {\n",
              "      background-color: #E8F0FE;\n",
              "      border: none;\n",
              "      border-radius: 50%;\n",
              "      cursor: pointer;\n",
              "      display: none;\n",
              "      fill: #1967D2;\n",
              "      height: 32px;\n",
              "      padding: 0 0 0 0;\n",
              "      width: 32px;\n",
              "    }\n",
              "\n",
              "    .colab-df-convert:hover {\n",
              "      background-color: #E2EBFA;\n",
              "      box-shadow: 0px 1px 2px rgba(60, 64, 67, 0.3), 0px 1px 3px 1px rgba(60, 64, 67, 0.15);\n",
              "      fill: #174EA6;\n",
              "    }\n",
              "\n",
              "    [theme=dark] .colab-df-convert {\n",
              "      background-color: #3B4455;\n",
              "      fill: #D2E3FC;\n",
              "    }\n",
              "\n",
              "    [theme=dark] .colab-df-convert:hover {\n",
              "      background-color: #434B5C;\n",
              "      box-shadow: 0px 1px 3px 1px rgba(0, 0, 0, 0.15);\n",
              "      filter: drop-shadow(0px 1px 2px rgba(0, 0, 0, 0.3));\n",
              "      fill: #FFFFFF;\n",
              "    }\n",
              "  </style>\n",
              "\n",
              "      <script>\n",
              "        const buttonEl =\n",
              "          document.querySelector('#df-faefc0d3-2450-4d78-8b3d-a674392fb513 button.colab-df-convert');\n",
              "        buttonEl.style.display =\n",
              "          google.colab.kernel.accessAllowed ? 'block' : 'none';\n",
              "\n",
              "        async function convertToInteractive(key) {\n",
              "          const element = document.querySelector('#df-faefc0d3-2450-4d78-8b3d-a674392fb513');\n",
              "          const dataTable =\n",
              "            await google.colab.kernel.invokeFunction('convertToInteractive',\n",
              "                                                     [key], {});\n",
              "          if (!dataTable) return;\n",
              "\n",
              "          const docLinkHtml = 'Like what you see? Visit the ' +\n",
              "            '<a target=\"_blank\" href=https://colab.research.google.com/notebooks/data_table.ipynb>data table notebook</a>'\n",
              "            + ' to learn more about interactive tables.';\n",
              "          element.innerHTML = '';\n",
              "          dataTable['output_type'] = 'display_data';\n",
              "          await google.colab.output.renderOutput(dataTable, element);\n",
              "          const docLink = document.createElement('div');\n",
              "          docLink.innerHTML = docLinkHtml;\n",
              "          element.appendChild(docLink);\n",
              "        }\n",
              "      </script>\n",
              "    </div>\n",
              "  </div>\n",
              "  "
            ]
          },
          "metadata": {},
          "execution_count": 43
        }
      ]
    },
    {
      "cell_type": "code",
      "source": [
        "plt.ylim([80, 115])\n",
        "plt.scatter(df.agecell, df['all'])"
      ],
      "metadata": {
        "colab": {
          "base_uri": "https://localhost:8080/",
          "height": 286
        },
        "id": "fhN5SLZNh_xR",
        "outputId": "171c216d-9a43-4721-f6eb-01f65239c991"
      },
      "execution_count": 52,
      "outputs": [
        {
          "output_type": "execute_result",
          "data": {
            "text/plain": [
              "<matplotlib.collections.PathCollection at 0x7f8bec9baf10>"
            ]
          },
          "metadata": {},
          "execution_count": 52
        },
        {
          "output_type": "display_data",
          "data": {
            "text/plain": [
              "<Figure size 432x288 with 1 Axes>"
            ],
            "image/png": "[encoded data removed]"
          },
          "metadata": {
            "needs_background": "light"
          }
        }
      ]
    },
    {
      "cell_type": "code",
      "source": [
        "df['DA']=\"0\"\n",
        "df.loc[df['agecell'] >= 21, 'DA'] = 1"
      ],
      "metadata": {
        "id": "3zZVRWZ-jGIC"
      },
      "execution_count": 61,
      "outputs": []
    },
    {
      "cell_type": "code",
      "source": [
        "df=df.dropna()"
      ],
      "metadata": {
        "id": "BC96Ss9ul51v"
      },
      "execution_count": 65,
      "outputs": []
    },
    {
      "cell_type": "code",
      "source": [
        "vars=['DA', 'agecell']\n",
        "X = df[vars].values\n",
        "y = df['all'].values\n",
        "lr = linear_model.LinearRegression()\n",
        "lr.fit(X, y)\n",
        "lr.coef_"
      ],
      "metadata": {
        "colab": {
          "base_uri": "https://localhost:8080/"
        },
        "id": "ArzbLIN1lSOI",
        "outputId": "c9b9fda5-2810-4d09-c71d-c2e8fe6c2a9a"
      },
      "execution_count": 68,
      "outputs": [
        {
          "output_type": "execute_result",
          "data": {
            "text/plain": [
              "array([ 7.66270892, -0.97468427])"
            ]
          },
          "metadata": {},
          "execution_count": 68
        }
      ]
    },
    {
      "cell_type": "code",
      "source": [
        "pd.options.mode.chained_assignment = None  # default='warn'\n",
        "df['A2']=0\n",
        "df['A2']=np.square(df['agecell'])"
      ],
      "metadata": {
        "id": "YtmdtANjsc-T"
      },
      "execution_count": 81,
      "outputs": []
    },
    {
      "cell_type": "code",
      "source": [
        "vars=['DA', 'agecell', 'A2']\n",
        "X = df[vars].values\n",
        "y = df['all'].values\n",
        "lr = linear_model.LinearRegression()\n",
        "lr.fit(X, y)\n",
        "lr.coef_"
      ],
      "metadata": {
        "colab": {
          "base_uri": "https://localhost:8080/"
        },
        "id": "SPHpreSgwKoJ",
        "outputId": "9d18d070-e309-4df8-f552-7f024c40c936"
      },
      "execution_count": 82,
      "outputs": [
        {
          "output_type": "execute_result",
          "data": {
            "text/plain": [
              "array([ 7.6627157 , 33.40861199, -0.81865001])"
            ]
          },
          "metadata": {},
          "execution_count": 82
        }
      ]
    },
    {
      "cell_type": "markdown",
      "source": [
        "# Capítulo 5"
      ],
      "metadata": {
        "id": "7SHuwDOefFJF"
      }
    },
    {
      "cell_type": "code",
      "source": [
        "response = requests.get('http://masteringmetrics.com/wp-content/uploads/2015/02/banks.csv', stream=True, headers={\"User-Agent\": \"Mozilla/5.0 (X11; CrOS x86_64 12871.102.0) AppleWebKit/537.36 (KHTML, like Gecko) Chrome/81.0.4044.141 Safari/537.36\"})"
      ],
      "metadata": {
        "id": "gbHOvVLgbwtR"
      },
      "execution_count": 35,
      "outputs": []
    },
    {
      "cell_type": "code",
      "source": [
        "with open('banks.csv', 'w') as f:\n",
        "    writer = csv.writer(f)\n",
        "    for line in response.iter_lines():\n",
        "        writer.writerow(line.decode('utf-8').split(','))"
      ],
      "metadata": {
        "id": "7xTbohO5eiNN"
      },
      "execution_count": 36,
      "outputs": []
    },
    {
      "cell_type": "code",
      "source": [
        "pd.read_csv('/content/banks.csv')"
      ],
      "metadata": {
        "colab": {
          "base_uri": "https://localhost:8080/",
          "height": 424
        },
        "id": "xQ9PZl_8dRiV",
        "outputId": "40222e6a-dd63-4766-d870-f5027f7067b2"
      },
      "execution_count": 37,
      "outputs": [
        {
          "output_type": "execute_result",
          "data": {
            "text/plain": [
              "         date    weekday   day  month    year   bib6   bio6   bib8   bio8\n",
              "0     10775.0     Monday   1.0    7.0  1929.0  141.0  141.0  169.0  169.0\n",
              "1     10776.0    Tuesday   2.0    7.0  1929.0  141.0  141.0  169.0  169.0\n",
              "2     10777.0  Wednesday   3.0    7.0  1929.0  141.0  141.0  169.0  169.0\n",
              "3     10778.0   Thursday   4.0    7.0  1929.0  141.0  141.0  169.0  169.0\n",
              "4     10779.0     Friday   5.0    7.0  1929.0  141.0  141.0  169.0  169.0\n",
              "...       ...        ...   ...    ...     ...    ...    ...    ...    ...\n",
              "1879  12648.0     Friday  17.0    8.0  1934.0  102.0  103.0  109.0  108.0\n",
              "1880  12649.0   Saturday  18.0    8.0  1934.0  102.0  103.0  109.0  108.0\n",
              "1881  12650.0     Sunday  19.0    8.0  1934.0  102.0  103.0  109.0  108.0\n",
              "1882  12651.0     Monday  20.0    8.0  1934.0  102.0  103.0  109.0  108.0\n",
              "1883  12652.0    Tuesday  21.0    8.0  1934.0  102.0  103.0  109.0  109.0\n",
              "\n",
              "[1884 rows x 9 columns]"
            ],
            "text/html": [
              "\n",
              "  <div id=\"df-33b9d10a-4dce-4db3-9782-efb5b5e3daf2\">\n",
              "    <div class=\"colab-df-container\">\n",
              "      <div>\n",
              "<style scoped>\n",
              "    .dataframe tbody tr th:only-of-type {\n",
              "        vertical-align: middle;\n",
              "    }\n",
              "\n",
              "    .dataframe tbody tr th {\n",
              "        vertical-align: top;\n",
              "    }\n",
              "\n",
              "    .dataframe thead th {\n",
              "        text-align: right;\n",
              "    }\n",
              "</style>\n",
              "<table border=\"1\" class=\"dataframe\">\n",
              "  <thead>\n",
              "    <tr style=\"text-align: right;\">\n",
              "      <th></th>\n",
              "      <th>date</th>\n",
              "      <th>weekday</th>\n",
              "      <th>day</th>\n",
              "      <th>month</th>\n",
              "      <th>year</th>\n",
              "      <th>bib6</th>\n",
              "      <th>bio6</th>\n",
              "      <th>bib8</th>\n",
              "      <th>bio8</th>\n",
              "    </tr>\n",
              "  </thead>\n",
              "  <tbody>\n",
              "    <tr>\n",
              "      <th>0</th>\n",
              "      <td>10775.0</td>\n",
              "      <td>Monday</td>\n",
              "      <td>1.0</td>\n",
              "      <td>7.0</td>\n",
              "      <td>1929.0</td>\n",
              "      <td>141.0</td>\n",
              "      <td>141.0</td>\n",
              "      <td>169.0</td>\n",
              "      <td>169.0</td>\n",
              "    </tr>\n",
              "    <tr>\n",
              "      <th>1</th>\n",
              "      <td>10776.0</td>\n",
              "      <td>Tuesday</td>\n",
              "      <td>2.0</td>\n",
              "      <td>7.0</td>\n",
              "      <td>1929.0</td>\n",
              "      <td>141.0</td>\n",
              "      <td>141.0</td>\n",
              "      <td>169.0</td>\n",
              "      <td>169.0</td>\n",
              "    </tr>\n",
              "    <tr>\n",
              "      <th>2</th>\n",
              "      <td>10777.0</td>\n",
              "      <td>Wednesday</td>\n",
              "      <td>3.0</td>\n",
              "      <td>7.0</td>\n",
              "      <td>1929.0</td>\n",
              "      <td>141.0</td>\n",
              "      <td>141.0</td>\n",
              "      <td>169.0</td>\n",
              "      <td>169.0</td>\n",
              "    </tr>\n",
              "    <tr>\n",
              "      <th>3</th>\n",
              "      <td>10778.0</td>\n",
              "      <td>Thursday</td>\n",
              "      <td>4.0</td>\n",
              "      <td>7.0</td>\n",
              "      <td>1929.0</td>\n",
              "      <td>141.0</td>\n",
              "      <td>141.0</td>\n",
              "      <td>169.0</td>\n",
              "      <td>169.0</td>\n",
              "    </tr>\n",
              "    <tr>\n",
              "      <th>4</th>\n",
              "      <td>10779.0</td>\n",
              "      <td>Friday</td>\n",
              "      <td>5.0</td>\n",
              "      <td>7.0</td>\n",
              "      <td>1929.0</td>\n",
              "      <td>141.0</td>\n",
              "      <td>141.0</td>\n",
              "      <td>169.0</td>\n",
              "      <td>169.0</td>\n",
              "    </tr>\n",
              "    <tr>\n",
              "      <th>...</th>\n",
              "      <td>...</td>\n",
              "      <td>...</td>\n",
              "      <td>...</td>\n",
              "      <td>...</td>\n",
              "      <td>...</td>\n",
              "      <td>...</td>\n",
              "      <td>...</td>\n",
              "      <td>...</td>\n",
              "      <td>...</td>\n",
              "    </tr>\n",
              "    <tr>\n",
              "      <th>1879</th>\n",
              "      <td>12648.0</td>\n",
              "      <td>Friday</td>\n",
              "      <td>17.0</td>\n",
              "      <td>8.0</td>\n",
              "      <td>1934.0</td>\n",
              "      <td>102.0</td>\n",
              "      <td>103.0</td>\n",
              "      <td>109.0</td>\n",
              "      <td>108.0</td>\n",
              "    </tr>\n",
              "    <tr>\n",
              "      <th>1880</th>\n",
              "      <td>12649.0</td>\n",
              "      <td>Saturday</td>\n",
              "      <td>18.0</td>\n",
              "      <td>8.0</td>\n",
              "      <td>1934.0</td>\n",
              "      <td>102.0</td>\n",
              "      <td>103.0</td>\n",
              "      <td>109.0</td>\n",
              "      <td>108.0</td>\n",
              "    </tr>\n",
              "    <tr>\n",
              "      <th>1881</th>\n",
              "      <td>12650.0</td>\n",
              "      <td>Sunday</td>\n",
              "      <td>19.0</td>\n",
              "      <td>8.0</td>\n",
              "      <td>1934.0</td>\n",
              "      <td>102.0</td>\n",
              "      <td>103.0</td>\n",
              "      <td>109.0</td>\n",
              "      <td>108.0</td>\n",
              "    </tr>\n",
              "    <tr>\n",
              "      <th>1882</th>\n",
              "      <td>12651.0</td>\n",
              "      <td>Monday</td>\n",
              "      <td>20.0</td>\n",
              "      <td>8.0</td>\n",
              "      <td>1934.0</td>\n",
              "      <td>102.0</td>\n",
              "      <td>103.0</td>\n",
              "      <td>109.0</td>\n",
              "      <td>108.0</td>\n",
              "    </tr>\n",
              "    <tr>\n",
              "      <th>1883</th>\n",
              "      <td>12652.0</td>\n",
              "      <td>Tuesday</td>\n",
              "      <td>21.0</td>\n",
              "      <td>8.0</td>\n",
              "      <td>1934.0</td>\n",
              "      <td>102.0</td>\n",
              "      <td>103.0</td>\n",
              "      <td>109.0</td>\n",
              "      <td>109.0</td>\n",
              "    </tr>\n",
              "  </tbody>\n",
              "</table>\n",
              "<p>1884 rows × 9 columns</p>\n",
              "</div>\n",
              "      <button class=\"colab-df-convert\" onclick=\"convertToInteractive('df-33b9d10a-4dce-4db3-9782-efb5b5e3daf2')\"\n",
              "              title=\"Convert this dataframe to an interactive table.\"\n",
              "              style=\"display:none;\">\n",
              "        \n",
              "  <svg xmlns=\"http://www.w3.org/2000/svg\" height=\"24px\"viewBox=\"0 0 24 24\"\n",
              "       width=\"24px\">\n",
              "    <path d=\"M0 0h24v24H0V0z\" fill=\"none\"/>\n",
              "    <path d=\"M18.56 5.44l.94 2.06.94-2.06 2.06-.94-2.06-.94-.94-2.06-.94 2.06-2.06.94zm-11 1L8.5 8.5l.94-2.06 2.06-.94-2.06-.94L8.5 2.5l-.94 2.06-2.06.94zm10 10l.94 2.06.94-2.06 2.06-.94-2.06-.94-.94-2.06-.94 2.06-2.06.94z\"/><path d=\"M17.41 7.96l-1.37-1.37c-.4-.4-.92-.59-1.43-.59-.52 0-1.04.2-1.43.59L10.3 9.45l-7.72 7.72c-.78.78-.78 2.05 0 2.83L4 21.41c.39.39.9.59 1.41.59.51 0 1.02-.2 1.41-.59l7.78-7.78 2.81-2.81c.8-.78.8-2.07 0-2.86zM5.41 20L4 18.59l7.72-7.72 1.47 1.35L5.41 20z\"/>\n",
              "  </svg>\n",
              "      </button>\n",
              "      \n",
              "  <style>\n",
              "    .colab-df-container {\n",
              "      display:flex;\n",
              "      flex-wrap:wrap;\n",
              "      gap: 12px;\n",
              "    }\n",
              "\n",
              "    .colab-df-convert {\n",
              "      background-color: #E8F0FE;\n",
              "      border: none;\n",
              "      border-radius: 50%;\n",
              "      cursor: pointer;\n",
              "      display: none;\n",
              "      fill: #1967D2;\n",
              "      height: 32px;\n",
              "      padding: 0 0 0 0;\n",
              "      width: 32px;\n",
              "    }\n",
              "\n",
              "    .colab-df-convert:hover {\n",
              "      background-color: #E2EBFA;\n",
              "      box-shadow: 0px 1px 2px rgba(60, 64, 67, 0.3), 0px 1px 3px 1px rgba(60, 64, 67, 0.15);\n",
              "      fill: #174EA6;\n",
              "    }\n",
              "\n",
              "    [theme=dark] .colab-df-convert {\n",
              "      background-color: #3B4455;\n",
              "      fill: #D2E3FC;\n",
              "    }\n",
              "\n",
              "    [theme=dark] .colab-df-convert:hover {\n",
              "      background-color: #434B5C;\n",
              "      box-shadow: 0px 1px 3px 1px rgba(0, 0, 0, 0.15);\n",
              "      filter: drop-shadow(0px 1px 2px rgba(0, 0, 0, 0.3));\n",
              "      fill: #FFFFFF;\n",
              "    }\n",
              "  </style>\n",
              "\n",
              "      <script>\n",
              "        const buttonEl =\n",
              "          document.querySelector('#df-33b9d10a-4dce-4db3-9782-efb5b5e3daf2 button.colab-df-convert');\n",
              "        buttonEl.style.display =\n",
              "          google.colab.kernel.accessAllowed ? 'block' : 'none';\n",
              "\n",
              "        async function convertToInteractive(key) {\n",
              "          const element = document.querySelector('#df-33b9d10a-4dce-4db3-9782-efb5b5e3daf2');\n",
              "          const dataTable =\n",
              "            await google.colab.kernel.invokeFunction('convertToInteractive',\n",
              "                                                     [key], {});\n",
              "          if (!dataTable) return;\n",
              "\n",
              "          const docLinkHtml = 'Like what you see? Visit the ' +\n",
              "            '<a target=\"_blank\" href=https://colab.research.google.com/notebooks/data_table.ipynb>data table notebook</a>'\n",
              "            + ' to learn more about interactive tables.';\n",
              "          element.innerHTML = '';\n",
              "          dataTable['output_type'] = 'display_data';\n",
              "          await google.colab.output.renderOutput(dataTable, element);\n",
              "          const docLink = document.createElement('div');\n",
              "          docLink.innerHTML = docLinkHtml;\n",
              "          element.appendChild(docLink);\n",
              "        }\n",
              "      </script>\n",
              "    </div>\n",
              "  </div>\n",
              "  "
            ]
          },
          "metadata": {},
          "execution_count": 37
        }
      ]
    }
  ]
}