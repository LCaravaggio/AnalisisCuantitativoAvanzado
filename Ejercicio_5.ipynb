{
  "nbformat": 4,
  "nbformat_minor": 0,
  "metadata": {
    "colab": {
      "name": "Ejercicio1.ipynb",
      "provenance": [],
      "authorship_tag": "ABX9TyMsoXYmxhI1DGG/RXwzNdDS",
      "include_colab_link": true
    },
    "kernelspec": {
      "name": "python3",
      "display_name": "Python 3"
    },
    "language_info": {
      "name": "python"
    }
  },
  "cells": [
    {
      "cell_type": "markdown",
      "metadata": {
        "id": "view-in-github",
        "colab_type": "text"
      },
      "source": [
        "<a href=\"https://colab.research.google.com/github/LCaravaggio/AnalisisCuantitativoAvanzado/blob/main/Ejercicio_5.ipynb\" target=\"_parent\"><img src=\"https://colab.research.google.com/assets/colab-badge.svg\" alt=\"Open In Colab\"/></a>"
      ]
    },
    {
      "cell_type": "markdown",
      "source": [
        "# Ejercicio 5"
      ],
      "metadata": {
        "id": "lCqZ9FzMxrSO"
      }
    },
    {
      "cell_type": "markdown",
      "source": [
        "Series de tiempo. Trabajo con datos del EMAE obtenidos con la API de Alphacast.\n",
        "\n",
        "Primero importamos todas las librerías necesarias"
      ],
      "metadata": {
        "id": "s4tcY5HixuLm"
      }
    },
    {
      "cell_type": "code",
      "execution_count": null,
      "metadata": {
        "id": "1PEKVTO-WdWl"
      },
      "outputs": [],
      "source": [
        "from google.colab import drive\n",
        "import json\n",
        "\n",
        "import requests\n",
        "from requests.auth import HTTPBasicAuth\n",
        "\n",
        "import pandas as pd\n",
        "\n",
        "from matplotlib import pyplot as plt\n",
        "import seaborn as sns"
      ]
    },
    {
      "cell_type": "markdown",
      "source": [
        "Por una cuestión de seguridad, tenemos la clave de la API guardada en el drive. \n",
        "\n",
        "Para obtener su API Key de Alphacast tienen que generar un usuario y acceder a https://www.alphacast.io/settings\n",
        "\n",
        "Después pueden dejar guardada su key en el Drive, o de alguna otra manera. \n",
        "\n",
        "Alternativamente podrían bajar el DataSet y cargarlo a mano. También es posible acceder a estos datos directamente desde [INDEC](https://www.indec.gob.ar/indec/web/Nivel4-Tema-3-9-48), pero esos datos no están estandarizados. "
      ],
      "metadata": {
        "id": "HxwQc4Ypxyga"
      }
    },
    {
      "cell_type": "code",
      "source": [
        "drive.mount('/content/drive', force_remount=True)\n",
        "with open(\"/content/drive/My Drive/alphacast.json\", 'r') as f:\n",
        "    api_token= json.load(f)"
      ],
      "metadata": {
        "colab": {
          "base_uri": "https://localhost:8080/"
        },
        "id": "-7zhUQqvWfxS",
        "outputId": "b54cca29-fbc9-4f33-c969-0cadaf301565"
      },
      "execution_count": null,
      "outputs": [
        {
          "output_type": "stream",
          "name": "stdout",
          "text": [
            "Mounted at /content/drive\n"
          ]
        }
      ]
    },
    {
      "cell_type": "code",
      "source": [
        "# Definir user key para la API\n",
        "user_key = api_token[\"key\"]"
      ],
      "metadata": {
        "id": "3pxEMECIWqge"
      },
      "execution_count": null,
      "outputs": []
    },
    {
      "cell_type": "markdown",
      "source": [
        "Traemos los datos que necesitamos"
      ],
      "metadata": {
        "id": "sXNq63K6yBGN"
      }
    },
    {
      "cell_type": "code",
      "source": [
        "# EMAE\n",
        "emae = requests.get('https://api.alphacast.io/datasets/5331/data?apiKey='+user_key+'&&$format=csv', auth=HTTPBasicAuth(user_key, ''))\n",
        "open('emae.csv','wb').write(emae.content)\n",
        "emae = pd.read_csv('emae.csv',delimiter = ',')"
      ],
      "metadata": {
        "id": "vEORXDt4W6xM"
      },
      "execution_count": null,
      "outputs": []
    },
    {
      "cell_type": "code",
      "source": [
        "emae['Date'] = pd.to_datetime(emae['Date'])\n",
        "emae.set_index('Date', inplace = True)\n",
        "emae = emae.loc['2004-01-01':]"
      ],
      "metadata": {
        "id": "YpoqavEtXSYS"
      },
      "execution_count": null,
      "outputs": []
    },
    {
      "cell_type": "markdown",
      "source": [
        "Preparamos una función para graficar"
      ],
      "metadata": {
        "id": "OoQZtGXYyGco"
      }
    },
    {
      "cell_type": "code",
      "source": [
        "sns.set_theme(style='darkgrid')\n",
        "def graficar(variable):\n",
        "    fig = sns.lineplot(x=emae.index, y=variable)\n",
        "    plt.title(variable.name)\n",
        "    plt.xlabel(\"Año\")\n",
        "    plt.savefig('%s.png'%variable.name)\n",
        "    return fig"
      ],
      "metadata": {
        "id": "1dqljEFrae3g"
      },
      "execution_count": null,
      "outputs": []
    },
    {
      "cell_type": "markdown",
      "source": [
        "Y la graficamos. Si bien la serie se estancadesde 2011, claramente su media depende del tiempo, por lo que no podemos quedarnos tranquilos que sea estacionaria. Por otro lado se observa su comportamiento estacional ya que lo que trajimos fue la serie original y no la desestacionalizada. "
      ],
      "metadata": {
        "id": "zlq4qFwOyJwl"
      }
    },
    {
      "cell_type": "markdown",
      "source": [
        "# Preguntas"
      ],
      "metadata": {
        "id": "ymrmpj3efe-i"
      }
    },
    {
      "cell_type": "markdown",
      "source": [
        "Pregunta 1: \n",
        "Que la serie sea estacionaria quiere decir que su media y su varianza no dependen del tiempo. ¿Es estacionaria esta serie? \n",
        "\n",
        "Ayuda: Tal vez con graficarla alcance.\n",
        "\n",
        "\n",
        "\n",
        "```\n",
        "graficar(emae['Emae'])\n",
        "```\n",
        "\n",
        "También podría graficar algunas transformaciones de la serie. Por ejemplo su media movil.\n",
        "\n",
        "```\n",
        "graficar(emae['Emae'].rolling(window=12).mean())\n",
        "```\n",
        "\n",
        "O su desvío estándar móvil\n",
        "\n",
        "\n",
        "\n",
        "```\n",
        "graficar(emae['Emae'].rolling(window=12).std())\n",
        "```\n",
        "\n",
        "\n",
        "\n"
      ],
      "metadata": {
        "id": "nK_rlFon1CQR"
      }
    },
    {
      "cell_type": "code",
      "source": [],
      "metadata": {
        "id": "CdiM_LhEgAje"
      },
      "execution_count": null,
      "outputs": []
    },
    {
      "cell_type": "markdown",
      "source": [
        "Pregunta 2: Las funciones de autocorrelación (FAC) y autocorrelación parcial (FAP) muestran el grado de vinculación del valor actual respecto de los valores pasados. Graficar. ¿Por qué sobresalen algunos elementos de la FAP?\n",
        "\n",
        "\n",
        "Ayuda: \n",
        "\n",
        "```\n",
        "from statsmodels.graphics.tsaplots import plot_acf\n",
        "\n",
        "plot_acf(emae['Emae'], lags=30)\n",
        "plt.show()\n",
        "```\n",
        "\n",
        "Más ayuda: \n",
        "\n",
        "```\n",
        "from statsmodels.graphics.tsaplots import plot_pacf\n",
        "\n",
        "plot_pacf(emae['Emae'], lags=30)\n",
        "plt.show()\n",
        "```\n",
        "\n",
        "\n",
        "\n",
        "\n"
      ],
      "metadata": {
        "id": "lzdbmV_Hk2Xs"
      }
    },
    {
      "cell_type": "code",
      "source": [],
      "metadata": {
        "id": "Y-ilzc9alvD-"
      },
      "execution_count": null,
      "outputs": []
    },
    {
      "cell_type": "markdown",
      "source": [
        "Pregunta 3: ¿Qué pasó en 2008 y 2020?\n",
        "\n",
        "\n",
        "Ayuda: \n",
        "\n",
        "\n",
        "\n",
        "```\n",
        "from statsmodels.tsa.seasonal import seasonal_decompose\n",
        "\n",
        "plt.rcParams[\"figure.figsize\"] = (10,10)\n",
        "decomposition=seasonal_decompose(emae)\n",
        "\n",
        "original=decomposition.observed\n",
        "trend=decomposition.trend\n",
        "seasonal=decomposition.seasonal\n",
        "residual=decomposition.resid\n",
        "\n",
        "plt.subplot(411)\n",
        "plt.plot(original, label='Original')\n",
        "plt.legend(loc='upper left')\n",
        "plt.subplot(412)\n",
        "plt.plot(trend, label='Tendencia')\n",
        "plt.legend(loc='upper left')\n",
        "plt.subplot(413)\n",
        "plt.plot(seasonal, label='Estacional')\n",
        "plt.legend(loc='upper left')\n",
        "plt.subplot(414)\n",
        "plt.plot(residual, label='Residuo')\n",
        "plt.legend(loc='upper left')\n",
        "plt.tight_layout()\n",
        "\n",
        "plt.show()\n",
        "```\n",
        "\n"
      ],
      "metadata": {
        "id": "NhFIrWGim_Hx"
      }
    },
    {
      "cell_type": "code",
      "source": [],
      "metadata": {
        "id": "HNqvMWd9qU3A"
      },
      "execution_count": null,
      "outputs": []
    },
    {
      "cell_type": "markdown",
      "source": [
        "Pregunta 4: ¿Qué son las otras columnas de nuestro Data Set? \n",
        "\n",
        "Ayuda: \n",
        "\n",
        "\n",
        "\n",
        "```\n",
        "emae.columns\n",
        "```\n",
        "\n",
        "Más ayuda: [EMAE - INDEC](https://www.indec.gob.ar/indec/web/Nivel4-Tema-3-9-48)"
      ],
      "metadata": {
        "id": "4r-p_wXYqXaf"
      }
    },
    {
      "cell_type": "markdown",
      "source": [
        "Pregunta 5: ¿Tendría sentido armar un modelo que busque explicar el EMAE a partir de las otras columnas del Data Set? \n",
        "\n",
        "Ayuda: No."
      ],
      "metadata": {
        "id": "ZK46VMDxrWzw"
      }
    },
    {
      "cell_type": "code",
      "source": [],
      "metadata": {
        "id": "dyGBtCsJrhsm"
      },
      "execution_count": null,
      "outputs": []
    }
  ]
}