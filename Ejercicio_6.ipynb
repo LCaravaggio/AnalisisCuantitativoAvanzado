{
  "nbformat": 4,
  "nbformat_minor": 0,
  "metadata": {
    "colab": {
      "provenance": [],
      "authorship_tag": "ABX9TyNT98+Re9fqQVMSGCcug0Na",
      "include_colab_link": true
    },
    "kernelspec": {
      "name": "python3",
      "display_name": "Python 3"
    },
    "language_info": {
      "name": "python"
    }
  },
  "cells": [
    {
      "cell_type": "markdown",
      "metadata": {
        "id": "view-in-github",
        "colab_type": "text"
      },
      "source": [
        "<a href=\"https://colab.research.google.com/github/LCaravaggio/AnalisisCuantitativoAvanzado/blob/main/Ejercicio_6.ipynb\" target=\"_parent\"><img src=\"https://colab.research.google.com/assets/colab-badge.svg\" alt=\"Open In Colab\"/></a>"
      ]
    },
    {
      "cell_type": "markdown",
      "source": [
        "# Ejercicio 6\n",
        "\n",
        "Clasificación con Naive Bayes"
      ],
      "metadata": {
        "id": "DY6woEVjocK1"
      }
    },
    {
      "cell_type": "code",
      "execution_count": 120,
      "metadata": {
        "colab": {
          "base_uri": "https://localhost:8080/"
        },
        "id": "fuIFvu2eobfH",
        "outputId": "76f8e5f7-eb4b-4b20-f9f6-42f01417cdb5"
      },
      "outputs": [
        {
          "output_type": "stream",
          "name": "stdout",
          "text": [
            "mkdir: cannot create directory ‘/root/.kaggle’: File exists\n",
            "Mounted at /content/drive\n",
            "simple-gender-classification.zip: Skipping, found more recently modified local copy (use --force to force download)\n"
          ]
        }
      ],
      "source": [
        "import pandas as pd\n",
        "import numpy as np\n",
        "     \n",
        "\n",
        "import json\n",
        "from google.colab import drive\n",
        "\n",
        "!mkdir ~/.kaggle\n",
        "!touch ~/.kaggle/kaggle.json\n",
        "\n",
        "drive.mount('/content/drive', force_remount=True)\n",
        "with open(\"/content/drive/My Drive/kaggle.json\", 'r') as f:\n",
        "    api_token= json.load(f)\n",
        "\n",
        "with open('/root/.kaggle/kaggle.json', 'w') as file:\n",
        "    json.dump(api_token, file)\n",
        "\n",
        "!chmod 600 ~/.kaggle/kaggle.json\n",
        "\n",
        "!kaggle datasets download -d muhammadtalharasool/simple-gender-classification"
      ]
    },
    {
      "cell_type": "code",
      "source": [
        "# Extraigo todos los archivos que están en el .zip que acabamos de \"bajar\". \n",
        "\n",
        "import zipfile\n",
        "import os\n",
        "\n",
        "os.listdir()\n",
        "\n",
        "for file in os.listdir():\n",
        "    if file.endswith('.zip'):\n",
        "      zip_ref = zipfile.ZipFile(file, 'r')\n",
        "      zip_ref.extractall()\n",
        "      zip_ref.close()"
      ],
      "metadata": {
        "id": "nIrxhO0irE5N"
      },
      "execution_count": 121,
      "outputs": []
    },
    {
      "cell_type": "code",
      "source": [
        "df = pd.read_csv('/content/gender.csv')"
      ],
      "metadata": {
        "id": "bK2SW75OrHE7"
      },
      "execution_count": 158,
      "outputs": []
    },
    {
      "cell_type": "code",
      "source": [
        "df"
      ],
      "metadata": {
        "colab": {
          "base_uri": "https://localhost:8080/",
          "height": 424
        },
        "id": "YeFkEWZLrXgx",
        "outputId": "c1c565d6-632a-4970-c05f-79e1b20e3bf8"
      },
      "execution_count": 159,
      "outputs": [
        {
          "output_type": "execute_result",
          "data": {
            "text/plain": [
              "      Gender   Age   Height (cm)   Weight (kg)             Occupation  \\\n",
              "0       male    32           175            70      Software Engineer   \n",
              "1       male    25           182            85   Sales Representative   \n",
              "2     female    41           160            62                 Doctor   \n",
              "3       male    38           178            79                 Lawyer   \n",
              "4     female    29           165            58       Graphic Designer   \n",
              "..       ...   ...           ...           ...                    ...   \n",
              "126   female    32           170            64                  Nurse   \n",
              "127     male    38           176            79        Project Manager   \n",
              "128   female    27           162            55       Graphic Designer   \n",
              "129     male    33           175            77   Sales Representative   \n",
              "130   female    29           164            57     Software Developer   \n",
              "\n",
              "         Education Level  Marital Status   Income (USD)  Favorite Color  \\\n",
              "0        Master's Degree         Married          75000            Blue   \n",
              "1      Bachelor's Degree          Single          45000           Green   \n",
              "2       Doctorate Degree         Married         120000          Purple   \n",
              "3      Bachelor's Degree          Single          90000             Red   \n",
              "4     Associate's Degree          Single          35000          Yellow   \n",
              "..                   ...             ...            ...             ...   \n",
              "126   Associate's Degree          Single          60000          Orange   \n",
              "127    Bachelor's Degree         Married          90000           Black   \n",
              "128   Associate's Degree          Single          55000           Green   \n",
              "129    Bachelor's Degree         Married          80000          Yellow   \n",
              "130    Bachelor's Degree          Single          65000            Blue   \n",
              "\n",
              "     Unnamed: 9  \n",
              "0           NaN  \n",
              "1           NaN  \n",
              "2           NaN  \n",
              "3           NaN  \n",
              "4           NaN  \n",
              "..          ...  \n",
              "126         NaN  \n",
              "127         NaN  \n",
              "128         NaN  \n",
              "129         NaN  \n",
              "130         NaN  \n",
              "\n",
              "[131 rows x 10 columns]"
            ],
            "text/html": [
              "\n",
              "  <div id=\"df-46651cbf-71ea-4f12-a9a1-d922b049cbe6\">\n",
              "    <div class=\"colab-df-container\">\n",
              "      <div>\n",
              "<style scoped>\n",
              "    .dataframe tbody tr th:only-of-type {\n",
              "        vertical-align: middle;\n",
              "    }\n",
              "\n",
              "    .dataframe tbody tr th {\n",
              "        vertical-align: top;\n",
              "    }\n",
              "\n",
              "    .dataframe thead th {\n",
              "        text-align: right;\n",
              "    }\n",
              "</style>\n",
              "<table border=\"1\" class=\"dataframe\">\n",
              "  <thead>\n",
              "    <tr style=\"text-align: right;\">\n",
              "      <th></th>\n",
              "      <th>Gender</th>\n",
              "      <th>Age</th>\n",
              "      <th>Height (cm)</th>\n",
              "      <th>Weight (kg)</th>\n",
              "      <th>Occupation</th>\n",
              "      <th>Education Level</th>\n",
              "      <th>Marital Status</th>\n",
              "      <th>Income (USD)</th>\n",
              "      <th>Favorite Color</th>\n",
              "      <th>Unnamed: 9</th>\n",
              "    </tr>\n",
              "  </thead>\n",
              "  <tbody>\n",
              "    <tr>\n",
              "      <th>0</th>\n",
              "      <td>male</td>\n",
              "      <td>32</td>\n",
              "      <td>175</td>\n",
              "      <td>70</td>\n",
              "      <td>Software Engineer</td>\n",
              "      <td>Master's Degree</td>\n",
              "      <td>Married</td>\n",
              "      <td>75000</td>\n",
              "      <td>Blue</td>\n",
              "      <td>NaN</td>\n",
              "    </tr>\n",
              "    <tr>\n",
              "      <th>1</th>\n",
              "      <td>male</td>\n",
              "      <td>25</td>\n",
              "      <td>182</td>\n",
              "      <td>85</td>\n",
              "      <td>Sales Representative</td>\n",
              "      <td>Bachelor's Degree</td>\n",
              "      <td>Single</td>\n",
              "      <td>45000</td>\n",
              "      <td>Green</td>\n",
              "      <td>NaN</td>\n",
              "    </tr>\n",
              "    <tr>\n",
              "      <th>2</th>\n",
              "      <td>female</td>\n",
              "      <td>41</td>\n",
              "      <td>160</td>\n",
              "      <td>62</td>\n",
              "      <td>Doctor</td>\n",
              "      <td>Doctorate Degree</td>\n",
              "      <td>Married</td>\n",
              "      <td>120000</td>\n",
              "      <td>Purple</td>\n",
              "      <td>NaN</td>\n",
              "    </tr>\n",
              "    <tr>\n",
              "      <th>3</th>\n",
              "      <td>male</td>\n",
              "      <td>38</td>\n",
              "      <td>178</td>\n",
              "      <td>79</td>\n",
              "      <td>Lawyer</td>\n",
              "      <td>Bachelor's Degree</td>\n",
              "      <td>Single</td>\n",
              "      <td>90000</td>\n",
              "      <td>Red</td>\n",
              "      <td>NaN</td>\n",
              "    </tr>\n",
              "    <tr>\n",
              "      <th>4</th>\n",
              "      <td>female</td>\n",
              "      <td>29</td>\n",
              "      <td>165</td>\n",
              "      <td>58</td>\n",
              "      <td>Graphic Designer</td>\n",
              "      <td>Associate's Degree</td>\n",
              "      <td>Single</td>\n",
              "      <td>35000</td>\n",
              "      <td>Yellow</td>\n",
              "      <td>NaN</td>\n",
              "    </tr>\n",
              "    <tr>\n",
              "      <th>...</th>\n",
              "      <td>...</td>\n",
              "      <td>...</td>\n",
              "      <td>...</td>\n",
              "      <td>...</td>\n",
              "      <td>...</td>\n",
              "      <td>...</td>\n",
              "      <td>...</td>\n",
              "      <td>...</td>\n",
              "      <td>...</td>\n",
              "      <td>...</td>\n",
              "    </tr>\n",
              "    <tr>\n",
              "      <th>126</th>\n",
              "      <td>female</td>\n",
              "      <td>32</td>\n",
              "      <td>170</td>\n",
              "      <td>64</td>\n",
              "      <td>Nurse</td>\n",
              "      <td>Associate's Degree</td>\n",
              "      <td>Single</td>\n",
              "      <td>60000</td>\n",
              "      <td>Orange</td>\n",
              "      <td>NaN</td>\n",
              "    </tr>\n",
              "    <tr>\n",
              "      <th>127</th>\n",
              "      <td>male</td>\n",
              "      <td>38</td>\n",
              "      <td>176</td>\n",
              "      <td>79</td>\n",
              "      <td>Project Manager</td>\n",
              "      <td>Bachelor's Degree</td>\n",
              "      <td>Married</td>\n",
              "      <td>90000</td>\n",
              "      <td>Black</td>\n",
              "      <td>NaN</td>\n",
              "    </tr>\n",
              "    <tr>\n",
              "      <th>128</th>\n",
              "      <td>female</td>\n",
              "      <td>27</td>\n",
              "      <td>162</td>\n",
              "      <td>55</td>\n",
              "      <td>Graphic Designer</td>\n",
              "      <td>Associate's Degree</td>\n",
              "      <td>Single</td>\n",
              "      <td>55000</td>\n",
              "      <td>Green</td>\n",
              "      <td>NaN</td>\n",
              "    </tr>\n",
              "    <tr>\n",
              "      <th>129</th>\n",
              "      <td>male</td>\n",
              "      <td>33</td>\n",
              "      <td>175</td>\n",
              "      <td>77</td>\n",
              "      <td>Sales Representative</td>\n",
              "      <td>Bachelor's Degree</td>\n",
              "      <td>Married</td>\n",
              "      <td>80000</td>\n",
              "      <td>Yellow</td>\n",
              "      <td>NaN</td>\n",
              "    </tr>\n",
              "    <tr>\n",
              "      <th>130</th>\n",
              "      <td>female</td>\n",
              "      <td>29</td>\n",
              "      <td>164</td>\n",
              "      <td>57</td>\n",
              "      <td>Software Developer</td>\n",
              "      <td>Bachelor's Degree</td>\n",
              "      <td>Single</td>\n",
              "      <td>65000</td>\n",
              "      <td>Blue</td>\n",
              "      <td>NaN</td>\n",
              "    </tr>\n",
              "  </tbody>\n",
              "</table>\n",
              "<p>131 rows × 10 columns</p>\n",
              "</div>\n",
              "      <button class=\"colab-df-convert\" onclick=\"convertToInteractive('df-46651cbf-71ea-4f12-a9a1-d922b049cbe6')\"\n",
              "              title=\"Convert this dataframe to an interactive table.\"\n",
              "              style=\"display:none;\">\n",
              "        \n",
              "  <svg xmlns=\"http://www.w3.org/2000/svg\" height=\"24px\"viewBox=\"0 0 24 24\"\n",
              "       width=\"24px\">\n",
              "    <path d=\"M0 0h24v24H0V0z\" fill=\"none\"/>\n",
              "    <path d=\"M18.56 5.44l.94 2.06.94-2.06 2.06-.94-2.06-.94-.94-2.06-.94 2.06-2.06.94zm-11 1L8.5 8.5l.94-2.06 2.06-.94-2.06-.94L8.5 2.5l-.94 2.06-2.06.94zm10 10l.94 2.06.94-2.06 2.06-.94-2.06-.94-.94-2.06-.94 2.06-2.06.94z\"/><path d=\"M17.41 7.96l-1.37-1.37c-.4-.4-.92-.59-1.43-.59-.52 0-1.04.2-1.43.59L10.3 9.45l-7.72 7.72c-.78.78-.78 2.05 0 2.83L4 21.41c.39.39.9.59 1.41.59.51 0 1.02-.2 1.41-.59l7.78-7.78 2.81-2.81c.8-.78.8-2.07 0-2.86zM5.41 20L4 18.59l7.72-7.72 1.47 1.35L5.41 20z\"/>\n",
              "  </svg>\n",
              "      </button>\n",
              "      \n",
              "  <style>\n",
              "    .colab-df-container {\n",
              "      display:flex;\n",
              "      flex-wrap:wrap;\n",
              "      gap: 12px;\n",
              "    }\n",
              "\n",
              "    .colab-df-convert {\n",
              "      background-color: #E8F0FE;\n",
              "      border: none;\n",
              "      border-radius: 50%;\n",
              "      cursor: pointer;\n",
              "      display: none;\n",
              "      fill: #1967D2;\n",
              "      height: 32px;\n",
              "      padding: 0 0 0 0;\n",
              "      width: 32px;\n",
              "    }\n",
              "\n",
              "    .colab-df-convert:hover {\n",
              "      background-color: #E2EBFA;\n",
              "      box-shadow: 0px 1px 2px rgba(60, 64, 67, 0.3), 0px 1px 3px 1px rgba(60, 64, 67, 0.15);\n",
              "      fill: #174EA6;\n",
              "    }\n",
              "\n",
              "    [theme=dark] .colab-df-convert {\n",
              "      background-color: #3B4455;\n",
              "      fill: #D2E3FC;\n",
              "    }\n",
              "\n",
              "    [theme=dark] .colab-df-convert:hover {\n",
              "      background-color: #434B5C;\n",
              "      box-shadow: 0px 1px 3px 1px rgba(0, 0, 0, 0.15);\n",
              "      filter: drop-shadow(0px 1px 2px rgba(0, 0, 0, 0.3));\n",
              "      fill: #FFFFFF;\n",
              "    }\n",
              "  </style>\n",
              "\n",
              "      <script>\n",
              "        const buttonEl =\n",
              "          document.querySelector('#df-46651cbf-71ea-4f12-a9a1-d922b049cbe6 button.colab-df-convert');\n",
              "        buttonEl.style.display =\n",
              "          google.colab.kernel.accessAllowed ? 'block' : 'none';\n",
              "\n",
              "        async function convertToInteractive(key) {\n",
              "          const element = document.querySelector('#df-46651cbf-71ea-4f12-a9a1-d922b049cbe6');\n",
              "          const dataTable =\n",
              "            await google.colab.kernel.invokeFunction('convertToInteractive',\n",
              "                                                     [key], {});\n",
              "          if (!dataTable) return;\n",
              "\n",
              "          const docLinkHtml = 'Like what you see? Visit the ' +\n",
              "            '<a target=\"_blank\" href=https://colab.research.google.com/notebooks/data_table.ipynb>data table notebook</a>'\n",
              "            + ' to learn more about interactive tables.';\n",
              "          element.innerHTML = '';\n",
              "          dataTable['output_type'] = 'display_data';\n",
              "          await google.colab.output.renderOutput(dataTable, element);\n",
              "          const docLink = document.createElement('div');\n",
              "          docLink.innerHTML = docLinkHtml;\n",
              "          element.appendChild(docLink);\n",
              "        }\n",
              "      </script>\n",
              "    </div>\n",
              "  </div>\n",
              "  "
            ]
          },
          "metadata": {},
          "execution_count": 159
        }
      ]
    },
    {
      "cell_type": "code",
      "source": [
        "# Los nombres de las columnas tienen un problema más común que lo deseable: espacios escondidos\n",
        "df.columns"
      ],
      "metadata": {
        "colab": {
          "base_uri": "https://localhost:8080/"
        },
        "id": "85aqLnjgsrU6",
        "outputId": "276c809e-1274-455e-a19f-89f5a680c2ba"
      },
      "execution_count": 160,
      "outputs": [
        {
          "output_type": "execute_result",
          "data": {
            "text/plain": [
              "Index([' Gender', ' Age', ' Height (cm)', ' Weight (kg)', ' Occupation',\n",
              "       ' Education Level', ' Marital Status', ' Income (USD)',\n",
              "       ' Favorite Color', 'Unnamed: 9'],\n",
              "      dtype='object')"
            ]
          },
          "metadata": {},
          "execution_count": 160
        }
      ]
    },
    {
      "cell_type": "code",
      "source": [
        "# Una solución posible es eliminarlos todos\n",
        "df.columns = df.columns.str.replace(' ', '')"
      ],
      "metadata": {
        "id": "oHp2c4amrap5"
      },
      "execution_count": 161,
      "outputs": []
    },
    {
      "cell_type": "code",
      "source": [
        "df.columns"
      ],
      "metadata": {
        "colab": {
          "base_uri": "https://localhost:8080/"
        },
        "id": "n9yB2Igas2Kp",
        "outputId": "e8527ebf-02a4-43f4-9f35-3d3034d0b81d"
      },
      "execution_count": 162,
      "outputs": [
        {
          "output_type": "execute_result",
          "data": {
            "text/plain": [
              "Index(['Gender', 'Age', 'Height(cm)', 'Weight(kg)', 'Occupation',\n",
              "       'EducationLevel', 'MaritalStatus', 'Income(USD)', 'FavoriteColor',\n",
              "       'Unnamed:9'],\n",
              "      dtype='object')"
            ]
          },
          "metadata": {},
          "execution_count": 162
        }
      ]
    },
    {
      "cell_type": "code",
      "source": [
        "# Pero esos espacios escondidos también aparecen en otros lados. Hay que tener cuidado. \n",
        "df.Gender.value_counts()"
      ],
      "metadata": {
        "colab": {
          "base_uri": "https://localhost:8080/"
        },
        "id": "baEKKqlsrLnp",
        "outputId": "bb2ce2a7-ec15-47eb-e407-aa980604970e"
      },
      "execution_count": 163,
      "outputs": [
        {
          "output_type": "execute_result",
          "data": {
            "text/plain": [
              "male       41\n",
              "female     39\n",
              " male      27\n",
              " female    24\n",
              "Name: Gender, dtype: int64"
            ]
          },
          "metadata": {},
          "execution_count": 163
        }
      ]
    },
    {
      "cell_type": "code",
      "source": [
        "df['Gender'] = df['Gender'].str.replace(' ', '')"
      ],
      "metadata": {
        "id": "TscP6PS9yspH"
      },
      "execution_count": 164,
      "outputs": []
    },
    {
      "cell_type": "code",
      "source": [
        "df.Gender.value_counts()"
      ],
      "metadata": {
        "colab": {
          "base_uri": "https://localhost:8080/"
        },
        "id": "4fVN2dtNyv5Y",
        "outputId": "36203e59-b258-408c-b458-9736265ca244"
      },
      "execution_count": 165,
      "outputs": [
        {
          "output_type": "execute_result",
          "data": {
            "text/plain": [
              "male      68\n",
              "female    63\n",
              "Name: Gender, dtype: int64"
            ]
          },
          "metadata": {},
          "execution_count": 165
        }
      ]
    },
    {
      "cell_type": "code",
      "source": [
        "# Lo hacemos para todas las categóricas\n",
        "df['Occupation'] = df['Occupation'].str.replace(' ', '')\n",
        "df['EducationLevel'] = df['EducationLevel'].str.replace(' ', '')\n",
        "df['MaritalStatus'] = df['MaritalStatus'].str.replace(' ', '')\n",
        "df['FavoriteColor'] = df['FavoriteColor'].str.replace(' ', '')"
      ],
      "metadata": {
        "id": "PnqhWq3VF8hB"
      },
      "execution_count": 166,
      "outputs": []
    },
    {
      "cell_type": "code",
      "source": [
        "# Hay una columna que está mal, así que la podemos borrar también\n",
        "df=df.drop(['Unnamed:9'], axis=1)"
      ],
      "metadata": {
        "id": "mS3cUplaHbgz"
      },
      "execution_count": 167,
      "outputs": []
    },
    {
      "cell_type": "code",
      "source": [
        "cat=['Occupation','EducationLevel', 'MaritalStatus', 'FavoriteColor']\n",
        "for c in cat: \n",
        "  df=df.join(pd.get_dummies(df[c], dummy_na=False))"
      ],
      "metadata": {
        "id": "FuBb3DawMlhD"
      },
      "execution_count": 174,
      "outputs": []
    },
    {
      "cell_type": "code",
      "source": [
        "df"
      ],
      "metadata": {
        "colab": {
          "base_uri": "https://localhost:8080/",
          "height": 488
        },
        "id": "yi2CRg_9OTMm",
        "outputId": "5900feb8-73bd-4ecd-f47d-f1cfce4ddc91"
      },
      "execution_count": 175,
      "outputs": [
        {
          "output_type": "execute_result",
          "data": {
            "text/plain": [
              "     Gender  Age  Height(cm)  Weight(kg)           Occupation  \\\n",
              "0      male   32         175          70     SoftwareEngineer   \n",
              "1      male   25         182          85  SalesRepresentative   \n",
              "2    female   41         160          62               Doctor   \n",
              "3      male   38         178          79               Lawyer   \n",
              "4    female   29         165          58      GraphicDesigner   \n",
              "..      ...  ...         ...         ...                  ...   \n",
              "126  female   32         170          64                Nurse   \n",
              "127    male   38         176          79       ProjectManager   \n",
              "128  female   27         162          55      GraphicDesigner   \n",
              "129    male   33         175          77  SalesRepresentative   \n",
              "130  female   29         164          57    SoftwareDeveloper   \n",
              "\n",
              "        EducationLevel MaritalStatus  Income(USD) FavoriteColor  Accountant  \\\n",
              "0       Master'sDegree       Married        75000          Blue           0   \n",
              "1     Bachelor'sDegree        Single        45000         Green           0   \n",
              "2      DoctorateDegree       Married       120000        Purple           0   \n",
              "3     Bachelor'sDegree        Single        90000           Red           0   \n",
              "4    Associate'sDegree        Single        35000        Yellow           0   \n",
              "..                 ...           ...          ...           ...         ...   \n",
              "126  Associate'sDegree        Single        60000        Orange           0   \n",
              "127   Bachelor'sDegree       Married        90000         Black           0   \n",
              "128  Associate'sDegree        Single        55000         Green           0   \n",
              "129   Bachelor'sDegree       Married        80000        Yellow           0   \n",
              "130   Bachelor'sDegree        Single        65000          Blue           0   \n",
              "\n",
              "     ...  Widowed  Black  Blue  Green  Grey  Orange  Pink  Purple  Red  Yellow  \n",
              "0    ...        0      0     1      0     0       0     0       0    0       0  \n",
              "1    ...        0      0     0      1     0       0     0       0    0       0  \n",
              "2    ...        0      0     0      0     0       0     0       1    0       0  \n",
              "3    ...        0      0     0      0     0       0     0       0    1       0  \n",
              "4    ...        0      0     0      0     0       0     0       0    0       1  \n",
              "..   ...      ...    ...   ...    ...   ...     ...   ...     ...  ...     ...  \n",
              "126  ...        0      0     0      0     0       1     0       0    0       0  \n",
              "127  ...        0      1     0      0     0       0     0       0    0       0  \n",
              "128  ...        0      0     0      1     0       0     0       0    0       0  \n",
              "129  ...        0      0     0      0     0       0     0       0    0       1  \n",
              "130  ...        0      0     1      0     0       0     0       0    0       0  \n",
              "\n",
              "[131 rows x 45 columns]"
            ],
            "text/html": [
              "\n",
              "  <div id=\"df-fc006b23-4b7b-4cd3-9951-2a8c11eb4158\">\n",
              "    <div class=\"colab-df-container\">\n",
              "      <div>\n",
              "<style scoped>\n",
              "    .dataframe tbody tr th:only-of-type {\n",
              "        vertical-align: middle;\n",
              "    }\n",
              "\n",
              "    .dataframe tbody tr th {\n",
              "        vertical-align: top;\n",
              "    }\n",
              "\n",
              "    .dataframe thead th {\n",
              "        text-align: right;\n",
              "    }\n",
              "</style>\n",
              "<table border=\"1\" class=\"dataframe\">\n",
              "  <thead>\n",
              "    <tr style=\"text-align: right;\">\n",
              "      <th></th>\n",
              "      <th>Gender</th>\n",
              "      <th>Age</th>\n",
              "      <th>Height(cm)</th>\n",
              "      <th>Weight(kg)</th>\n",
              "      <th>Occupation</th>\n",
              "      <th>EducationLevel</th>\n",
              "      <th>MaritalStatus</th>\n",
              "      <th>Income(USD)</th>\n",
              "      <th>FavoriteColor</th>\n",
              "      <th>Accountant</th>\n",
              "      <th>...</th>\n",
              "      <th>Widowed</th>\n",
              "      <th>Black</th>\n",
              "      <th>Blue</th>\n",
              "      <th>Green</th>\n",
              "      <th>Grey</th>\n",
              "      <th>Orange</th>\n",
              "      <th>Pink</th>\n",
              "      <th>Purple</th>\n",
              "      <th>Red</th>\n",
              "      <th>Yellow</th>\n",
              "    </tr>\n",
              "  </thead>\n",
              "  <tbody>\n",
              "    <tr>\n",
              "      <th>0</th>\n",
              "      <td>male</td>\n",
              "      <td>32</td>\n",
              "      <td>175</td>\n",
              "      <td>70</td>\n",
              "      <td>SoftwareEngineer</td>\n",
              "      <td>Master'sDegree</td>\n",
              "      <td>Married</td>\n",
              "      <td>75000</td>\n",
              "      <td>Blue</td>\n",
              "      <td>0</td>\n",
              "      <td>...</td>\n",
              "      <td>0</td>\n",
              "      <td>0</td>\n",
              "      <td>1</td>\n",
              "      <td>0</td>\n",
              "      <td>0</td>\n",
              "      <td>0</td>\n",
              "      <td>0</td>\n",
              "      <td>0</td>\n",
              "      <td>0</td>\n",
              "      <td>0</td>\n",
              "    </tr>\n",
              "    <tr>\n",
              "      <th>1</th>\n",
              "      <td>male</td>\n",
              "      <td>25</td>\n",
              "      <td>182</td>\n",
              "      <td>85</td>\n",
              "      <td>SalesRepresentative</td>\n",
              "      <td>Bachelor'sDegree</td>\n",
              "      <td>Single</td>\n",
              "      <td>45000</td>\n",
              "      <td>Green</td>\n",
              "      <td>0</td>\n",
              "      <td>...</td>\n",
              "      <td>0</td>\n",
              "      <td>0</td>\n",
              "      <td>0</td>\n",
              "      <td>1</td>\n",
              "      <td>0</td>\n",
              "      <td>0</td>\n",
              "      <td>0</td>\n",
              "      <td>0</td>\n",
              "      <td>0</td>\n",
              "      <td>0</td>\n",
              "    </tr>\n",
              "    <tr>\n",
              "      <th>2</th>\n",
              "      <td>female</td>\n",
              "      <td>41</td>\n",
              "      <td>160</td>\n",
              "      <td>62</td>\n",
              "      <td>Doctor</td>\n",
              "      <td>DoctorateDegree</td>\n",
              "      <td>Married</td>\n",
              "      <td>120000</td>\n",
              "      <td>Purple</td>\n",
              "      <td>0</td>\n",
              "      <td>...</td>\n",
              "      <td>0</td>\n",
              "      <td>0</td>\n",
              "      <td>0</td>\n",
              "      <td>0</td>\n",
              "      <td>0</td>\n",
              "      <td>0</td>\n",
              "      <td>0</td>\n",
              "      <td>1</td>\n",
              "      <td>0</td>\n",
              "      <td>0</td>\n",
              "    </tr>\n",
              "    <tr>\n",
              "      <th>3</th>\n",
              "      <td>male</td>\n",
              "      <td>38</td>\n",
              "      <td>178</td>\n",
              "      <td>79</td>\n",
              "      <td>Lawyer</td>\n",
              "      <td>Bachelor'sDegree</td>\n",
              "      <td>Single</td>\n",
              "      <td>90000</td>\n",
              "      <td>Red</td>\n",
              "      <td>0</td>\n",
              "      <td>...</td>\n",
              "      <td>0</td>\n",
              "      <td>0</td>\n",
              "      <td>0</td>\n",
              "      <td>0</td>\n",
              "      <td>0</td>\n",
              "      <td>0</td>\n",
              "      <td>0</td>\n",
              "      <td>0</td>\n",
              "      <td>1</td>\n",
              "      <td>0</td>\n",
              "    </tr>\n",
              "    <tr>\n",
              "      <th>4</th>\n",
              "      <td>female</td>\n",
              "      <td>29</td>\n",
              "      <td>165</td>\n",
              "      <td>58</td>\n",
              "      <td>GraphicDesigner</td>\n",
              "      <td>Associate'sDegree</td>\n",
              "      <td>Single</td>\n",
              "      <td>35000</td>\n",
              "      <td>Yellow</td>\n",
              "      <td>0</td>\n",
              "      <td>...</td>\n",
              "      <td>0</td>\n",
              "      <td>0</td>\n",
              "      <td>0</td>\n",
              "      <td>0</td>\n",
              "      <td>0</td>\n",
              "      <td>0</td>\n",
              "      <td>0</td>\n",
              "      <td>0</td>\n",
              "      <td>0</td>\n",
              "      <td>1</td>\n",
              "    </tr>\n",
              "    <tr>\n",
              "      <th>...</th>\n",
              "      <td>...</td>\n",
              "      <td>...</td>\n",
              "      <td>...</td>\n",
              "      <td>...</td>\n",
              "      <td>...</td>\n",
              "      <td>...</td>\n",
              "      <td>...</td>\n",
              "      <td>...</td>\n",
              "      <td>...</td>\n",
              "      <td>...</td>\n",
              "      <td>...</td>\n",
              "      <td>...</td>\n",
              "      <td>...</td>\n",
              "      <td>...</td>\n",
              "      <td>...</td>\n",
              "      <td>...</td>\n",
              "      <td>...</td>\n",
              "      <td>...</td>\n",
              "      <td>...</td>\n",
              "      <td>...</td>\n",
              "      <td>...</td>\n",
              "    </tr>\n",
              "    <tr>\n",
              "      <th>126</th>\n",
              "      <td>female</td>\n",
              "      <td>32</td>\n",
              "      <td>170</td>\n",
              "      <td>64</td>\n",
              "      <td>Nurse</td>\n",
              "      <td>Associate'sDegree</td>\n",
              "      <td>Single</td>\n",
              "      <td>60000</td>\n",
              "      <td>Orange</td>\n",
              "      <td>0</td>\n",
              "      <td>...</td>\n",
              "      <td>0</td>\n",
              "      <td>0</td>\n",
              "      <td>0</td>\n",
              "      <td>0</td>\n",
              "      <td>0</td>\n",
              "      <td>1</td>\n",
              "      <td>0</td>\n",
              "      <td>0</td>\n",
              "      <td>0</td>\n",
              "      <td>0</td>\n",
              "    </tr>\n",
              "    <tr>\n",
              "      <th>127</th>\n",
              "      <td>male</td>\n",
              "      <td>38</td>\n",
              "      <td>176</td>\n",
              "      <td>79</td>\n",
              "      <td>ProjectManager</td>\n",
              "      <td>Bachelor'sDegree</td>\n",
              "      <td>Married</td>\n",
              "      <td>90000</td>\n",
              "      <td>Black</td>\n",
              "      <td>0</td>\n",
              "      <td>...</td>\n",
              "      <td>0</td>\n",
              "      <td>1</td>\n",
              "      <td>0</td>\n",
              "      <td>0</td>\n",
              "      <td>0</td>\n",
              "      <td>0</td>\n",
              "      <td>0</td>\n",
              "      <td>0</td>\n",
              "      <td>0</td>\n",
              "      <td>0</td>\n",
              "    </tr>\n",
              "    <tr>\n",
              "      <th>128</th>\n",
              "      <td>female</td>\n",
              "      <td>27</td>\n",
              "      <td>162</td>\n",
              "      <td>55</td>\n",
              "      <td>GraphicDesigner</td>\n",
              "      <td>Associate'sDegree</td>\n",
              "      <td>Single</td>\n",
              "      <td>55000</td>\n",
              "      <td>Green</td>\n",
              "      <td>0</td>\n",
              "      <td>...</td>\n",
              "      <td>0</td>\n",
              "      <td>0</td>\n",
              "      <td>0</td>\n",
              "      <td>1</td>\n",
              "      <td>0</td>\n",
              "      <td>0</td>\n",
              "      <td>0</td>\n",
              "      <td>0</td>\n",
              "      <td>0</td>\n",
              "      <td>0</td>\n",
              "    </tr>\n",
              "    <tr>\n",
              "      <th>129</th>\n",
              "      <td>male</td>\n",
              "      <td>33</td>\n",
              "      <td>175</td>\n",
              "      <td>77</td>\n",
              "      <td>SalesRepresentative</td>\n",
              "      <td>Bachelor'sDegree</td>\n",
              "      <td>Married</td>\n",
              "      <td>80000</td>\n",
              "      <td>Yellow</td>\n",
              "      <td>0</td>\n",
              "      <td>...</td>\n",
              "      <td>0</td>\n",
              "      <td>0</td>\n",
              "      <td>0</td>\n",
              "      <td>0</td>\n",
              "      <td>0</td>\n",
              "      <td>0</td>\n",
              "      <td>0</td>\n",
              "      <td>0</td>\n",
              "      <td>0</td>\n",
              "      <td>1</td>\n",
              "    </tr>\n",
              "    <tr>\n",
              "      <th>130</th>\n",
              "      <td>female</td>\n",
              "      <td>29</td>\n",
              "      <td>164</td>\n",
              "      <td>57</td>\n",
              "      <td>SoftwareDeveloper</td>\n",
              "      <td>Bachelor'sDegree</td>\n",
              "      <td>Single</td>\n",
              "      <td>65000</td>\n",
              "      <td>Blue</td>\n",
              "      <td>0</td>\n",
              "      <td>...</td>\n",
              "      <td>0</td>\n",
              "      <td>0</td>\n",
              "      <td>1</td>\n",
              "      <td>0</td>\n",
              "      <td>0</td>\n",
              "      <td>0</td>\n",
              "      <td>0</td>\n",
              "      <td>0</td>\n",
              "      <td>0</td>\n",
              "      <td>0</td>\n",
              "    </tr>\n",
              "  </tbody>\n",
              "</table>\n",
              "<p>131 rows × 45 columns</p>\n",
              "</div>\n",
              "      <button class=\"colab-df-convert\" onclick=\"convertToInteractive('df-fc006b23-4b7b-4cd3-9951-2a8c11eb4158')\"\n",
              "              title=\"Convert this dataframe to an interactive table.\"\n",
              "              style=\"display:none;\">\n",
              "        \n",
              "  <svg xmlns=\"http://www.w3.org/2000/svg\" height=\"24px\"viewBox=\"0 0 24 24\"\n",
              "       width=\"24px\">\n",
              "    <path d=\"M0 0h24v24H0V0z\" fill=\"none\"/>\n",
              "    <path d=\"M18.56 5.44l.94 2.06.94-2.06 2.06-.94-2.06-.94-.94-2.06-.94 2.06-2.06.94zm-11 1L8.5 8.5l.94-2.06 2.06-.94-2.06-.94L8.5 2.5l-.94 2.06-2.06.94zm10 10l.94 2.06.94-2.06 2.06-.94-2.06-.94-.94-2.06-.94 2.06-2.06.94z\"/><path d=\"M17.41 7.96l-1.37-1.37c-.4-.4-.92-.59-1.43-.59-.52 0-1.04.2-1.43.59L10.3 9.45l-7.72 7.72c-.78.78-.78 2.05 0 2.83L4 21.41c.39.39.9.59 1.41.59.51 0 1.02-.2 1.41-.59l7.78-7.78 2.81-2.81c.8-.78.8-2.07 0-2.86zM5.41 20L4 18.59l7.72-7.72 1.47 1.35L5.41 20z\"/>\n",
              "  </svg>\n",
              "      </button>\n",
              "      \n",
              "  <style>\n",
              "    .colab-df-container {\n",
              "      display:flex;\n",
              "      flex-wrap:wrap;\n",
              "      gap: 12px;\n",
              "    }\n",
              "\n",
              "    .colab-df-convert {\n",
              "      background-color: #E8F0FE;\n",
              "      border: none;\n",
              "      border-radius: 50%;\n",
              "      cursor: pointer;\n",
              "      display: none;\n",
              "      fill: #1967D2;\n",
              "      height: 32px;\n",
              "      padding: 0 0 0 0;\n",
              "      width: 32px;\n",
              "    }\n",
              "\n",
              "    .colab-df-convert:hover {\n",
              "      background-color: #E2EBFA;\n",
              "      box-shadow: 0px 1px 2px rgba(60, 64, 67, 0.3), 0px 1px 3px 1px rgba(60, 64, 67, 0.15);\n",
              "      fill: #174EA6;\n",
              "    }\n",
              "\n",
              "    [theme=dark] .colab-df-convert {\n",
              "      background-color: #3B4455;\n",
              "      fill: #D2E3FC;\n",
              "    }\n",
              "\n",
              "    [theme=dark] .colab-df-convert:hover {\n",
              "      background-color: #434B5C;\n",
              "      box-shadow: 0px 1px 3px 1px rgba(0, 0, 0, 0.15);\n",
              "      filter: drop-shadow(0px 1px 2px rgba(0, 0, 0, 0.3));\n",
              "      fill: #FFFFFF;\n",
              "    }\n",
              "  </style>\n",
              "\n",
              "      <script>\n",
              "        const buttonEl =\n",
              "          document.querySelector('#df-fc006b23-4b7b-4cd3-9951-2a8c11eb4158 button.colab-df-convert');\n",
              "        buttonEl.style.display =\n",
              "          google.colab.kernel.accessAllowed ? 'block' : 'none';\n",
              "\n",
              "        async function convertToInteractive(key) {\n",
              "          const element = document.querySelector('#df-fc006b23-4b7b-4cd3-9951-2a8c11eb4158');\n",
              "          const dataTable =\n",
              "            await google.colab.kernel.invokeFunction('convertToInteractive',\n",
              "                                                     [key], {});\n",
              "          if (!dataTable) return;\n",
              "\n",
              "          const docLinkHtml = 'Like what you see? Visit the ' +\n",
              "            '<a target=\"_blank\" href=https://colab.research.google.com/notebooks/data_table.ipynb>data table notebook</a>'\n",
              "            + ' to learn more about interactive tables.';\n",
              "          element.innerHTML = '';\n",
              "          dataTable['output_type'] = 'display_data';\n",
              "          await google.colab.output.renderOutput(dataTable, element);\n",
              "          const docLink = document.createElement('div');\n",
              "          docLink.innerHTML = docLinkHtml;\n",
              "          element.appendChild(docLink);\n",
              "        }\n",
              "      </script>\n",
              "    </div>\n",
              "  </div>\n",
              "  "
            ]
          },
          "metadata": {},
          "execution_count": 175
        }
      ]
    },
    {
      "cell_type": "code",
      "source": [
        "from sklearn.model_selection import train_test_split\n",
        "X=list(df.columns)\n",
        "X.remove('Gender')\n",
        "X_train, X_test, y_train, y_test = train_test_split(df[X], df['Gender'], test_size=0.2, random_state=0)"
      ],
      "metadata": {
        "id": "xA_A0KMwJHiQ"
      },
      "execution_count": 176,
      "outputs": []
    },
    {
      "cell_type": "code",
      "source": [
        "for c in cat: X.remove(c)"
      ],
      "metadata": {
        "id": "H-5sykbKWStM"
      },
      "execution_count": null,
      "outputs": []
    },
    {
      "cell_type": "code",
      "source": [
        "from sklearn.naive_bayes import MultinomialNB\n",
        "clf = MultinomialNB()\n",
        "clf.fit(X_train[X], y_train)"
      ],
      "metadata": {
        "colab": {
          "base_uri": "https://localhost:8080/"
        },
        "id": "6EejNj-gLCFu",
        "outputId": "e7e5a3ea-b941-4cf2-d7c1-36c49e418b68"
      },
      "execution_count": 180,
      "outputs": [
        {
          "output_type": "execute_result",
          "data": {
            "text/plain": [
              "MultinomialNB()"
            ]
          },
          "metadata": {},
          "execution_count": 180
        }
      ]
    },
    {
      "cell_type": "code",
      "source": [
        "clf.score(X_train[X], y_train)"
      ],
      "metadata": {
        "colab": {
          "base_uri": "https://localhost:8080/"
        },
        "id": "bi9uW1JhUqdb",
        "outputId": "deb6f8da-3610-4338-9459-30aee66c0e2b"
      },
      "execution_count": 182,
      "outputs": [
        {
          "output_type": "execute_result",
          "data": {
            "text/plain": [
              "0.7980769230769231"
            ]
          },
          "metadata": {},
          "execution_count": 182
        }
      ]
    },
    {
      "cell_type": "code",
      "source": [
        "clf.score(X_test[X], y_test)"
      ],
      "metadata": {
        "colab": {
          "base_uri": "https://localhost:8080/"
        },
        "id": "Q7y0z4UoU19i",
        "outputId": "8e78ebcc-aa31-42ed-86de-52872e72dba2"
      },
      "execution_count": 183,
      "outputs": [
        {
          "output_type": "execute_result",
          "data": {
            "text/plain": [
              "0.7777777777777778"
            ]
          },
          "metadata": {},
          "execution_count": 183
        }
      ]
    },
    {
      "cell_type": "code",
      "source": [
        "from sklearn.naive_bayes import GaussianNB\n",
        "clf = GaussianNB()\n",
        "clf.fit(X_train[X], y_train)"
      ],
      "metadata": {
        "colab": {
          "base_uri": "https://localhost:8080/"
        },
        "id": "9-RglhUWWOTV",
        "outputId": "e5745573-78d8-4dd1-d1c7-eee1322a12a3"
      },
      "execution_count": 184,
      "outputs": [
        {
          "output_type": "execute_result",
          "data": {
            "text/plain": [
              "GaussianNB()"
            ]
          },
          "metadata": {},
          "execution_count": 184
        }
      ]
    },
    {
      "cell_type": "code",
      "source": [
        "clf.score(X_train[X], y_train)"
      ],
      "metadata": {
        "colab": {
          "base_uri": "https://localhost:8080/"
        },
        "id": "AhZzD_SsWYAV",
        "outputId": "ea899d5e-730b-48a7-8dab-753e63f37e48"
      },
      "execution_count": 185,
      "outputs": [
        {
          "output_type": "execute_result",
          "data": {
            "text/plain": [
              "1.0"
            ]
          },
          "metadata": {},
          "execution_count": 185
        }
      ]
    },
    {
      "cell_type": "code",
      "source": [
        "clf.score(X_test[X], y_test)"
      ],
      "metadata": {
        "colab": {
          "base_uri": "https://localhost:8080/"
        },
        "id": "TgrWQFgCWZB7",
        "outputId": "4605e73c-e4a4-44f6-a8b5-cfe786835920"
      },
      "execution_count": 186,
      "outputs": [
        {
          "output_type": "execute_result",
          "data": {
            "text/plain": [
              "1.0"
            ]
          },
          "metadata": {},
          "execution_count": 186
        }
      ]
    },
    {
      "cell_type": "code",
      "source": [
        "from sklearn.linear_model import LogisticRegression\n",
        "clf = LogisticRegression()\n",
        "clf.fit(X_train[X], y_train)"
      ],
      "metadata": {
        "colab": {
          "base_uri": "https://localhost:8080/"
        },
        "id": "pH7dd_wgcibM",
        "outputId": "a47055c1-3b50-4fb0-ce2d-e0c877cfdd38"
      },
      "execution_count": 187,
      "outputs": [
        {
          "output_type": "execute_result",
          "data": {
            "text/plain": [
              "LogisticRegression()"
            ]
          },
          "metadata": {},
          "execution_count": 187
        }
      ]
    },
    {
      "cell_type": "code",
      "source": [
        "clf.score(X_train[X], y_train)"
      ],
      "metadata": {
        "colab": {
          "base_uri": "https://localhost:8080/"
        },
        "id": "aICh78h-cnHq",
        "outputId": "169ae6ee-6968-4b25-f7cb-be44938ae0c0"
      },
      "execution_count": 188,
      "outputs": [
        {
          "output_type": "execute_result",
          "data": {
            "text/plain": [
              "1.0"
            ]
          },
          "metadata": {},
          "execution_count": 188
        }
      ]
    },
    {
      "cell_type": "code",
      "source": [
        "clf.score(X_test[X], y_test)"
      ],
      "metadata": {
        "colab": {
          "base_uri": "https://localhost:8080/"
        },
        "id": "XiFEYkDscoKy",
        "outputId": "de2d0f0e-fcd1-4bc5-8481-59baea2fa7fd"
      },
      "execution_count": 189,
      "outputs": [
        {
          "output_type": "execute_result",
          "data": {
            "text/plain": [
              "1.0"
            ]
          },
          "metadata": {},
          "execution_count": 189
        }
      ]
    }
  ]
}