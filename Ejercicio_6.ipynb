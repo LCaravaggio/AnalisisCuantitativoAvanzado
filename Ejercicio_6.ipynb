{
  "nbformat": 4,
  "nbformat_minor": 0,
  "metadata": {
    "colab": {
      "provenance": [],
      "authorship_tag": "ABX9TyMZCjs3nClelB17SvLj/kJu",
      "include_colab_link": true
    },
    "kernelspec": {
      "name": "python3",
      "display_name": "Python 3"
    },
    "language_info": {
      "name": "python"
    }
  },
  "cells": [
    {
      "cell_type": "markdown",
      "metadata": {
        "id": "view-in-github",
        "colab_type": "text"
      },
      "source": [
        "<a href=\"https://colab.research.google.com/github/LCaravaggio/AnalisisCuantitativoAvanzado/blob/main/Ejercicio_6.ipynb\" target=\"_parent\"><img src=\"https://colab.research.google.com/assets/colab-badge.svg\" alt=\"Open In Colab\"/></a>"
      ]
    },
    {
      "cell_type": "markdown",
      "source": [
        "# Ejercicio 6\n",
        "\n",
        "## Cargar la base\n",
        "\n",
        "La siguiente base describe datos sobre los salarios, la formación y la experiencia de empleadores que realizan entrevistas de trabajo."
      ],
      "metadata": {
        "id": "u3k0JTtjmKkI"
      }
    },
    {
      "cell_type": "code",
      "source": [
        "import pandas as pd\n",
        "import numpy as np"
      ],
      "metadata": {
        "id": "dGEQ3x7_mx9m"
      },
      "execution_count": null,
      "outputs": []
    },
    {
      "cell_type": "code",
      "execution_count": null,
      "metadata": {
        "id": "olHaot2HQL37",
        "colab": {
          "base_uri": "https://localhost:8080/"
        },
        "outputId": "1cf85600-1016-4352-d68a-60580bced47b"
      },
      "outputs": [
        {
          "output_type": "stream",
          "name": "stdout",
          "text": [
            "mkdir: cannot create directory ‘/root/.kaggle’: File exists\n",
            "Mounted at /content/drive\n",
            "salary-data.zip: Skipping, found more recently modified local copy (use --force to force download)\n"
          ]
        }
      ],
      "source": [
        "import json\n",
        "from google.colab import drive\n",
        "\n",
        "!mkdir ~/.kaggle\n",
        "!touch ~/.kaggle/kaggle.json\n",
        "\n",
        "drive.mount('/content/drive', force_remount=True)\n",
        "with open(\"/content/drive/My Drive/kaggle.json\", 'r') as f:\n",
        "    api_token= json.load(f)\n",
        "\n",
        "with open('/root/.kaggle/kaggle.json', 'w') as file:\n",
        "    json.dump(api_token, file)\n",
        "\n",
        "!chmod 600 ~/.kaggle/kaggle.json\n",
        "\n",
        "!kaggle datasets download -d mohithsairamreddy/salary-data"
      ]
    },
    {
      "cell_type": "code",
      "source": [
        "import zipfile\n",
        "import os\n",
        "\n",
        "os.listdir()\n",
        "\n",
        "for file in os.listdir():\n",
        "    if file.endswith('.zip'):\n",
        "      zip_ref = zipfile.ZipFile(file, 'r')\n",
        "      zip_ref.extractall()\n",
        "      zip_ref.close()"
      ],
      "metadata": {
        "id": "rEehM9QyQuqy"
      },
      "execution_count": null,
      "outputs": []
    },
    {
      "cell_type": "code",
      "source": [
        "## Cargamos la base\n",
        "df = pd.read_csv('/content/Salary_Data.csv')\n",
        "df.head()"
      ],
      "metadata": {
        "colab": {
          "base_uri": "https://localhost:8080/",
          "height": 206
        },
        "id": "kGLFhdFVR9iE",
        "outputId": "2e1da757-79a6-4f2a-de68-c2216d8e5f95"
      },
      "execution_count": null,
      "outputs": [
        {
          "output_type": "execute_result",
          "data": {
            "text/plain": [
              "    Age  Gender Education Level          Job Title  Years of Experience  \\\n",
              "0  32.0    Male      Bachelor's  Software Engineer                  5.0   \n",
              "1  28.0  Female        Master's       Data Analyst                  3.0   \n",
              "2  45.0    Male             PhD     Senior Manager                 15.0   \n",
              "3  36.0  Female      Bachelor's    Sales Associate                  7.0   \n",
              "4  52.0    Male        Master's           Director                 20.0   \n",
              "\n",
              "     Salary  \n",
              "0   90000.0  \n",
              "1   65000.0  \n",
              "2  150000.0  \n",
              "3   60000.0  \n",
              "4  200000.0  "
            ],
            "text/html": [
              "\n",
              "  <div id=\"df-a7b65ab2-2a7a-4840-b9c5-d05fbe962f84\">\n",
              "    <div class=\"colab-df-container\">\n",
              "      <div>\n",
              "<style scoped>\n",
              "    .dataframe tbody tr th:only-of-type {\n",
              "        vertical-align: middle;\n",
              "    }\n",
              "\n",
              "    .dataframe tbody tr th {\n",
              "        vertical-align: top;\n",
              "    }\n",
              "\n",
              "    .dataframe thead th {\n",
              "        text-align: right;\n",
              "    }\n",
              "</style>\n",
              "<table border=\"1\" class=\"dataframe\">\n",
              "  <thead>\n",
              "    <tr style=\"text-align: right;\">\n",
              "      <th></th>\n",
              "      <th>Age</th>\n",
              "      <th>Gender</th>\n",
              "      <th>Education Level</th>\n",
              "      <th>Job Title</th>\n",
              "      <th>Years of Experience</th>\n",
              "      <th>Salary</th>\n",
              "    </tr>\n",
              "  </thead>\n",
              "  <tbody>\n",
              "    <tr>\n",
              "      <th>0</th>\n",
              "      <td>32.0</td>\n",
              "      <td>Male</td>\n",
              "      <td>Bachelor's</td>\n",
              "      <td>Software Engineer</td>\n",
              "      <td>5.0</td>\n",
              "      <td>90000.0</td>\n",
              "    </tr>\n",
              "    <tr>\n",
              "      <th>1</th>\n",
              "      <td>28.0</td>\n",
              "      <td>Female</td>\n",
              "      <td>Master's</td>\n",
              "      <td>Data Analyst</td>\n",
              "      <td>3.0</td>\n",
              "      <td>65000.0</td>\n",
              "    </tr>\n",
              "    <tr>\n",
              "      <th>2</th>\n",
              "      <td>45.0</td>\n",
              "      <td>Male</td>\n",
              "      <td>PhD</td>\n",
              "      <td>Senior Manager</td>\n",
              "      <td>15.0</td>\n",
              "      <td>150000.0</td>\n",
              "    </tr>\n",
              "    <tr>\n",
              "      <th>3</th>\n",
              "      <td>36.0</td>\n",
              "      <td>Female</td>\n",
              "      <td>Bachelor's</td>\n",
              "      <td>Sales Associate</td>\n",
              "      <td>7.0</td>\n",
              "      <td>60000.0</td>\n",
              "    </tr>\n",
              "    <tr>\n",
              "      <th>4</th>\n",
              "      <td>52.0</td>\n",
              "      <td>Male</td>\n",
              "      <td>Master's</td>\n",
              "      <td>Director</td>\n",
              "      <td>20.0</td>\n",
              "      <td>200000.0</td>\n",
              "    </tr>\n",
              "  </tbody>\n",
              "</table>\n",
              "</div>\n",
              "      <button class=\"colab-df-convert\" onclick=\"convertToInteractive('df-a7b65ab2-2a7a-4840-b9c5-d05fbe962f84')\"\n",
              "              title=\"Convert this dataframe to an interactive table.\"\n",
              "              style=\"display:none;\">\n",
              "        \n",
              "  <svg xmlns=\"http://www.w3.org/2000/svg\" height=\"24px\"viewBox=\"0 0 24 24\"\n",
              "       width=\"24px\">\n",
              "    <path d=\"M0 0h24v24H0V0z\" fill=\"none\"/>\n",
              "    <path d=\"M18.56 5.44l.94 2.06.94-2.06 2.06-.94-2.06-.94-.94-2.06-.94 2.06-2.06.94zm-11 1L8.5 8.5l.94-2.06 2.06-.94-2.06-.94L8.5 2.5l-.94 2.06-2.06.94zm10 10l.94 2.06.94-2.06 2.06-.94-2.06-.94-.94-2.06-.94 2.06-2.06.94z\"/><path d=\"M17.41 7.96l-1.37-1.37c-.4-.4-.92-.59-1.43-.59-.52 0-1.04.2-1.43.59L10.3 9.45l-7.72 7.72c-.78.78-.78 2.05 0 2.83L4 21.41c.39.39.9.59 1.41.59.51 0 1.02-.2 1.41-.59l7.78-7.78 2.81-2.81c.8-.78.8-2.07 0-2.86zM5.41 20L4 18.59l7.72-7.72 1.47 1.35L5.41 20z\"/>\n",
              "  </svg>\n",
              "      </button>\n",
              "      \n",
              "  <style>\n",
              "    .colab-df-container {\n",
              "      display:flex;\n",
              "      flex-wrap:wrap;\n",
              "      gap: 12px;\n",
              "    }\n",
              "\n",
              "    .colab-df-convert {\n",
              "      background-color: #E8F0FE;\n",
              "      border: none;\n",
              "      border-radius: 50%;\n",
              "      cursor: pointer;\n",
              "      display: none;\n",
              "      fill: #1967D2;\n",
              "      height: 32px;\n",
              "      padding: 0 0 0 0;\n",
              "      width: 32px;\n",
              "    }\n",
              "\n",
              "    .colab-df-convert:hover {\n",
              "      background-color: #E2EBFA;\n",
              "      box-shadow: 0px 1px 2px rgba(60, 64, 67, 0.3), 0px 1px 3px 1px rgba(60, 64, 67, 0.15);\n",
              "      fill: #174EA6;\n",
              "    }\n",
              "\n",
              "    [theme=dark] .colab-df-convert {\n",
              "      background-color: #3B4455;\n",
              "      fill: #D2E3FC;\n",
              "    }\n",
              "\n",
              "    [theme=dark] .colab-df-convert:hover {\n",
              "      background-color: #434B5C;\n",
              "      box-shadow: 0px 1px 3px 1px rgba(0, 0, 0, 0.15);\n",
              "      filter: drop-shadow(0px 1px 2px rgba(0, 0, 0, 0.3));\n",
              "      fill: #FFFFFF;\n",
              "    }\n",
              "  </style>\n",
              "\n",
              "      <script>\n",
              "        const buttonEl =\n",
              "          document.querySelector('#df-a7b65ab2-2a7a-4840-b9c5-d05fbe962f84 button.colab-df-convert');\n",
              "        buttonEl.style.display =\n",
              "          google.colab.kernel.accessAllowed ? 'block' : 'none';\n",
              "\n",
              "        async function convertToInteractive(key) {\n",
              "          const element = document.querySelector('#df-a7b65ab2-2a7a-4840-b9c5-d05fbe962f84');\n",
              "          const dataTable =\n",
              "            await google.colab.kernel.invokeFunction('convertToInteractive',\n",
              "                                                     [key], {});\n",
              "          if (!dataTable) return;\n",
              "\n",
              "          const docLinkHtml = 'Like what you see? Visit the ' +\n",
              "            '<a target=\"_blank\" href=https://colab.research.google.com/notebooks/data_table.ipynb>data table notebook</a>'\n",
              "            + ' to learn more about interactive tables.';\n",
              "          element.innerHTML = '';\n",
              "          dataTable['output_type'] = 'display_data';\n",
              "          await google.colab.output.renderOutput(dataTable, element);\n",
              "          const docLink = document.createElement('div');\n",
              "          docLink.innerHTML = docLinkHtml;\n",
              "          element.appendChild(docLink);\n",
              "        }\n",
              "      </script>\n",
              "    </div>\n",
              "  </div>\n",
              "  "
            ]
          },
          "metadata": {},
          "execution_count": 15
        }
      ]
    },
    {
      "cell_type": "markdown",
      "source": [
        "## Procesamiento de la base\n",
        "\n",
        "Vemos que la variable `Education Level` tiene varios valores similares escritos de manera distinta."
      ],
      "metadata": {
        "id": "BBIUU-NUnMjW"
      }
    },
    {
      "cell_type": "code",
      "source": [
        "df[\"Education Level\"].value_counts()"
      ],
      "metadata": {
        "colab": {
          "base_uri": "https://localhost:8080/"
        },
        "id": "vO8TvDbYStTC",
        "outputId": "3b353327-55bc-4686-82f6-dc13c46c9df4"
      },
      "execution_count": null,
      "outputs": [
        {
          "output_type": "execute_result",
          "data": {
            "text/plain": [
              "Bachelor's Degree    2267\n",
              "Master's Degree      1573\n",
              "PhD                  1368\n",
              "Bachelor's            756\n",
              "High School           448\n",
              "Master's              288\n",
              "phD                     1\n",
              "Name: Education Level, dtype: int64"
            ]
          },
          "metadata": {},
          "execution_count": 16
        }
      ]
    },
    {
      "cell_type": "markdown",
      "source": [
        "Para unificar estos valores, la recatogrizamos creando una nueva variable denominada `Education New`:"
      ],
      "metadata": {
        "id": "RKvkvWt8ndGE"
      }
    },
    {
      "cell_type": "code",
      "source": [
        "df[\"Education New\"]=df[\"Education Level\"].copy()"
      ],
      "metadata": {
        "id": "skfsZ3tuT3p_"
      },
      "execution_count": null,
      "outputs": []
    },
    {
      "cell_type": "code",
      "source": [
        "df[\"Education New\"].loc[df[\"Education Level\"].str.contains(\"Bach\")==True]=\"Bachelor's\"\n",
        "df[\"Education New\"].loc[df[\"Education Level\"].str.contains(\"Mast\")==True]=\"Master's\"\n",
        "df[\"Education New\"].loc[df[\"Education Level\"].str.contains(\"hD\")==True]=\"PhD\"\n"
      ],
      "metadata": {
        "colab": {
          "base_uri": "https://localhost:8080/"
        },
        "id": "jLUsKTFYZK_D",
        "outputId": "ae0f43dd-c05b-4444-e47d-585a90807e90"
      },
      "execution_count": null,
      "outputs": [
        {
          "output_type": "stream",
          "name": "stderr",
          "text": [
            "<ipython-input-18-42d4324270b5>:1: SettingWithCopyWarning: \n",
            "A value is trying to be set on a copy of a slice from a DataFrame\n",
            "\n",
            "See the caveats in the documentation: https://pandas.pydata.org/pandas-docs/stable/user_guide/indexing.html#returning-a-view-versus-a-copy\n",
            "  df[\"Education New\"].loc[df[\"Education Level\"].str.contains(\"Bach\")==True]=\"Bachelor's\"\n",
            "<ipython-input-18-42d4324270b5>:2: SettingWithCopyWarning: \n",
            "A value is trying to be set on a copy of a slice from a DataFrame\n",
            "\n",
            "See the caveats in the documentation: https://pandas.pydata.org/pandas-docs/stable/user_guide/indexing.html#returning-a-view-versus-a-copy\n",
            "  df[\"Education New\"].loc[df[\"Education Level\"].str.contains(\"Mast\")==True]=\"Master's\"\n",
            "<ipython-input-18-42d4324270b5>:3: SettingWithCopyWarning: \n",
            "A value is trying to be set on a copy of a slice from a DataFrame\n",
            "\n",
            "See the caveats in the documentation: https://pandas.pydata.org/pandas-docs/stable/user_guide/indexing.html#returning-a-view-versus-a-copy\n",
            "  df[\"Education New\"].loc[df[\"Education Level\"].str.contains(\"hD\")==True]=\"PhD\"\n"
          ]
        }
      ]
    },
    {
      "cell_type": "markdown",
      "source": [
        "Verificamos que con estos cambios, las categorías quedaron unificadas"
      ],
      "metadata": {
        "id": "rwziEO4HnpcX"
      }
    },
    {
      "cell_type": "code",
      "source": [
        "df[\"Education New\"].value_counts()"
      ],
      "metadata": {
        "colab": {
          "base_uri": "https://localhost:8080/"
        },
        "id": "C3jD9Z_2noxM",
        "outputId": "8ac69814-00a5-4d23-90d5-e493cc062829"
      },
      "execution_count": null,
      "outputs": [
        {
          "output_type": "execute_result",
          "data": {
            "text/plain": [
              "Bachelor's     3023\n",
              "Master's       1861\n",
              "PhD            1369\n",
              "High School     448\n",
              "Name: Education New, dtype: int64"
            ]
          },
          "metadata": {},
          "execution_count": 19
        }
      ]
    },
    {
      "cell_type": "code",
      "source": [
        "df.info()"
      ],
      "metadata": {
        "colab": {
          "base_uri": "https://localhost:8080/"
        },
        "id": "PHZ9a9DNpyc5",
        "outputId": "e00c66d7-2e86-4f7d-b847-ef8b22f1dd2f"
      },
      "execution_count": null,
      "outputs": [
        {
          "output_type": "stream",
          "name": "stdout",
          "text": [
            "<class 'pandas.core.frame.DataFrame'>\n",
            "RangeIndex: 6704 entries, 0 to 6703\n",
            "Data columns (total 7 columns):\n",
            " #   Column               Non-Null Count  Dtype  \n",
            "---  ------               --------------  -----  \n",
            " 0   Age                  6702 non-null   float64\n",
            " 1   Gender               6702 non-null   object \n",
            " 2   Education Level      6701 non-null   object \n",
            " 3   Job Title            6702 non-null   object \n",
            " 4   Years of Experience  6701 non-null   float64\n",
            " 5   Salary               6699 non-null   float64\n",
            " 6   Education New        6701 non-null   object \n",
            "dtypes: float64(3), object(4)\n",
            "memory usage: 366.8+ KB\n"
          ]
        }
      ]
    },
    {
      "cell_type": "markdown",
      "source": [
        "Borramos además los datos faltantes de la base"
      ],
      "metadata": {
        "id": "gHPxPBZjpcH6"
      }
    },
    {
      "cell_type": "code",
      "source": [
        "df=df.dropna()"
      ],
      "metadata": {
        "id": "L0oQawI6pbmS"
      },
      "execution_count": null,
      "outputs": []
    },
    {
      "cell_type": "markdown",
      "source": [
        "Verificamos que ahora no quedan datos faltantes"
      ],
      "metadata": {
        "id": "ZLTbKpAZp-YT"
      }
    },
    {
      "cell_type": "code",
      "source": [
        "df.info()"
      ],
      "metadata": {
        "colab": {
          "base_uri": "https://localhost:8080/"
        },
        "id": "R5BLq3pRp-Fx",
        "outputId": "f3fa4e95-5f6e-487e-f500-4a03923a83ee"
      },
      "execution_count": null,
      "outputs": [
        {
          "output_type": "stream",
          "name": "stdout",
          "text": [
            "<class 'pandas.core.frame.DataFrame'>\n",
            "Int64Index: 6698 entries, 0 to 6703\n",
            "Data columns (total 7 columns):\n",
            " #   Column               Non-Null Count  Dtype  \n",
            "---  ------               --------------  -----  \n",
            " 0   Age                  6698 non-null   float64\n",
            " 1   Gender               6698 non-null   object \n",
            " 2   Education Level      6698 non-null   object \n",
            " 3   Job Title            6698 non-null   object \n",
            " 4   Years of Experience  6698 non-null   float64\n",
            " 5   Salary               6698 non-null   float64\n",
            " 6   Education New        6698 non-null   object \n",
            "dtypes: float64(3), object(4)\n",
            "memory usage: 418.6+ KB\n"
          ]
        }
      ]
    },
    {
      "cell_type": "markdown",
      "source": [
        "# Preguntas\n",
        "\n",
        "## Pregunta 1\n",
        "\n",
        "Contar la cantidad total de individuos y la cantidad de personas de cada género en la base. Con estos datos, calcular el porcentaje de cada género en la base.\n",
        "\n",
        "*Ayuda:* el atributo `.shape` devuelve la cantidad de filas y columnas de una base. Por lo tanto, tomando `df.shape[0]` se calcula la cantidad de filas de la base `df` y por lo tanto, la cantidad de individuos.\n",
        "Para contar la cantidad de mujeres, por ejemplo, se puede recorrer todas las filas de \"Gender\" viendo en cada instancia si el valor coincide con \"Female\". Cuando se suman esos valores, se obtiene la cantidad de mujeres: `np.sum(df[\"Gender\"]==\"Female\")`\n"
      ],
      "metadata": {
        "id": "2SpWrlegoYaj"
      }
    },
    {
      "cell_type": "code",
      "source": [],
      "metadata": {
        "id": "O55aSZ9_rQ6x"
      },
      "execution_count": null,
      "outputs": []
    },
    {
      "cell_type": "markdown",
      "source": [
        "## Pregunta 2\n",
        "\n",
        "Notemos que el porcentaje identificado como `Other` en la base es pequeño y no es un número que permita obtener conclusiones estadísticas pertinentes.\n",
        "\n",
        "El porcentaje de hombres y mujeres parece equilibrado, sin embargo, calcular un intervalo de confianza para la proporción de mujeres. ¿Diría que podría considerarse del 50% el porcentaje de mujeres?\n",
        "\n",
        "*Ayuda:* Utilizar la función provista y los datos del ejercicio anterior. En caso de necesitarlo, utilice el \"help\" para entender cómo funciona la función. Recordar que el comando devuelve proporciones (entre 0 y 1), no porcentajes (entre 0 y 100)."
      ],
      "metadata": {
        "id": "GaH1XdyQrqJC"
      }
    },
    {
      "cell_type": "code",
      "source": [
        "from statsmodels.stats.proportion import proportion_confint\n"
      ],
      "metadata": {
        "id": "avstO5xRtmG9"
      },
      "execution_count": null,
      "outputs": []
    },
    {
      "cell_type": "code",
      "source": [
        "help(proportion_confint)"
      ],
      "metadata": {
        "id": "xI-R9Y6KuX5W"
      },
      "execution_count": null,
      "outputs": []
    },
    {
      "cell_type": "markdown",
      "source": [
        "## Pregunta 3\n",
        "\n",
        "Calcular un intervalo de confianza para el salario medio y comparar los salarios medios entre hombres y mujeres con la misma metodología, a partir de los datos de esta base.\n",
        "\n",
        "*Ayuda:* Se están evaluando medias, no porcentajes, por lo que se usa la función provista. La diferencia entre ambos intervalos reside en la cantidad de conjuntos de datos que se pasan como argumento. Para identificar, por ejemplo, los datos de salarios sólo de las mujeres, se puede utilizar el siguiente comando: `df.Salary[df[\"Gender\"]==\"Female\"]`"
      ],
      "metadata": {
        "id": "bVYugQgQt49h"
      }
    },
    {
      "cell_type": "code",
      "source": [
        "from statsmodels.stats.weightstats import zconfint"
      ],
      "metadata": {
        "id": "noU_wTvUwHDG"
      },
      "execution_count": null,
      "outputs": []
    },
    {
      "cell_type": "code",
      "source": [
        "help(zconfint)"
      ],
      "metadata": {
        "id": "G55QyX4Rxcz4"
      },
      "execution_count": null,
      "outputs": []
    },
    {
      "cell_type": "markdown",
      "source": [
        "## Pregunta 4\n",
        "\n",
        "Utilizar el comando `relplot` del paquete `seaborn` para ver cómo se distribuyen los salarios según el nivel educativo (utilizar la variable `Education New` para evitar un exceso de paneles), haciendo un scatterplot por cada categoría.\n",
        "\n",
        "*Ayuda:* El comando `relplot` puede hacer gráficos de línea (lineplot) o de dispersión (scatterplot) separando automáticamente por los valores de alguna variable categórica. Por ejemplo, para este caso, el objetivo es utilizar la base (`data=df`) para hacer un scatterplot (`kind=\"scatter\"`) donde se visualice la relación entre `x=\"Gender\"` e `y=\"Salary\"`, separando en columnas por `col=\"Education New\"`.\n",
        "\n",
        "**Comentario:** Notar lo que sucede con el nivel \"Other\" de la variable \"Gender\". Hay mayor representación en los que tienen el secundario completo. Esto podría estar asociado a la edad y una conclusión inicial (pero incompleta) podría ser que las personas que se identifican con género no binario crecieron con el tiempo, ya que asumimos que son personas más jóvenes al no haber llegado a un mayor nivel educativo. Sin embargo, esta conclusión inicial omite que con el tiempo las personas que no se identifican con un género específico durante años sintieron la necesidad de reprimirlo y que con las discusiones que se llevan a cabo hoy ya no sienten esa necesidad.\n"
      ],
      "metadata": {
        "id": "tB1Oz1MfxQ8b"
      }
    },
    {
      "cell_type": "code",
      "source": [
        "import matplotlib.pyplot as plt\n",
        "import seaborn as sns"
      ],
      "metadata": {
        "id": "I6neBLN2lFhu"
      },
      "execution_count": null,
      "outputs": []
    },
    {
      "cell_type": "code",
      "source": [
        "help(sns.relplot)"
      ],
      "metadata": {
        "id": "B3L-FGJAlK8z"
      },
      "execution_count": null,
      "outputs": []
    },
    {
      "cell_type": "markdown",
      "source": [
        "## Pregunta 5\n",
        "\n",
        "Comparar con intervalos de confianza el salario medio de hombres y mujeres a través de todos los niveles educativos, a partir de los datos de la base. Es decir, seleccionar los salarios de los hombres que tienen el secundario completo y compararlo con los salarios de las mujeres que tienen el secundario completo, y así sucesivamente con los otros niveles educativos. Serían 4 intervalos de confianza.\n",
        "\n",
        "*Ayuda:* Es similar al ejercicio 3, aunque hay que hacer una selección extra para cada intervalo. Para seleccionar, por ejemplo, las mujeres que tienen el secundario completo, tendrían que usar el comando\n",
        "`df.Salary[(df[\"Gender\"]==\"Female\") & (df[\"Education New\"]==\"High School\")]`"
      ],
      "metadata": {
        "id": "aN-QYYwM2oHf"
      }
    },
    {
      "cell_type": "code",
      "source": [
        "from statsmodels.stats.weightstats as smsw\n",
        "df=df[np.isnan(df[\"Salary\"])==False]\n",
        "dfM=df[df[\"Gender\"]==\"Male\"]\n",
        "dfM=dfM[np.isnan(dfM[\"Salary\"])==False]\n",
        "dfF=df[df[\"Gender\"]==\"Female\"]\n",
        "dfF=dfF[np.isnan(dfF[\"Salary\"])==False]\n",
        "print(smsw.zconfint(df[\"Salary\"],ddof=0))\n",
        "print(smsw.zconfint(dfM[\"Salary\"],dfF[\"Salary\"],ddof=0))\n",
        "print(smsw.zconfint(dfM[\"Salary\"][dfM[\"Education New\"]==\"Bachelor's\"],dfF[\"Salary\"][dfF[\"Education New\"]==\"Bachelor's\"],ddof=0))\n",
        "print(smsw.zconfint(dfM[\"Salary\"][dfM[\"Education New\"]==\"Master's\"],dfF[\"Salary\"][dfF[\"Education New\"]==\"Master's\"],ddof=0))\n",
        "print(smsw.zconfint(dfM[\"Salary\"][dfM[\"Education New\"]==\"PhD\"],dfF[\"Salary\"][dfF[\"Education New\"]==\"PhD\"],ddof=0))\n",
        "print(smsw.zconfint(dfM[\"Salary\"][dfM[\"Education New\"]==\"High School\"],dfF[\"Salary\"][dfF[\"Education New\"]==\"High School\"],ddof=0))\n"
      ],
      "metadata": {
        "colab": {
          "base_uri": "https://localhost:8080/"
        },
        "id": "oTYwHM8rzWBi",
        "outputId": "50ef831a-dd41-4077-e346-8a2e7437a63e"
      },
      "execution_count": null,
      "outputs": [
        {
          "output_type": "stream",
          "name": "stdout",
          "text": [
            "(114063.01169422595, 116590.91784749669)\n",
            "(10977.787363969763, 16023.957121256552)\n",
            "(6612.063783349674, 13001.034178420581)\n",
            "(13712.64162240878, 21019.458918054916)\n",
            "(4688.2854173788255, 12201.271944147997)\n",
            "(5588.686593235742, 11660.720491937089)\n"
          ]
        }
      ]
    }
  ]
}