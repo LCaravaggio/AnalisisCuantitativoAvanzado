{
  "nbformat": 4,
  "nbformat_minor": 0,
  "metadata": {
    "colab": {
      "provenance": [],
      "authorship_tag": "ABX9TyMiXexYSbmSmUjkUeq2Ocx/",
      "include_colab_link": true
    },
    "kernelspec": {
      "name": "python3",
      "display_name": "Python 3"
    },
    "language_info": {
      "name": "python"
    }
  },
  "cells": [
    {
      "cell_type": "markdown",
      "metadata": {
        "id": "view-in-github",
        "colab_type": "text"
      },
      "source": [
        "<a href=\"https://colab.research.google.com/github/LCaravaggio/AnalisisCuantitativoAvanzado/blob/main/SeriesdeTiempo/EMAE_predict.ipynb\" target=\"_parent\"><img src=\"https://colab.research.google.com/assets/colab-badge.svg\" alt=\"Open In Colab\"/></a>"
      ]
    },
    {
      "cell_type": "code",
      "execution_count": 1,
      "metadata": {
        "id": "anoFFKOLo7AD"
      },
      "outputs": [],
      "source": [
        "from google.colab import drive\n",
        "import json\n",
        "\n",
        "import requests\n",
        "from requests.auth import HTTPBasicAuth\n",
        "\n",
        "import pandas as pd\n",
        "\n",
        "from matplotlib import pyplot as plt\n",
        "import seaborn as sns"
      ]
    },
    {
      "cell_type": "code",
      "source": [
        "drive.mount('/content/drive', force_remount=True)\n",
        "with open(\"/content/drive/My Drive/alphacast.json\", 'r') as f:\n",
        "    api_token= json.load(f)"
      ],
      "metadata": {
        "colab": {
          "base_uri": "https://localhost:8080/"
        },
        "id": "CUgGhtBbpqt4",
        "outputId": "961a3ed1-6e1e-42ec-9c13-15265441b8e3"
      },
      "execution_count": 2,
      "outputs": [
        {
          "output_type": "stream",
          "name": "stdout",
          "text": [
            "Mounted at /content/drive\n"
          ]
        }
      ]
    },
    {
      "cell_type": "code",
      "source": [
        "# Definir user key para la API\n",
        "user_key = api_token[\"key\"]"
      ],
      "metadata": {
        "id": "2rnsQ4SwpxOW"
      },
      "execution_count": 3,
      "outputs": []
    },
    {
      "cell_type": "code",
      "source": [
        "# EMAE\n",
        "emae = requests.get('https://api.alphacast.io/datasets/5331/data?apiKey='+user_key+'&&$format=csv', auth=HTTPBasicAuth(user_key, ''))\n",
        "open('emae.csv','wb').write(emae.content)\n",
        "emae = pd.read_csv('emae.csv',delimiter = ',')"
      ],
      "metadata": {
        "id": "BgG4gMaVp1Dy"
      },
      "execution_count": 4,
      "outputs": []
    },
    {
      "cell_type": "code",
      "source": [
        "emae.set_index('Date', inplace = True)\n",
        "emae = emae.loc['2016-02-01':]\n",
        "y=emae['Emae - current_prices_mom']"
      ],
      "metadata": {
        "id": "AK_eX_S0p2po"
      },
      "execution_count": 8,
      "outputs": []
    },
    {
      "cell_type": "code",
      "source": [
        "# IPI\n",
        "ipi = requests.get('https://api.alphacast.io/datasets/5679/data?apiKey='+user_key+'&&$format=csv', auth=HTTPBasicAuth(user_key, ''))\n",
        "open('ipi.csv','wb').write(ipi.content)\n",
        "ipi = pd.read_csv('ipi.csv',delimiter = ',')\n",
        "\n",
        "\n",
        "ipi['Date'] = pd.to_datetime(ipi['Date'])\n",
        "ipi.set_index('Date', inplace = True)\n",
        "ipi = ipi[(ipi['Division'] == \"IPI Manufacturero\") & (ipi['Seasonal Adjustment'] == \"Seasonally Adjusted\")]\n",
        "ipi = ipi['Value - sa_MoM']\n",
        "ipi.columns = ['Value - sa_MoM']\n",
        "ipi = ipi.loc['2016-02-01':]"
      ],
      "metadata": {
        "id": "KiICqmnkxpos"
      },
      "execution_count": 10,
      "outputs": []
    },
    {
      "cell_type": "code",
      "source": [
        "# ISAC\n",
        "isac = requests.get('https://api.alphacast.io/datasets/5565/data?apiKey='+user_key+'&&$format=csv', auth=HTTPBasicAuth(user_key, ''))\n",
        "open('isac.csv','wb').write(isac.content)\n",
        "isac = pd.read_csv('isac.csv',delimiter = ',')\n",
        "\n",
        "\n",
        "isac['Date'] = pd.to_datetime(isac['Date'])\n",
        "isac.set_index('Date', inplace = True)\n",
        "isac = isac['Nivel general - sa_MoM']\n",
        "isac.columns = ['Nivel general - sa_MoM']\n",
        "isac = isac.loc['2016-02-01':]"
      ],
      "metadata": {
        "id": "TNXAcl3ixxPW"
      },
      "execution_count": 12,
      "outputs": []
    },
    {
      "cell_type": "code",
      "source": [
        "isac=pd.Series(isac, name='ISAC')\n",
        "ipi=pd.Series(ipi, name='IPI')"
      ],
      "metadata": {
        "id": "3i9AbJpex-z2"
      },
      "execution_count": 14,
      "outputs": []
    },
    {
      "cell_type": "code",
      "source": [
        "X = pd.concat([ipi, isac], axis=1)"
      ],
      "metadata": {
        "id": "HKOu6Ms3x5LZ"
      },
      "execution_count": 15,
      "outputs": []
    },
    {
      "cell_type": "code",
      "source": [
        "from sklearn import linear_model\n",
        "lr = linear_model.LinearRegression()\n",
        "lr.fit(X[:-1], y)\n",
        "Yest = lr.predict(X)"
      ],
      "metadata": {
        "id": "dbMyptIYyzRi"
      },
      "execution_count": 19,
      "outputs": []
    },
    {
      "cell_type": "code",
      "source": [
        "Yest"
      ],
      "metadata": {
        "id": "2U4GxJKCgIDN",
        "outputId": "c1badcd4-c7c6-4349-a6d0-a08eb2aacc76",
        "colab": {
          "base_uri": "https://localhost:8080/"
        }
      },
      "execution_count": 26,
      "outputs": [
        {
          "output_type": "execute_result",
          "data": {
            "text/plain": [
              "array([ 2.05632676e-01, -4.20358996e-01, -8.44221140e-01,  6.13662608e-01,\n",
              "       -3.85649888e-01, -2.65928043e-01,  1.48173567e+00,  1.19423475e-01,\n",
              "       -1.67960140e+00,  2.01405643e+00,  6.73385174e-01,  1.72370129e-01,\n",
              "       -4.33332606e-02,  1.61849256e+00, -9.12171220e-01,  5.86282476e-01,\n",
              "        7.73274975e-01, -2.22072089e-01,  4.80957791e-01,  8.96772855e-02,\n",
              "        5.93984144e-01,  9.32867428e-01, -4.49127272e-01,  6.35908365e-01,\n",
              "       -2.35458147e-01,  3.03464457e-01, -1.96351602e-01, -2.22397704e-01,\n",
              "        5.79804033e-02, -1.68834597e-01,  3.54650801e-01, -1.87397179e-01,\n",
              "       -4.31607562e-02, -6.75866830e-01, -7.57139643e-01,  1.21143848e+00,\n",
              "        1.53970113e+00, -7.95692809e-01,  4.09332794e-01,  4.32968413e-01,\n",
              "       -1.35833105e+00,  1.18537410e+00, -1.48298585e-01, -5.52762804e-01,\n",
              "       -3.53524168e-01,  4.30493655e-02, -8.79434691e-01, -2.24532704e-02,\n",
              "        1.34620133e-01, -5.19773112e+00, -6.81588245e+00,  1.48511130e+01,\n",
              "        7.40996572e+00,  1.26476453e+00, -1.16000188e+00,  1.80438974e+00,\n",
              "        5.89723198e-01,  7.28668569e-01,  1.76079596e+00, -6.07290933e-01,\n",
              "       -6.29878403e-02,  3.68296607e-01, -2.97821378e-01, -1.29159062e+00,\n",
              "        1.86124720e+00,  2.09938058e-01, -1.93315160e-01,  1.55523627e-01,\n",
              "        1.89541754e-01,  4.22105496e-01,  1.08607734e+00, -1.39512054e+00,\n",
              "        1.28112282e+00, -2.14832142e-01,  5.40541851e-01,  2.81533147e-03,\n",
              "        1.11084813e-01, -6.09832777e-02,  2.64647023e-01, -6.69611903e-02,\n",
              "       -5.84598314e-01,  3.16646333e-01, -2.29392190e-01,  2.13446740e-01,\n",
              "        1.84142309e-01,  7.55709512e-01, -3.66492129e-01,  2.97174064e-01])"
            ]
          },
          "metadata": {},
          "execution_count": 26
        }
      ]
    },
    {
      "cell_type": "code",
      "source": [
        "print('DATOS DEL MODELO REGRESIÓN LINEAL SIMPLE')\n",
        "print()\n",
        "print('Valor de la pendiente o coeficiente \"a\":')\n",
        "print(lr.coef_)\n",
        "print('Valor de la intersección o coeficiente \"b\":')\n",
        "print(lr.intercept_)\n",
        "print()\n",
        "print('La ecuación del modelo es igual a:')\n",
        "print('y = ', lr.coef_, 'X + ', lr.intercept_)\n",
        "print()\n",
        "print('Precisión del modelo:')\n",
        "print(lr.score(X[:-1], y))"
      ],
      "metadata": {
        "colab": {
          "base_uri": "https://localhost:8080/"
        },
        "id": "i8wh1QUv5lRk",
        "outputId": "d7a05625-d403-48f6-c0ed-a34328cb1227"
      },
      "execution_count": 22,
      "outputs": [
        {
          "output_type": "stream",
          "name": "stdout",
          "text": [
            "DATOS DEL MODELO REGRESIÓN LINEAL SIMPLE\n",
            "\n",
            "Valor de la pendiente o coeficiente \"a\":\n",
            "[-0.05085379  0.16227664]\n",
            "Valor de la intersección o coeficiente \"b\":\n",
            "0.11130067493589973\n",
            "\n",
            "La ecuación del modelo es igual a:\n",
            "y =  [-0.05085379  0.16227664] X +  0.11130067493589973\n",
            "\n",
            "Precisión del modelo:\n",
            "0.1528041309179733\n"
          ]
        }
      ]
    },
    {
      "cell_type": "code",
      "source": [
        "lr.coef_[0]"
      ],
      "metadata": {
        "colab": {
          "base_uri": "https://localhost:8080/"
        },
        "id": "5qDf13D36X3h",
        "outputId": "17d29f28-a35f-458e-f807-4dba9de1c61c"
      },
      "execution_count": 23,
      "outputs": [
        {
          "output_type": "execute_result",
          "data": {
            "text/plain": [
              "-0.05085378629688597"
            ]
          },
          "metadata": {},
          "execution_count": 23
        }
      ]
    },
    {
      "cell_type": "code",
      "source": [
        "emae_predict=X[-1:]['IPI']*lr.coef_[0]+X[-1:]['ISAC']*lr.coef_[1]+lr.intercept_"
      ],
      "metadata": {
        "id": "p1xE_v_J5-lp"
      },
      "execution_count": 24,
      "outputs": []
    },
    {
      "cell_type": "code",
      "source": [
        "emae_predict"
      ],
      "metadata": {
        "colab": {
          "base_uri": "https://localhost:8080/"
        },
        "id": "LzoJR96V6hRf",
        "outputId": "7294b525-45cf-451d-e204-cb98c0f93d57"
      },
      "execution_count": 25,
      "outputs": [
        {
          "output_type": "execute_result",
          "data": {
            "text/plain": [
              "Date\n",
              "2023-05-01    0.297174\n",
              "dtype: float64"
            ]
          },
          "metadata": {},
          "execution_count": 25
        }
      ]
    }
  ]
}