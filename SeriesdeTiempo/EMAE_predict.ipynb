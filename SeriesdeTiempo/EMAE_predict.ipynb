{
  "nbformat": 4,
  "nbformat_minor": 0,
  "metadata": {
    "colab": {
      "provenance": [],
      "authorship_tag": "ABX9TyOZUy/EDTyegY5yU3sozx/M",
      "include_colab_link": true
    },
    "kernelspec": {
      "name": "python3",
      "display_name": "Python 3"
    },
    "language_info": {
      "name": "python"
    }
  },
  "cells": [
    {
      "cell_type": "markdown",
      "metadata": {
        "id": "view-in-github",
        "colab_type": "text"
      },
      "source": [
        "<a href=\"https://colab.research.google.com/github/LCaravaggio/AnalisisCuantitativoAvanzado/blob/main/SeriesdeTiempo/EMAE_predict.ipynb\" target=\"_parent\"><img src=\"https://colab.research.google.com/assets/colab-badge.svg\" alt=\"Open In Colab\"/></a>"
      ]
    },
    {
      "cell_type": "code",
      "execution_count": 1,
      "metadata": {
        "id": "anoFFKOLo7AD"
      },
      "outputs": [],
      "source": [
        "import json\n",
        "\n",
        "import requests\n",
        "from requests.auth import HTTPBasicAuth\n",
        "\n",
        "import pandas as pd\n",
        "\n",
        "from matplotlib import pyplot as plt\n",
        "import seaborn as sns"
      ]
    },
    {
      "cell_type": "code",
      "source": [
        "from google.colab import userdata\n",
        "\n",
        "# Definir user key para la API\n",
        "user_key = userdata.get('ALPHACAST')"
      ],
      "metadata": {
        "id": "2rnsQ4SwpxOW"
      },
      "execution_count": 2,
      "outputs": []
    },
    {
      "cell_type": "code",
      "source": [
        "# EMAE\n",
        "emae = requests.get('https://api.alphacast.io/datasets/5331/data?apiKey='+user_key+'&&$format=csv', auth=HTTPBasicAuth(user_key, ''))\n",
        "open('emae.csv','wb').write(emae.content)\n",
        "emae = pd.read_csv('emae.csv',delimiter = ',')"
      ],
      "metadata": {
        "id": "BgG4gMaVp1Dy"
      },
      "execution_count": 3,
      "outputs": []
    },
    {
      "cell_type": "code",
      "source": [
        "emae.set_index('Date', inplace = True)\n",
        "emae = emae.loc['2016-02-01':]\n",
        "y=emae['Emae - current_prices_mom']"
      ],
      "metadata": {
        "id": "AK_eX_S0p2po"
      },
      "execution_count": 4,
      "outputs": []
    },
    {
      "cell_type": "code",
      "source": [
        "# IPI\n",
        "ipi = requests.get('https://api.alphacast.io/datasets/5679/data?apiKey='+user_key+'&&$format=csv', auth=HTTPBasicAuth(user_key, ''))\n",
        "open('ipi.csv','wb').write(ipi.content)\n",
        "ipi = pd.read_csv('ipi.csv',delimiter = ',')\n",
        "\n",
        "\n",
        "ipi['Date'] = pd.to_datetime(ipi['Date'])\n",
        "ipi.set_index('Date', inplace = True)"
      ],
      "metadata": {
        "id": "KiICqmnkxpos"
      },
      "execution_count": 6,
      "outputs": []
    },
    {
      "cell_type": "code",
      "source": [
        "ipi.head()"
      ],
      "metadata": {
        "id": "BI4I1X5Jq0pU",
        "outputId": "efca05ac-0c8b-46fc-ebe9-bc088fcc4857",
        "colab": {
          "base_uri": "https://localhost:8080/",
          "height": 342
        }
      },
      "execution_count": 9,
      "outputs": [
        {
          "output_type": "execute_result",
          "data": {
            "text/plain": [
              "              Country             Division Seasonal Adjustment  \\\n",
              "Date                                                             \n",
              "2016-01-01  Argentina  Alimentos y bebidas        Not adjusted   \n",
              "2016-01-01  Argentina  Alimentos y bebidas        Not adjusted   \n",
              "2016-01-01  Argentina  Alimentos y bebidas        Not adjusted   \n",
              "2016-01-01  Argentina  Alimentos y bebidas        Not adjusted   \n",
              "2016-01-01  Argentina  Alimentos y bebidas        Not adjusted   \n",
              "\n",
              "                                               Subclass       Value  \\\n",
              "Date                                                                  \n",
              "2016-01-01  Azúcar, productos de confitería y chocolate   50.680600   \n",
              "2016-01-01                                  Carne aviar  212.009238   \n",
              "2016-01-01                                 Carne vacuna   83.169668   \n",
              "2016-01-01                         Fiambres y embutidos  143.350871   \n",
              "2016-01-01  Galletitas, productos de panadería y pastas   95.801964   \n",
              "\n",
              "            Value - current_prices_3m_yoy  Value - current_prices_yoy  \\\n",
              "Date                                                                    \n",
              "2016-01-01                            NaN                         NaN   \n",
              "2016-01-01                            NaN                         NaN   \n",
              "2016-01-01                            NaN                         NaN   \n",
              "2016-01-01                            NaN                         NaN   \n",
              "2016-01-01                            NaN                         NaN   \n",
              "\n",
              "            Value - current_prices_mom  \n",
              "Date                                    \n",
              "2016-01-01                         NaN  \n",
              "2016-01-01                         NaN  \n",
              "2016-01-01                         NaN  \n",
              "2016-01-01                         NaN  \n",
              "2016-01-01                         NaN  "
            ],
            "text/html": [
              "\n",
              "  <div id=\"df-153b70d3-9d32-4846-afa2-1b2bfd3d87dd\" class=\"colab-df-container\">\n",
              "    <div>\n",
              "<style scoped>\n",
              "    .dataframe tbody tr th:only-of-type {\n",
              "        vertical-align: middle;\n",
              "    }\n",
              "\n",
              "    .dataframe tbody tr th {\n",
              "        vertical-align: top;\n",
              "    }\n",
              "\n",
              "    .dataframe thead th {\n",
              "        text-align: right;\n",
              "    }\n",
              "</style>\n",
              "<table border=\"1\" class=\"dataframe\">\n",
              "  <thead>\n",
              "    <tr style=\"text-align: right;\">\n",
              "      <th></th>\n",
              "      <th>Country</th>\n",
              "      <th>Division</th>\n",
              "      <th>Seasonal Adjustment</th>\n",
              "      <th>Subclass</th>\n",
              "      <th>Value</th>\n",
              "      <th>Value - current_prices_3m_yoy</th>\n",
              "      <th>Value - current_prices_yoy</th>\n",
              "      <th>Value - current_prices_mom</th>\n",
              "    </tr>\n",
              "    <tr>\n",
              "      <th>Date</th>\n",
              "      <th></th>\n",
              "      <th></th>\n",
              "      <th></th>\n",
              "      <th></th>\n",
              "      <th></th>\n",
              "      <th></th>\n",
              "      <th></th>\n",
              "      <th></th>\n",
              "    </tr>\n",
              "  </thead>\n",
              "  <tbody>\n",
              "    <tr>\n",
              "      <th>2016-01-01</th>\n",
              "      <td>Argentina</td>\n",
              "      <td>Alimentos y bebidas</td>\n",
              "      <td>Not adjusted</td>\n",
              "      <td>Azúcar, productos de confitería y chocolate</td>\n",
              "      <td>50.680600</td>\n",
              "      <td>NaN</td>\n",
              "      <td>NaN</td>\n",
              "      <td>NaN</td>\n",
              "    </tr>\n",
              "    <tr>\n",
              "      <th>2016-01-01</th>\n",
              "      <td>Argentina</td>\n",
              "      <td>Alimentos y bebidas</td>\n",
              "      <td>Not adjusted</td>\n",
              "      <td>Carne aviar</td>\n",
              "      <td>212.009238</td>\n",
              "      <td>NaN</td>\n",
              "      <td>NaN</td>\n",
              "      <td>NaN</td>\n",
              "    </tr>\n",
              "    <tr>\n",
              "      <th>2016-01-01</th>\n",
              "      <td>Argentina</td>\n",
              "      <td>Alimentos y bebidas</td>\n",
              "      <td>Not adjusted</td>\n",
              "      <td>Carne vacuna</td>\n",
              "      <td>83.169668</td>\n",
              "      <td>NaN</td>\n",
              "      <td>NaN</td>\n",
              "      <td>NaN</td>\n",
              "    </tr>\n",
              "    <tr>\n",
              "      <th>2016-01-01</th>\n",
              "      <td>Argentina</td>\n",
              "      <td>Alimentos y bebidas</td>\n",
              "      <td>Not adjusted</td>\n",
              "      <td>Fiambres y embutidos</td>\n",
              "      <td>143.350871</td>\n",
              "      <td>NaN</td>\n",
              "      <td>NaN</td>\n",
              "      <td>NaN</td>\n",
              "    </tr>\n",
              "    <tr>\n",
              "      <th>2016-01-01</th>\n",
              "      <td>Argentina</td>\n",
              "      <td>Alimentos y bebidas</td>\n",
              "      <td>Not adjusted</td>\n",
              "      <td>Galletitas, productos de panadería y pastas</td>\n",
              "      <td>95.801964</td>\n",
              "      <td>NaN</td>\n",
              "      <td>NaN</td>\n",
              "      <td>NaN</td>\n",
              "    </tr>\n",
              "  </tbody>\n",
              "</table>\n",
              "</div>\n",
              "    <div class=\"colab-df-buttons\">\n",
              "\n",
              "  <div class=\"colab-df-container\">\n",
              "    <button class=\"colab-df-convert\" onclick=\"convertToInteractive('df-153b70d3-9d32-4846-afa2-1b2bfd3d87dd')\"\n",
              "            title=\"Convert this dataframe to an interactive table.\"\n",
              "            style=\"display:none;\">\n",
              "\n",
              "  <svg xmlns=\"http://www.w3.org/2000/svg\" height=\"24px\" viewBox=\"0 -960 960 960\">\n",
              "    <path d=\"M120-120v-720h720v720H120Zm60-500h600v-160H180v160Zm220 220h160v-160H400v160Zm0 220h160v-160H400v160ZM180-400h160v-160H180v160Zm440 0h160v-160H620v160ZM180-180h160v-160H180v160Zm440 0h160v-160H620v160Z\"/>\n",
              "  </svg>\n",
              "    </button>\n",
              "\n",
              "  <style>\n",
              "    .colab-df-container {\n",
              "      display:flex;\n",
              "      gap: 12px;\n",
              "    }\n",
              "\n",
              "    .colab-df-convert {\n",
              "      background-color: #E8F0FE;\n",
              "      border: none;\n",
              "      border-radius: 50%;\n",
              "      cursor: pointer;\n",
              "      display: none;\n",
              "      fill: #1967D2;\n",
              "      height: 32px;\n",
              "      padding: 0 0 0 0;\n",
              "      width: 32px;\n",
              "    }\n",
              "\n",
              "    .colab-df-convert:hover {\n",
              "      background-color: #E2EBFA;\n",
              "      box-shadow: 0px 1px 2px rgba(60, 64, 67, 0.3), 0px 1px 3px 1px rgba(60, 64, 67, 0.15);\n",
              "      fill: #174EA6;\n",
              "    }\n",
              "\n",
              "    .colab-df-buttons div {\n",
              "      margin-bottom: 4px;\n",
              "    }\n",
              "\n",
              "    [theme=dark] .colab-df-convert {\n",
              "      background-color: #3B4455;\n",
              "      fill: #D2E3FC;\n",
              "    }\n",
              "\n",
              "    [theme=dark] .colab-df-convert:hover {\n",
              "      background-color: #434B5C;\n",
              "      box-shadow: 0px 1px 3px 1px rgba(0, 0, 0, 0.15);\n",
              "      filter: drop-shadow(0px 1px 2px rgba(0, 0, 0, 0.3));\n",
              "      fill: #FFFFFF;\n",
              "    }\n",
              "  </style>\n",
              "\n",
              "    <script>\n",
              "      const buttonEl =\n",
              "        document.querySelector('#df-153b70d3-9d32-4846-afa2-1b2bfd3d87dd button.colab-df-convert');\n",
              "      buttonEl.style.display =\n",
              "        google.colab.kernel.accessAllowed ? 'block' : 'none';\n",
              "\n",
              "      async function convertToInteractive(key) {\n",
              "        const element = document.querySelector('#df-153b70d3-9d32-4846-afa2-1b2bfd3d87dd');\n",
              "        const dataTable =\n",
              "          await google.colab.kernel.invokeFunction('convertToInteractive',\n",
              "                                                    [key], {});\n",
              "        if (!dataTable) return;\n",
              "\n",
              "        const docLinkHtml = 'Like what you see? Visit the ' +\n",
              "          '<a target=\"_blank\" href=https://colab.research.google.com/notebooks/data_table.ipynb>data table notebook</a>'\n",
              "          + ' to learn more about interactive tables.';\n",
              "        element.innerHTML = '';\n",
              "        dataTable['output_type'] = 'display_data';\n",
              "        await google.colab.output.renderOutput(dataTable, element);\n",
              "        const docLink = document.createElement('div');\n",
              "        docLink.innerHTML = docLinkHtml;\n",
              "        element.appendChild(docLink);\n",
              "      }\n",
              "    </script>\n",
              "  </div>\n",
              "\n",
              "\n",
              "<div id=\"df-78831d36-01ff-41de-83fe-dddf451b956e\">\n",
              "  <button class=\"colab-df-quickchart\" onclick=\"quickchart('df-78831d36-01ff-41de-83fe-dddf451b956e')\"\n",
              "            title=\"Suggest charts\"\n",
              "            style=\"display:none;\">\n",
              "\n",
              "<svg xmlns=\"http://www.w3.org/2000/svg\" height=\"24px\"viewBox=\"0 0 24 24\"\n",
              "     width=\"24px\">\n",
              "    <g>\n",
              "        <path d=\"M19 3H5c-1.1 0-2 .9-2 2v14c0 1.1.9 2 2 2h14c1.1 0 2-.9 2-2V5c0-1.1-.9-2-2-2zM9 17H7v-7h2v7zm4 0h-2V7h2v10zm4 0h-2v-4h2v4z\"/>\n",
              "    </g>\n",
              "</svg>\n",
              "  </button>\n",
              "\n",
              "<style>\n",
              "  .colab-df-quickchart {\n",
              "      --bg-color: #E8F0FE;\n",
              "      --fill-color: #1967D2;\n",
              "      --hover-bg-color: #E2EBFA;\n",
              "      --hover-fill-color: #174EA6;\n",
              "      --disabled-fill-color: #AAA;\n",
              "      --disabled-bg-color: #DDD;\n",
              "  }\n",
              "\n",
              "  [theme=dark] .colab-df-quickchart {\n",
              "      --bg-color: #3B4455;\n",
              "      --fill-color: #D2E3FC;\n",
              "      --hover-bg-color: #434B5C;\n",
              "      --hover-fill-color: #FFFFFF;\n",
              "      --disabled-bg-color: #3B4455;\n",
              "      --disabled-fill-color: #666;\n",
              "  }\n",
              "\n",
              "  .colab-df-quickchart {\n",
              "    background-color: var(--bg-color);\n",
              "    border: none;\n",
              "    border-radius: 50%;\n",
              "    cursor: pointer;\n",
              "    display: none;\n",
              "    fill: var(--fill-color);\n",
              "    height: 32px;\n",
              "    padding: 0;\n",
              "    width: 32px;\n",
              "  }\n",
              "\n",
              "  .colab-df-quickchart:hover {\n",
              "    background-color: var(--hover-bg-color);\n",
              "    box-shadow: 0 1px 2px rgba(60, 64, 67, 0.3), 0 1px 3px 1px rgba(60, 64, 67, 0.15);\n",
              "    fill: var(--button-hover-fill-color);\n",
              "  }\n",
              "\n",
              "  .colab-df-quickchart-complete:disabled,\n",
              "  .colab-df-quickchart-complete:disabled:hover {\n",
              "    background-color: var(--disabled-bg-color);\n",
              "    fill: var(--disabled-fill-color);\n",
              "    box-shadow: none;\n",
              "  }\n",
              "\n",
              "  .colab-df-spinner {\n",
              "    border: 2px solid var(--fill-color);\n",
              "    border-color: transparent;\n",
              "    border-bottom-color: var(--fill-color);\n",
              "    animation:\n",
              "      spin 1s steps(1) infinite;\n",
              "  }\n",
              "\n",
              "  @keyframes spin {\n",
              "    0% {\n",
              "      border-color: transparent;\n",
              "      border-bottom-color: var(--fill-color);\n",
              "      border-left-color: var(--fill-color);\n",
              "    }\n",
              "    20% {\n",
              "      border-color: transparent;\n",
              "      border-left-color: var(--fill-color);\n",
              "      border-top-color: var(--fill-color);\n",
              "    }\n",
              "    30% {\n",
              "      border-color: transparent;\n",
              "      border-left-color: var(--fill-color);\n",
              "      border-top-color: var(--fill-color);\n",
              "      border-right-color: var(--fill-color);\n",
              "    }\n",
              "    40% {\n",
              "      border-color: transparent;\n",
              "      border-right-color: var(--fill-color);\n",
              "      border-top-color: var(--fill-color);\n",
              "    }\n",
              "    60% {\n",
              "      border-color: transparent;\n",
              "      border-right-color: var(--fill-color);\n",
              "    }\n",
              "    80% {\n",
              "      border-color: transparent;\n",
              "      border-right-color: var(--fill-color);\n",
              "      border-bottom-color: var(--fill-color);\n",
              "    }\n",
              "    90% {\n",
              "      border-color: transparent;\n",
              "      border-bottom-color: var(--fill-color);\n",
              "    }\n",
              "  }\n",
              "</style>\n",
              "\n",
              "  <script>\n",
              "    async function quickchart(key) {\n",
              "      const quickchartButtonEl =\n",
              "        document.querySelector('#' + key + ' button');\n",
              "      quickchartButtonEl.disabled = true;  // To prevent multiple clicks.\n",
              "      quickchartButtonEl.classList.add('colab-df-spinner');\n",
              "      try {\n",
              "        const charts = await google.colab.kernel.invokeFunction(\n",
              "            'suggestCharts', [key], {});\n",
              "      } catch (error) {\n",
              "        console.error('Error during call to suggestCharts:', error);\n",
              "      }\n",
              "      quickchartButtonEl.classList.remove('colab-df-spinner');\n",
              "      quickchartButtonEl.classList.add('colab-df-quickchart-complete');\n",
              "    }\n",
              "    (() => {\n",
              "      let quickchartButtonEl =\n",
              "        document.querySelector('#df-78831d36-01ff-41de-83fe-dddf451b956e button');\n",
              "      quickchartButtonEl.style.display =\n",
              "        google.colab.kernel.accessAllowed ? 'block' : 'none';\n",
              "    })();\n",
              "  </script>\n",
              "</div>\n",
              "\n",
              "    </div>\n",
              "  </div>\n"
            ],
            "application/vnd.google.colaboratory.intrinsic+json": {
              "type": "dataframe",
              "variable_name": "ipi",
              "summary": "{\n  \"name\": \"ipi\",\n  \"rows\": 8772,\n  \"fields\": [\n    {\n      \"column\": \"Date\",\n      \"properties\": {\n        \"dtype\": \"date\",\n        \"min\": \"2016-01-01 00:00:00\",\n        \"max\": \"2024-06-01 00:00:00\",\n        \"num_unique_values\": 102,\n        \"samples\": [\n          \"2018-07-01 00:00:00\",\n          \"2021-08-01 00:00:00\",\n          \"2021-03-01 00:00:00\"\n        ],\n        \"semantic_type\": \"\",\n        \"description\": \"\"\n      }\n    },\n    {\n      \"column\": \"Country\",\n      \"properties\": {\n        \"dtype\": \"category\",\n        \"num_unique_values\": 1,\n        \"samples\": [\n          \"Argentina\"\n        ],\n        \"semantic_type\": \"\",\n        \"description\": \"\"\n      }\n    },\n    {\n      \"column\": \"Division\",\n      \"properties\": {\n        \"dtype\": \"category\",\n        \"num_unique_values\": 17,\n        \"samples\": [\n          \"Alimentos y bebidas\"\n        ],\n        \"semantic_type\": \"\",\n        \"description\": \"\"\n      }\n    },\n    {\n      \"column\": \"Seasonal Adjustment\",\n      \"properties\": {\n        \"dtype\": \"category\",\n        \"num_unique_values\": 2,\n        \"samples\": [\n          \"Seasonally Adjusted\"\n        ],\n        \"semantic_type\": \"\",\n        \"description\": \"\"\n      }\n    },\n    {\n      \"column\": \"Subclass\",\n      \"properties\": {\n        \"dtype\": \"category\",\n        \"num_unique_values\": 69,\n        \"samples\": [\n          \"Maquinaria de uso general\"\n        ],\n        \"semantic_type\": \"\",\n        \"description\": \"\"\n      }\n    },\n    {\n      \"column\": \"Value\",\n      \"properties\": {\n        \"dtype\": \"number\",\n        \"std\": 74.25189917799405,\n        \"min\": 0.0,\n        \"max\": 1222.48915970027,\n        \"num_unique_values\": 8715,\n        \"samples\": [\n          83.01476328862478\n        ],\n        \"semantic_type\": \"\",\n        \"description\": \"\"\n      }\n    },\n    {\n      \"column\": \"Value - current_prices_3m_yoy\",\n      \"properties\": {\n        \"dtype\": \"number\",\n        \"std\": 67468526013007.85,\n        \"min\": -99.99999999999623,\n        \"max\": 5864139149081829.0,\n        \"num_unique_values\": 7538,\n        \"samples\": [\n          0.312825077932799\n        ],\n        \"semantic_type\": \"\",\n        \"description\": \"\"\n      }\n    },\n    {\n      \"column\": \"Value - current_prices_yoy\",\n      \"properties\": {\n        \"dtype\": \"number\",\n        \"std\": 249.65215493439413,\n        \"min\": -100.0,\n        \"max\": 20130.88953055282,\n        \"num_unique_values\": 7681,\n        \"samples\": [\n          -6.099542389678159\n        ],\n        \"semantic_type\": \"\",\n        \"description\": \"\"\n      }\n    },\n    {\n      \"column\": \"Value - current_prices_mom\",\n      \"properties\": {\n        \"dtype\": \"number\",\n        \"std\": 47.566279871038205,\n        \"min\": -100.0,\n        \"max\": 2885.281145764908,\n        \"num_unique_values\": 8616,\n        \"samples\": [\n          -0.3284419604088318\n        ],\n        \"semantic_type\": \"\",\n        \"description\": \"\"\n      }\n    }\n  ]\n}"
            }
          },
          "metadata": {},
          "execution_count": 9
        }
      ]
    },
    {
      "cell_type": "code",
      "source": [
        "ipi = ipi[(ipi['Division'] == \"IPI Manufacturero\") & (ipi['Seasonal Adjustment'] == \"Seasonally Adjusted\")]\n",
        "ipi = ipi['Value']\n",
        "ipi.columns = ['Value - sa_MoM']\n",
        "ipi = ipi.loc['2016-02-01':]"
      ],
      "metadata": {
        "id": "HcEWmcT4qzC5"
      },
      "execution_count": 10,
      "outputs": []
    },
    {
      "cell_type": "code",
      "source": [
        "# ISAC\n",
        "isac = requests.get('https://api.alphacast.io/datasets/5565/data?apiKey='+user_key+'&&$format=csv', auth=HTTPBasicAuth(user_key, ''))\n",
        "open('isac.csv','wb').write(isac.content)\n",
        "isac = pd.read_csv('isac.csv',delimiter = ',')\n",
        "\n",
        "\n",
        "isac['Date'] = pd.to_datetime(isac['Date'])\n",
        "isac.set_index('Date', inplace = True)\n",
        "isac = isac['Nivel general - sa_MoM']\n",
        "isac.columns = ['Nivel general - sa_MoM']\n",
        "isac = isac.loc['2016-02-01':]"
      ],
      "metadata": {
        "id": "TNXAcl3ixxPW"
      },
      "execution_count": 11,
      "outputs": []
    },
    {
      "cell_type": "code",
      "source": [
        "isac=pd.Series(isac, name='ISAC')\n",
        "ipi=pd.Series(ipi, name='IPI')"
      ],
      "metadata": {
        "id": "3i9AbJpex-z2"
      },
      "execution_count": 12,
      "outputs": []
    },
    {
      "cell_type": "code",
      "source": [
        "X = pd.concat([ipi, isac], axis=1)"
      ],
      "metadata": {
        "id": "HKOu6Ms3x5LZ"
      },
      "execution_count": 13,
      "outputs": []
    },
    {
      "cell_type": "code",
      "source": [
        "y.shape"
      ],
      "metadata": {
        "id": "eAIAO9tUrVdD",
        "outputId": "5e44a33c-7822-478e-e9a8-8f180a883f6e",
        "colab": {
          "base_uri": "https://localhost:8080/"
        }
      },
      "execution_count": 15,
      "outputs": [
        {
          "output_type": "execute_result",
          "data": {
            "text/plain": [
              "(101,)"
            ]
          },
          "metadata": {},
          "execution_count": 15
        }
      ]
    },
    {
      "cell_type": "code",
      "source": [
        "X.shape"
      ],
      "metadata": {
        "id": "elKBpeShrcEZ",
        "outputId": "21b9a496-4f8f-4876-e413-c74cf319757b",
        "colab": {
          "base_uri": "https://localhost:8080/"
        }
      },
      "execution_count": 16,
      "outputs": [
        {
          "output_type": "execute_result",
          "data": {
            "text/plain": [
              "(101, 2)"
            ]
          },
          "metadata": {},
          "execution_count": 16
        }
      ]
    },
    {
      "cell_type": "code",
      "source": [
        "from sklearn import linear_model\n",
        "lr = linear_model.LinearRegression()\n",
        "lr.fit(X[:-1], y[:-1]) #Si ya salió IPI e ISAC, pero todavía no el EMAE entonces hay que fitear lr.fit(X[:-1], y)\n",
        "Yest = lr.predict(X)"
      ],
      "metadata": {
        "id": "dbMyptIYyzRi"
      },
      "execution_count": 17,
      "outputs": []
    },
    {
      "cell_type": "code",
      "source": [
        "Yest"
      ],
      "metadata": {
        "id": "2U4GxJKCgIDN",
        "outputId": "c5e37a0c-151a-49a5-ec8e-b21017b9ea72",
        "colab": {
          "base_uri": "https://localhost:8080/"
        }
      },
      "execution_count": 18,
      "outputs": [
        {
          "output_type": "execute_result",
          "data": {
            "text/plain": [
              "array([ 0.70707339, -0.21560035, -0.51018842,  0.63298377, -0.21824554,\n",
              "       -0.08287598,  1.41190761,  0.42925352, -1.36074656,  2.19039298,\n",
              "        0.85902215,  0.3802231 , -0.12126329,  1.74594077, -0.56216148,\n",
              "        0.96048376,  1.18286509,  0.18223498,  0.88243525,  0.5659066 ,\n",
              "        0.89891726,  1.40893016, -0.02496963,  0.79159428, -0.07549551,\n",
              "        0.71031013,  0.17195615,  0.02290643,  0.01979046, -0.1770622 ,\n",
              "        0.47182811, -0.27655272,  0.04800024, -0.9648547 , -0.76892509,\n",
              "        1.08963751,  1.33023711, -1.04685215,  0.53401441,  0.34849742,\n",
              "       -1.32026702,  1.04080565, -0.33954747, -0.7666764 , -0.06784784,\n",
              "       -0.4544313 , -0.74308697, -0.14884686,  0.11030349, -6.34152966,\n",
              "       -7.88624515, 12.82230363,  6.96137277,  0.84557037, -1.38108585,\n",
              "        1.82189878,  0.40204812,  0.72425145,  1.84227751, -0.23531382,\n",
              "       -0.14678642,  0.67535357, -0.28432903, -1.3802181 ,  2.14012688,\n",
              "        0.24557414, -0.19745448,  0.55496306,  0.10274888,  0.82610353,\n",
              "        1.61253771, -1.33303614,  1.6994151 ,  0.16263128,  0.86853587,\n",
              "        0.27754257,  0.62369584,  0.31387655,  0.40719745,  0.24861593,\n",
              "       -0.42627425,  0.5137598 ,  0.36568007,  0.60708847,  0.22319897,\n",
              "        1.37179497,  0.30141539,  0.34812352,  0.43569444, -0.24570877,\n",
              "        0.65545188, -0.11035603,  0.65057662, -0.43347922, -1.31148633,\n",
              "       -1.22204613, -0.44891564, -3.36571281,  1.25076582,  0.29324723,\n",
              "       -0.75527274])"
            ]
          },
          "metadata": {},
          "execution_count": 18
        }
      ]
    },
    {
      "cell_type": "code",
      "source": [
        "print('DATOS DEL MODELO REGRESIÓN LINEAL SIMPLE')\n",
        "print()\n",
        "print('Valor de la pendiente o coeficiente \"a\":')\n",
        "print(lr.coef_)\n",
        "print('Valor de la intersección o coeficiente \"b\":')\n",
        "print(lr.intercept_)\n",
        "print()\n",
        "print('La ecuación del modelo es igual a:')\n",
        "print('y = ', lr.coef_, 'X + ', lr.intercept_)\n",
        "print()\n",
        "print('Precisión del modelo:')\n",
        "print(lr.score(X[:-1], y[:-1]))"
      ],
      "metadata": {
        "colab": {
          "base_uri": "https://localhost:8080/"
        },
        "id": "i8wh1QUv5lRk",
        "outputId": "cba990fb-17f5-43fd-894b-e384130ea812"
      },
      "execution_count": 20,
      "outputs": [
        {
          "output_type": "stream",
          "name": "stdout",
          "text": [
            "DATOS DEL MODELO REGRESIÓN LINEAL SIMPLE\n",
            "\n",
            "Valor de la pendiente o coeficiente \"a\":\n",
            "[0.02970863 0.14391169]\n",
            "Valor de la intersección o coeficiente \"b\":\n",
            "-3.4966567953028087\n",
            "\n",
            "La ecuación del modelo es igual a:\n",
            "y =  [0.02970863 0.14391169] X +  -3.4966567953028087\n",
            "\n",
            "Precisión del modelo:\n",
            "0.1442587699962925\n"
          ]
        }
      ]
    },
    {
      "cell_type": "code",
      "source": [
        "lr.coef_[0]"
      ],
      "metadata": {
        "colab": {
          "base_uri": "https://localhost:8080/"
        },
        "id": "5qDf13D36X3h",
        "outputId": "ee251a55-cd63-45a5-b4a1-ba52282d360a"
      },
      "execution_count": 21,
      "outputs": [
        {
          "output_type": "execute_result",
          "data": {
            "text/plain": [
              "0.029708627528708145"
            ]
          },
          "metadata": {},
          "execution_count": 21
        }
      ]
    },
    {
      "cell_type": "code",
      "source": [
        "emae_predict=X[-1:]['IPI']*lr.coef_[0]+X[-1:]['ISAC']*lr.coef_[1]+lr.intercept_"
      ],
      "metadata": {
        "id": "p1xE_v_J5-lp"
      },
      "execution_count": 22,
      "outputs": []
    },
    {
      "cell_type": "code",
      "source": [
        "emae_predict"
      ],
      "metadata": {
        "colab": {
          "base_uri": "https://localhost:8080/",
          "height": 147
        },
        "id": "LzoJR96V6hRf",
        "outputId": "ccb59e82-f0d5-479a-f73a-51252b95d003"
      },
      "execution_count": 23,
      "outputs": [
        {
          "output_type": "execute_result",
          "data": {
            "text/plain": [
              "Date\n",
              "2024-06-01   -0.755273\n",
              "dtype: float64"
            ],
            "text/html": [
              "<div>\n",
              "<style scoped>\n",
              "    .dataframe tbody tr th:only-of-type {\n",
              "        vertical-align: middle;\n",
              "    }\n",
              "\n",
              "    .dataframe tbody tr th {\n",
              "        vertical-align: top;\n",
              "    }\n",
              "\n",
              "    .dataframe thead th {\n",
              "        text-align: right;\n",
              "    }\n",
              "</style>\n",
              "<table border=\"1\" class=\"dataframe\">\n",
              "  <thead>\n",
              "    <tr style=\"text-align: right;\">\n",
              "      <th></th>\n",
              "      <th>0</th>\n",
              "    </tr>\n",
              "    <tr>\n",
              "      <th>Date</th>\n",
              "      <th></th>\n",
              "    </tr>\n",
              "  </thead>\n",
              "  <tbody>\n",
              "    <tr>\n",
              "      <th>2024-06-01</th>\n",
              "      <td>-0.755273</td>\n",
              "    </tr>\n",
              "  </tbody>\n",
              "</table>\n",
              "</div><br><label><b>dtype:</b> float64</label>"
            ]
          },
          "metadata": {},
          "execution_count": 23
        }
      ]
    }
  ]
}