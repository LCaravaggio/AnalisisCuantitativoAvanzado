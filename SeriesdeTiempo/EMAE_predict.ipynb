{
  "nbformat": 4,
  "nbformat_minor": 0,
  "metadata": {
    "colab": {
      "provenance": [],
      "authorship_tag": "ABX9TyMuZpb6SSPzLy2wO8jsL/YA",
      "include_colab_link": true
    },
    "kernelspec": {
      "name": "python3",
      "display_name": "Python 3"
    },
    "language_info": {
      "name": "python"
    }
  },
  "cells": [
    {
      "cell_type": "markdown",
      "metadata": {
        "id": "view-in-github",
        "colab_type": "text"
      },
      "source": [
        "<a href=\"https://colab.research.google.com/github/LCaravaggio/AnalisisCuantitativoAvanzado/blob/main/SeriesdeTiempo/EMAE_predict.ipynb\" target=\"_parent\"><img src=\"https://colab.research.google.com/assets/colab-badge.svg\" alt=\"Open In Colab\"/></a>"
      ]
    },
    {
      "cell_type": "code",
      "execution_count": 1,
      "metadata": {
        "id": "anoFFKOLo7AD"
      },
      "outputs": [],
      "source": [
        "from google.colab import drive\n",
        "import json\n",
        "\n",
        "import requests\n",
        "from requests.auth import HTTPBasicAuth\n",
        "\n",
        "import pandas as pd\n",
        "\n",
        "from matplotlib import pyplot as plt\n",
        "import seaborn as sns"
      ]
    },
    {
      "cell_type": "code",
      "source": [
        "drive.mount('/content/drive', force_remount=True)\n",
        "with open(\"/content/drive/My Drive/alphacast.json\", 'r') as f:\n",
        "    api_token= json.load(f)"
      ],
      "metadata": {
        "colab": {
          "base_uri": "https://localhost:8080/"
        },
        "id": "CUgGhtBbpqt4",
        "outputId": "deabfa33-ecb4-40cd-b9fa-400cac12c630"
      },
      "execution_count": 2,
      "outputs": [
        {
          "output_type": "stream",
          "name": "stdout",
          "text": [
            "Mounted at /content/drive\n"
          ]
        }
      ]
    },
    {
      "cell_type": "code",
      "source": [
        "# Definir user key para la API\n",
        "user_key = api_token[\"key\"]"
      ],
      "metadata": {
        "id": "2rnsQ4SwpxOW"
      },
      "execution_count": 3,
      "outputs": []
    },
    {
      "cell_type": "code",
      "source": [
        "# EMAE\n",
        "emae = requests.get('https://api.alphacast.io/datasets/5331/data?apiKey='+user_key+'&&$format=csv', auth=HTTPBasicAuth(user_key, ''))\n",
        "open('emae.csv','wb').write(emae.content)\n",
        "emae = pd.read_csv('emae.csv',delimiter = ',')"
      ],
      "metadata": {
        "id": "BgG4gMaVp1Dy"
      },
      "execution_count": 4,
      "outputs": []
    },
    {
      "cell_type": "code",
      "source": [
        "emae.set_index('Date', inplace = True)\n",
        "emae = emae.loc['2016-02-01':]\n",
        "y=emae['Emae - current_prices_mom']"
      ],
      "metadata": {
        "id": "AK_eX_S0p2po"
      },
      "execution_count": 5,
      "outputs": []
    },
    {
      "cell_type": "code",
      "source": [
        "# IPI\n",
        "ipi = requests.get('https://api.alphacast.io/datasets/5679/data?apiKey='+user_key+'&&$format=csv', auth=HTTPBasicAuth(user_key, ''))\n",
        "open('ipi.csv','wb').write(ipi.content)\n",
        "ipi = pd.read_csv('ipi.csv',delimiter = ',')\n",
        "\n",
        "\n",
        "ipi['Date'] = pd.to_datetime(ipi['Date'])\n",
        "ipi.set_index('Date', inplace = True)\n",
        "ipi = ipi[(ipi['Division'] == \"IPI Manufacturero\") & (ipi['Seasonal Adjustment'] == \"Seasonally Adjusted\")]\n",
        "ipi = ipi['Value - sa_MoM']\n",
        "ipi.columns = ['Value - sa_MoM']\n",
        "ipi = ipi.loc['2016-02-01':]"
      ],
      "metadata": {
        "id": "KiICqmnkxpos"
      },
      "execution_count": 43,
      "outputs": []
    },
    {
      "cell_type": "code",
      "source": [
        "# ISAC\n",
        "isac = requests.get('https://api.alphacast.io/datasets/5565/data?apiKey='+user_key+'&&$format=csv', auth=HTTPBasicAuth(user_key, ''))\n",
        "open('isac.csv','wb').write(isac.content)\n",
        "isac = pd.read_csv('isac.csv',delimiter = ',')\n",
        "\n",
        "\n",
        "isac['Date'] = pd.to_datetime(isac['Date'])\n",
        "isac.set_index('Date', inplace = True)\n",
        "isac = isac['Nivel general - sa_MoM']\n",
        "isac.columns = ['Nivel general - sa_MoM']\n",
        "isac = isac.loc['2016-02-01':]"
      ],
      "metadata": {
        "id": "TNXAcl3ixxPW"
      },
      "execution_count": 44,
      "outputs": []
    },
    {
      "cell_type": "code",
      "source": [
        "isac=pd.Series(isac, name='ISAC')\n",
        "ipi=pd.Series(ipi, name='IPI')"
      ],
      "metadata": {
        "id": "3i9AbJpex-z2"
      },
      "execution_count": 45,
      "outputs": []
    },
    {
      "cell_type": "code",
      "source": [
        "X = pd.concat([ipi, isac], axis=1)"
      ],
      "metadata": {
        "id": "HKOu6Ms3x5LZ"
      },
      "execution_count": 46,
      "outputs": []
    },
    {
      "cell_type": "code",
      "source": [
        "from sklearn import linear_model\n",
        "lr = linear_model.LinearRegression()\n",
        "lr.fit(X[:-1], y[:-1])\n",
        "Yest = lr.predict(X[:-1])"
      ],
      "metadata": {
        "id": "dbMyptIYyzRi"
      },
      "execution_count": 55,
      "outputs": []
    },
    {
      "cell_type": "code",
      "source": [
        "print('DATOS DEL MODELO REGRESIÓN LINEAL SIMPLE')\n",
        "print()\n",
        "print('Valor de la pendiente o coeficiente \"a\":')\n",
        "print(lr.coef_)\n",
        "print('Valor de la intersección o coeficiente \"b\":')\n",
        "print(lr.intercept_)\n",
        "print()\n",
        "print('La ecuación del modelo es igual a:')\n",
        "print('y = ', lr.coef_, 'X + ', lr.intercept_)\n",
        "print()\n",
        "print('Precisión del modelo:')\n",
        "print(lr.score(X[:-1], y[:-1]))"
      ],
      "metadata": {
        "colab": {
          "base_uri": "https://localhost:8080/"
        },
        "id": "i8wh1QUv5lRk",
        "outputId": "0bc0c2ac-2d37-4462-8866-283669fa9f3c"
      },
      "execution_count": 57,
      "outputs": [
        {
          "output_type": "stream",
          "name": "stdout",
          "text": [
            "DATOS DEL MODELO REGRESIÓN LINEAL SIMPLE\n",
            "\n",
            "Valor de la pendiente o coeficiente \"a\":\n",
            "[-0.0344089   0.15729643]\n",
            "Valor de la intersección o coeficiente \"b\":\n",
            "0.1522808823148907\n",
            "\n",
            "La ecuación del modelo es igual a:\n",
            "y =  [-0.0344089   0.15729643] X +  0.1522808823148907\n",
            "\n",
            "Precisión del modelo:\n",
            "0.15280636664497793\n"
          ]
        }
      ]
    },
    {
      "cell_type": "code",
      "source": [
        "lr.coef_[0]"
      ],
      "metadata": {
        "colab": {
          "base_uri": "https://localhost:8080/"
        },
        "id": "5qDf13D36X3h",
        "outputId": "bb6f7294-5de5-4d64-84c5-0e445f150e3b"
      },
      "execution_count": 58,
      "outputs": [
        {
          "output_type": "execute_result",
          "data": {
            "text/plain": [
              "-0.034408903516004535"
            ]
          },
          "metadata": {},
          "execution_count": 58
        }
      ]
    },
    {
      "cell_type": "code",
      "source": [
        "emae_predict=X[-1:]['IPI']*lr.coef_[0]+X[-1:]['ISAC']*lr.coef_[1]+lr.intercept_"
      ],
      "metadata": {
        "id": "p1xE_v_J5-lp"
      },
      "execution_count": 59,
      "outputs": []
    },
    {
      "cell_type": "code",
      "source": [
        "emae_predict"
      ],
      "metadata": {
        "colab": {
          "base_uri": "https://localhost:8080/"
        },
        "id": "LzoJR96V6hRf",
        "outputId": "7f12fc78-aac3-4966-a592-bfdb8e63551f"
      },
      "execution_count": 60,
      "outputs": [
        {
          "output_type": "execute_result",
          "data": {
            "text/plain": [
              "Date\n",
              "2023-04-01   -0.288719\n",
              "dtype: float64"
            ]
          },
          "metadata": {},
          "execution_count": 60
        }
      ]
    }
  ]
}