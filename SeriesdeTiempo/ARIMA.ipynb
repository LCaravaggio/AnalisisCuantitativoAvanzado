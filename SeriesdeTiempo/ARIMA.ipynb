{
  "nbformat": 4,
  "nbformat_minor": 0,
  "metadata": {
    "colab": {
      "name": "Ejercicio2.ipynb",
      "provenance": [],
      "authorship_tag": "ABX9TyM8roD2ElMbsqoTciy4hcII",
      "include_colab_link": true
    },
    "kernelspec": {
      "name": "python3",
      "display_name": "Python 3"
    },
    "language_info": {
      "name": "python"
    }
  },
  "cells": [
    {
      "cell_type": "markdown",
      "metadata": {
        "id": "view-in-github",
        "colab_type": "text"
      },
      "source": [
        "<a href=\"https://colab.research.google.com/github/LCaravaggio/AnalisisCuantitativoAvanzado/blob/main/SeriesdeTiempo/ARIMA.ipynb\" target=\"_parent\"><img src=\"https://colab.research.google.com/assets/colab-badge.svg\" alt=\"Open In Colab\"/></a>"
      ]
    },
    {
      "cell_type": "markdown",
      "source": [
        "# Modelo ARIMA"
      ],
      "metadata": {
        "id": "lCqZ9FzMxrSO"
      }
    },
    {
      "cell_type": "markdown",
      "source": [
        "La primera parte es toda igual.\n",
        "\n",
        "Primero importamos todas las librerías necesarias, solo que esta vez incluimos la librería statsmodels"
      ],
      "metadata": {
        "id": "s4tcY5HixuLm"
      }
    },
    {
      "cell_type": "code",
      "execution_count": 1,
      "metadata": {
        "id": "1PEKVTO-WdWl"
      },
      "outputs": [],
      "source": [
        "from google.colab import drive\n",
        "import json\n",
        "\n",
        "import requests\n",
        "from requests.auth import HTTPBasicAuth\n",
        "\n",
        "import pandas as pd\n",
        "\n",
        "import seaborn as sns\n",
        "\n",
        "import statsmodels.formula.api as smf\n",
        "import statsmodels\n",
        "\n",
        "import matplotlib.pyplot as plt"
      ]
    },
    {
      "cell_type": "code",
      "source": [
        "from google.colab import userdata\n",
        "\n",
        "# Definir user key para la API\n",
        "user_key = userdata.get('ALPHACAST')"
      ],
      "metadata": {
        "id": "-7zhUQqvWfxS"
      },
      "execution_count": 2,
      "outputs": []
    },
    {
      "cell_type": "markdown",
      "source": [
        "Obsérvese que tomamos la serie sin estacionalidad, en vez de la serie original."
      ],
      "metadata": {
        "id": "sXNq63K6yBGN"
      }
    },
    {
      "cell_type": "code",
      "source": [
        "# EMAE\n",
        "emae = requests.get('https://api.alphacast.io/datasets/5331/data?apiKey='+user_key+'&&$format=csv', auth=HTTPBasicAuth(user_key, ''))\n",
        "open('emae.csv','wb').write(emae.content)\n",
        "emae = pd.read_csv('emae.csv',delimiter = ',')\n",
        "\n",
        "emae['Date'] = pd.to_datetime(emae['Date'])\n",
        "emae.set_index('Date', inplace = True)\n",
        "\n",
        "emae = emae['Emae - sa_orig - current_prices_mom']\n",
        "emae.columns = ['Emae - sa_orig - current_prices_mom']\n",
        "emae = emae.loc['2016-02-01':]"
      ],
      "metadata": {
        "id": "vEORXDt4W6xM"
      },
      "execution_count": 3,
      "outputs": []
    },
    {
      "cell_type": "code",
      "source": [
        "# IPI\n",
        "ipi = requests.get('https://api.alphacast.io/datasets/5679/data?apiKey='+user_key+'&&$format=csv', auth=HTTPBasicAuth(user_key, ''))\n",
        "open('ipi.csv','wb').write(ipi.content)\n",
        "ipi = pd.read_csv('ipi.csv',delimiter = ',')\n",
        "\n",
        "\n",
        "ipi['Date'] = pd.to_datetime(ipi['Date'])\n",
        "ipi.set_index('Date', inplace = True)\n",
        "ipi = ipi[(ipi['Division'] == \"IPI Manufacturero\") & (ipi['Seasonal Adjustment'] == \"Seasonally Adjusted\")]\n",
        "ipi = ipi['Value - current_prices_mom']\n",
        "ipi.columns = ['Value - sa_MoM']\n",
        "ipi = ipi.loc['2016-02-01':]"
      ],
      "metadata": {
        "id": "xZIuRKEO7RQI"
      },
      "execution_count": 4,
      "outputs": []
    },
    {
      "cell_type": "code",
      "source": [
        "# ISAC\n",
        "isac = requests.get('https://api.alphacast.io/datasets/5565/data?apiKey='+user_key+'&&$format=csv', auth=HTTPBasicAuth(user_key, ''))\n",
        "open('isac.csv','wb').write(isac.content)\n",
        "isac = pd.read_csv('isac.csv',delimiter = ',')\n",
        "\n",
        "\n",
        "isac['Date'] = pd.to_datetime(isac['Date'])\n",
        "isac.set_index('Date', inplace = True)\n",
        "isac = isac['Nivel general - sa_orig - current_prices_mom']\n",
        "isac.columns = ['Nivel general - sa_MoM']\n",
        "isac = isac.loc['2016-02-01':]"
      ],
      "metadata": {
        "id": "QWIIFYpD_iCO"
      },
      "execution_count": 5,
      "outputs": []
    },
    {
      "cell_type": "markdown",
      "source": [
        "Preparamos una función para graficar"
      ],
      "metadata": {
        "id": "OoQZtGXYyGco"
      }
    },
    {
      "cell_type": "code",
      "source": [
        "sns.set_theme(style='darkgrid')\n",
        "def graficar(variable):\n",
        "    fig = sns.lineplot(x=variable.index, y=variable)\n",
        "    plt.title(variable.name)\n",
        "    plt.xlabel(\"Año\")\n",
        "    plt.savefig('%s.png'%variable.name)\n",
        "    return fig"
      ],
      "metadata": {
        "id": "1dqljEFrae3g"
      },
      "execution_count": 6,
      "outputs": []
    },
    {
      "cell_type": "markdown",
      "source": [
        "Y la graficamos. ¿Es estacionaria? No confundir estacional con estacionaria"
      ],
      "metadata": {
        "id": "zlq4qFwOyJwl"
      }
    },
    {
      "cell_type": "code",
      "source": [
        "graficar(emae)"
      ],
      "metadata": {
        "colab": {
          "base_uri": "https://localhost:8080/",
          "height": 497
        },
        "id": "gBNgjxChbE_a",
        "outputId": "035e8f3c-1a02-480d-c120-3d859ba7210a"
      },
      "execution_count": 7,
      "outputs": [
        {
          "output_type": "execute_result",
          "data": {
            "text/plain": [
              "<Axes: title={'center': 'Emae - sa_orig - current_prices_mom'}, xlabel='Año', ylabel='Emae - sa_orig - current_prices_mom'>"
            ]
          },
          "metadata": {},
          "execution_count": 7
        },
        {
          "output_type": "display_data",
          "data": {
            "text/plain": [
              "<Figure size 640x480 with 1 Axes>"
            ],
            "image/png": "[encoded data removed]"
          },
          "metadata": {}
        }
      ]
    },
    {
      "cell_type": "code",
      "source": [
        "graficar(ipi)"
      ],
      "metadata": {
        "id": "gbP_E2g449gu",
        "outputId": "50bd6fe6-e069-45f7-8d42-2592e0fd44aa",
        "colab": {
          "base_uri": "https://localhost:8080/",
          "height": 497
        }
      },
      "execution_count": 8,
      "outputs": [
        {
          "output_type": "execute_result",
          "data": {
            "text/plain": [
              "<Axes: title={'center': 'Value - current_prices_mom'}, xlabel='Año', ylabel='Value - current_prices_mom'>"
            ]
          },
          "metadata": {},
          "execution_count": 8
        },
        {
          "output_type": "display_data",
          "data": {
            "text/plain": [
              "<Figure size 640x480 with 1 Axes>"
            ],
            "image/png": "[encoded data removed]"
          },
          "metadata": {}
        }
      ]
    },
    {
      "cell_type": "code",
      "source": [
        "graficar(isac)"
      ],
      "metadata": {
        "id": "8V_dcnLw4-dM",
        "outputId": "0d3fa355-7105-45a1-8d93-c8f61249894d",
        "colab": {
          "base_uri": "https://localhost:8080/",
          "height": 497
        }
      },
      "execution_count": 9,
      "outputs": [
        {
          "output_type": "execute_result",
          "data": {
            "text/plain": [
              "<Axes: title={'center': 'Nivel general - sa_orig - current_prices_mom'}, xlabel='Año', ylabel='Nivel general - sa_orig - current_prices_mom'>"
            ]
          },
          "metadata": {},
          "execution_count": 9
        },
        {
          "output_type": "display_data",
          "data": {
            "text/plain": [
              "<Figure size 640x480 with 1 Axes>"
            ],
            "image/png": "[encoded data removed]"
          },
          "metadata": {}
        }
      ]
    },
    {
      "cell_type": "markdown",
      "source": [
        "Chequeamos si la serie es estacionaria con el test de Dickey-Fuller aumentado del paquete Statsmodels.\n",
        "\n",
        "La H0 del modelo es que la serie tiene raíz unitaria, es decir que no es estacionaria.\n",
        "\n",
        "El p-value para los tres casos es <= 0.05 quiere decir que se puede rechazar la H0 y por tanto se asume que la serie es estacionaria. ¿Por qué? Ayuda: trajimos las series en diferencias."
      ],
      "metadata": {
        "id": "RsKbau1rF18C"
      }
    },
    {
      "cell_type": "code",
      "source": [
        "from statsmodels.tsa.stattools import adfuller\n",
        "res=adfuller(ipi)\n",
        "print('ADF Statistic: %f' % res[0])\n",
        "print('p-value: %f' % res[1])\n",
        "print('Critical Values:')\n",
        "for key, value in res[4].items():\n",
        "\tprint('\\t%s: %.3f' % (key, value))"
      ],
      "metadata": {
        "id": "46VMc91SDmqm",
        "outputId": "60968d21-8759-405e-a26d-7469ec9efa24",
        "colab": {
          "base_uri": "https://localhost:8080/"
        }
      },
      "execution_count": 10,
      "outputs": [
        {
          "output_type": "stream",
          "name": "stdout",
          "text": [
            "ADF Statistic: -8.612888\n",
            "p-value: 0.000000\n",
            "Critical Values:\n",
            "\t1%: -3.498\n",
            "\t5%: -2.891\n",
            "\t10%: -2.582\n"
          ]
        }
      ]
    },
    {
      "cell_type": "markdown",
      "source": [
        "# Modelo simple con StatsModel"
      ],
      "metadata": {
        "id": "JhN4cj0W_156"
      }
    },
    {
      "cell_type": "code",
      "source": [
        "frame = { 'EMAE': emae, 'IPI': ipi , 'ISAC': isac}\n",
        "df = pd.DataFrame(frame)"
      ],
      "metadata": {
        "id": "FURe1r2-Ct8Q"
      },
      "execution_count": 11,
      "outputs": []
    },
    {
      "cell_type": "code",
      "source": [
        "results = smf.ols('EMAE ~ IPI + ISAC', data=df).fit()"
      ],
      "metadata": {
        "id": "AdTu1PFkBGsz"
      },
      "execution_count": 12,
      "outputs": []
    },
    {
      "cell_type": "code",
      "source": [
        "print(results.summary())"
      ],
      "metadata": {
        "id": "3qd2-h-9DNBh",
        "outputId": "540298be-cfdb-45e8-903a-12eaced34ef9",
        "colab": {
          "base_uri": "https://localhost:8080/"
        }
      },
      "execution_count": 13,
      "outputs": [
        {
          "output_type": "stream",
          "name": "stdout",
          "text": [
            "                            OLS Regression Results                            \n",
            "==============================================================================\n",
            "Dep. Variable:                   EMAE   R-squared:                       0.734\n",
            "Model:                            OLS   Adj. R-squared:                  0.729\n",
            "Method:                 Least Squares   F-statistic:                     136.8\n",
            "Date:                Thu, 03 Oct 2024   Prob (F-statistic):           3.19e-29\n",
            "Time:                        17:45:40   Log-Likelihood:                -169.19\n",
            "No. Observations:                 102   AIC:                             344.4\n",
            "Df Residuals:                      99   BIC:                             352.2\n",
            "Df Model:                           2                                         \n",
            "Covariance Type:            nonrobust                                         \n",
            "==============================================================================\n",
            "                 coef    std err          t      P>|t|      [0.025      0.975]\n",
            "------------------------------------------------------------------------------\n",
            "Intercept     -0.0446      0.128     -0.349      0.728      -0.299       0.209\n",
            "IPI            0.2835      0.043      6.558      0.000       0.198       0.369\n",
            "ISAC           0.0722      0.012      5.832      0.000       0.048       0.097\n",
            "==============================================================================\n",
            "Omnibus:                       63.386   Durbin-Watson:                   1.671\n",
            "Prob(Omnibus):                  0.000   Jarque-Bera (JB):              419.878\n",
            "Skew:                          -1.886   Prob(JB):                     6.68e-92\n",
            "Kurtosis:                      12.196   Cond. No.                         15.2\n",
            "==============================================================================\n",
            "\n",
            "Notes:\n",
            "[1] Standard Errors assume that the covariance matrix of the errors is correctly specified.\n"
          ]
        }
      ]
    },
    {
      "cell_type": "code",
      "source": [
        "X =  pd.DataFrame({'IPI': [df['IPI'][-1]], 'ISAC': [df['ISAC'][-1]]})"
      ],
      "metadata": {
        "id": "X3xm_E23J8ml",
        "outputId": "bae7c7ea-66d5-4761-b525-a7c0a2536d9b",
        "colab": {
          "base_uri": "https://localhost:8080/"
        }
      },
      "execution_count": 17,
      "outputs": [
        {
          "output_type": "stream",
          "name": "stderr",
          "text": [
            "<ipython-input-17-758ba9076bad>:1: FutureWarning: Series.__getitem__ treating keys as positions is deprecated. In a future version, integer keys will always be treated as labels (consistent with DataFrame behavior). To access a value by position, use `ser.iloc[pos]`\n",
            "  X =  pd.DataFrame({'IPI': [df['IPI'][-1]], 'ISAC': [df['ISAC'][-1]]})\n"
          ]
        }
      ]
    },
    {
      "cell_type": "code",
      "source": [
        "X"
      ],
      "metadata": {
        "id": "RWZFMt4ILZ8i",
        "outputId": "72493671-797d-4f46-e08a-2afc712e050a",
        "colab": {
          "base_uri": "https://localhost:8080/",
          "height": 89
        }
      },
      "execution_count": 18,
      "outputs": [
        {
          "output_type": "execute_result",
          "data": {
            "text/plain": [
              "        IPI      ISAC\n",
              "0  6.873029  7.969635"
            ],
            "text/html": [
              "\n",
              "  <div id=\"df-45fd4e05-a759-4cec-8de5-483bd0e11744\" class=\"colab-df-container\">\n",
              "    <div>\n",
              "<style scoped>\n",
              "    .dataframe tbody tr th:only-of-type {\n",
              "        vertical-align: middle;\n",
              "    }\n",
              "\n",
              "    .dataframe tbody tr th {\n",
              "        vertical-align: top;\n",
              "    }\n",
              "\n",
              "    .dataframe thead th {\n",
              "        text-align: right;\n",
              "    }\n",
              "</style>\n",
              "<table border=\"1\" class=\"dataframe\">\n",
              "  <thead>\n",
              "    <tr style=\"text-align: right;\">\n",
              "      <th></th>\n",
              "      <th>IPI</th>\n",
              "      <th>ISAC</th>\n",
              "    </tr>\n",
              "  </thead>\n",
              "  <tbody>\n",
              "    <tr>\n",
              "      <th>0</th>\n",
              "      <td>6.873029</td>\n",
              "      <td>7.969635</td>\n",
              "    </tr>\n",
              "  </tbody>\n",
              "</table>\n",
              "</div>\n",
              "    <div class=\"colab-df-buttons\">\n",
              "\n",
              "  <div class=\"colab-df-container\">\n",
              "    <button class=\"colab-df-convert\" onclick=\"convertToInteractive('df-45fd4e05-a759-4cec-8de5-483bd0e11744')\"\n",
              "            title=\"Convert this dataframe to an interactive table.\"\n",
              "            style=\"display:none;\">\n",
              "\n",
              "  <svg xmlns=\"http://www.w3.org/2000/svg\" height=\"24px\" viewBox=\"0 -960 960 960\">\n",
              "    <path d=\"M120-120v-720h720v720H120Zm60-500h600v-160H180v160Zm220 220h160v-160H400v160Zm0 220h160v-160H400v160ZM180-400h160v-160H180v160Zm440 0h160v-160H620v160ZM180-180h160v-160H180v160Zm440 0h160v-160H620v160Z\"/>\n",
              "  </svg>\n",
              "    </button>\n",
              "\n",
              "  <style>\n",
              "    .colab-df-container {\n",
              "      display:flex;\n",
              "      gap: 12px;\n",
              "    }\n",
              "\n",
              "    .colab-df-convert {\n",
              "      background-color: #E8F0FE;\n",
              "      border: none;\n",
              "      border-radius: 50%;\n",
              "      cursor: pointer;\n",
              "      display: none;\n",
              "      fill: #1967D2;\n",
              "      height: 32px;\n",
              "      padding: 0 0 0 0;\n",
              "      width: 32px;\n",
              "    }\n",
              "\n",
              "    .colab-df-convert:hover {\n",
              "      background-color: #E2EBFA;\n",
              "      box-shadow: 0px 1px 2px rgba(60, 64, 67, 0.3), 0px 1px 3px 1px rgba(60, 64, 67, 0.15);\n",
              "      fill: #174EA6;\n",
              "    }\n",
              "\n",
              "    .colab-df-buttons div {\n",
              "      margin-bottom: 4px;\n",
              "    }\n",
              "\n",
              "    [theme=dark] .colab-df-convert {\n",
              "      background-color: #3B4455;\n",
              "      fill: #D2E3FC;\n",
              "    }\n",
              "\n",
              "    [theme=dark] .colab-df-convert:hover {\n",
              "      background-color: #434B5C;\n",
              "      box-shadow: 0px 1px 3px 1px rgba(0, 0, 0, 0.15);\n",
              "      filter: drop-shadow(0px 1px 2px rgba(0, 0, 0, 0.3));\n",
              "      fill: #FFFFFF;\n",
              "    }\n",
              "  </style>\n",
              "\n",
              "    <script>\n",
              "      const buttonEl =\n",
              "        document.querySelector('#df-45fd4e05-a759-4cec-8de5-483bd0e11744 button.colab-df-convert');\n",
              "      buttonEl.style.display =\n",
              "        google.colab.kernel.accessAllowed ? 'block' : 'none';\n",
              "\n",
              "      async function convertToInteractive(key) {\n",
              "        const element = document.querySelector('#df-45fd4e05-a759-4cec-8de5-483bd0e11744');\n",
              "        const dataTable =\n",
              "          await google.colab.kernel.invokeFunction('convertToInteractive',\n",
              "                                                    [key], {});\n",
              "        if (!dataTable) return;\n",
              "\n",
              "        const docLinkHtml = 'Like what you see? Visit the ' +\n",
              "          '<a target=\"_blank\" href=https://colab.research.google.com/notebooks/data_table.ipynb>data table notebook</a>'\n",
              "          + ' to learn more about interactive tables.';\n",
              "        element.innerHTML = '';\n",
              "        dataTable['output_type'] = 'display_data';\n",
              "        await google.colab.output.renderOutput(dataTable, element);\n",
              "        const docLink = document.createElement('div');\n",
              "        docLink.innerHTML = docLinkHtml;\n",
              "        element.appendChild(docLink);\n",
              "      }\n",
              "    </script>\n",
              "  </div>\n",
              "\n",
              "\n",
              "  <div id=\"id_f822c505-525b-4995-81bd-056d9cc7ff3b\">\n",
              "    <style>\n",
              "      .colab-df-generate {\n",
              "        background-color: #E8F0FE;\n",
              "        border: none;\n",
              "        border-radius: 50%;\n",
              "        cursor: pointer;\n",
              "        display: none;\n",
              "        fill: #1967D2;\n",
              "        height: 32px;\n",
              "        padding: 0 0 0 0;\n",
              "        width: 32px;\n",
              "      }\n",
              "\n",
              "      .colab-df-generate:hover {\n",
              "        background-color: #E2EBFA;\n",
              "        box-shadow: 0px 1px 2px rgba(60, 64, 67, 0.3), 0px 1px 3px 1px rgba(60, 64, 67, 0.15);\n",
              "        fill: #174EA6;\n",
              "      }\n",
              "\n",
              "      [theme=dark] .colab-df-generate {\n",
              "        background-color: #3B4455;\n",
              "        fill: #D2E3FC;\n",
              "      }\n",
              "\n",
              "      [theme=dark] .colab-df-generate:hover {\n",
              "        background-color: #434B5C;\n",
              "        box-shadow: 0px 1px 3px 1px rgba(0, 0, 0, 0.15);\n",
              "        filter: drop-shadow(0px 1px 2px rgba(0, 0, 0, 0.3));\n",
              "        fill: #FFFFFF;\n",
              "      }\n",
              "    </style>\n",
              "    <button class=\"colab-df-generate\" onclick=\"generateWithVariable('X')\"\n",
              "            title=\"Generate code using this dataframe.\"\n",
              "            style=\"display:none;\">\n",
              "\n",
              "  <svg xmlns=\"http://www.w3.org/2000/svg\" height=\"24px\"viewBox=\"0 0 24 24\"\n",
              "       width=\"24px\">\n",
              "    <path d=\"M7,19H8.4L18.45,9,17,7.55,7,17.6ZM5,21V16.75L18.45,3.32a2,2,0,0,1,2.83,0l1.4,1.43a1.91,1.91,0,0,1,.58,1.4,1.91,1.91,0,0,1-.58,1.4L9.25,21ZM18.45,9,17,7.55Zm-12,3A5.31,5.31,0,0,0,4.9,8.1,5.31,5.31,0,0,0,1,6.5,5.31,5.31,0,0,0,4.9,4.9,5.31,5.31,0,0,0,6.5,1,5.31,5.31,0,0,0,8.1,4.9,5.31,5.31,0,0,0,12,6.5,5.46,5.46,0,0,0,6.5,12Z\"/>\n",
              "  </svg>\n",
              "    </button>\n",
              "    <script>\n",
              "      (() => {\n",
              "      const buttonEl =\n",
              "        document.querySelector('#id_f822c505-525b-4995-81bd-056d9cc7ff3b button.colab-df-generate');\n",
              "      buttonEl.style.display =\n",
              "        google.colab.kernel.accessAllowed ? 'block' : 'none';\n",
              "\n",
              "      buttonEl.onclick = () => {\n",
              "        google.colab.notebook.generateWithVariable('X');\n",
              "      }\n",
              "      })();\n",
              "    </script>\n",
              "  </div>\n",
              "\n",
              "    </div>\n",
              "  </div>\n"
            ],
            "application/vnd.google.colaboratory.intrinsic+json": {
              "type": "dataframe",
              "variable_name": "X",
              "summary": "{\n  \"name\": \"X\",\n  \"rows\": 1,\n  \"fields\": [\n    {\n      \"column\": \"IPI\",\n      \"properties\": {\n        \"dtype\": \"number\",\n        \"std\": null,\n        \"min\": 6.873028598463016,\n        \"max\": 6.873028598463016,\n        \"num_unique_values\": 1,\n        \"samples\": [\n          6.873028598463016\n        ],\n        \"semantic_type\": \"\",\n        \"description\": \"\"\n      }\n    },\n    {\n      \"column\": \"ISAC\",\n      \"properties\": {\n        \"dtype\": \"number\",\n        \"std\": null,\n        \"min\": 7.96963466303191,\n        \"max\": 7.96963466303191,\n        \"num_unique_values\": 1,\n        \"samples\": [\n          7.96963466303191\n        ],\n        \"semantic_type\": \"\",\n        \"description\": \"\"\n      }\n    }\n  ]\n}"
            }
          },
          "metadata": {},
          "execution_count": 18
        }
      ]
    },
    {
      "cell_type": "code",
      "source": [
        "print(results.predict(X)[0])"
      ],
      "metadata": {
        "id": "2mS7B_ZwHrBU",
        "outputId": "4a653fa1-4f4c-4a73-88d5-ee4df0366391",
        "colab": {
          "base_uri": "https://localhost:8080/"
        }
      },
      "execution_count": 19,
      "outputs": [
        {
          "output_type": "stream",
          "name": "stdout",
          "text": [
            "2.4791161627100378\n"
          ]
        }
      ]
    },
    {
      "cell_type": "code",
      "source": [
        "df[-5:]"
      ],
      "metadata": {
        "id": "nmc1wLux-vM6",
        "outputId": "9a5f1200-df9b-4d2c-dbe9-ef15f6edb923",
        "colab": {
          "base_uri": "https://localhost:8080/",
          "height": 238
        }
      },
      "execution_count": 20,
      "outputs": [
        {
          "output_type": "execute_result",
          "data": {
            "text/plain": [
              "                EMAE       IPI       ISAC\n",
              "Date                                     \n",
              "2024-03-01 -1.365632 -3.126307 -15.388856\n",
              "2024-04-01 -1.041793  0.069197   1.122882\n",
              "2024-05-01  0.544140 -0.132622   7.730018\n",
              "2024-06-01 -0.310364 -1.399190   1.965143\n",
              "2024-07-01  1.717319  6.873029   7.969635"
            ],
            "text/html": [
              "\n",
              "  <div id=\"df-dcd1278c-8d84-4772-a95e-a81d97ccb96a\" class=\"colab-df-container\">\n",
              "    <div>\n",
              "<style scoped>\n",
              "    .dataframe tbody tr th:only-of-type {\n",
              "        vertical-align: middle;\n",
              "    }\n",
              "\n",
              "    .dataframe tbody tr th {\n",
              "        vertical-align: top;\n",
              "    }\n",
              "\n",
              "    .dataframe thead th {\n",
              "        text-align: right;\n",
              "    }\n",
              "</style>\n",
              "<table border=\"1\" class=\"dataframe\">\n",
              "  <thead>\n",
              "    <tr style=\"text-align: right;\">\n",
              "      <th></th>\n",
              "      <th>EMAE</th>\n",
              "      <th>IPI</th>\n",
              "      <th>ISAC</th>\n",
              "    </tr>\n",
              "    <tr>\n",
              "      <th>Date</th>\n",
              "      <th></th>\n",
              "      <th></th>\n",
              "      <th></th>\n",
              "    </tr>\n",
              "  </thead>\n",
              "  <tbody>\n",
              "    <tr>\n",
              "      <th>2024-03-01</th>\n",
              "      <td>-1.365632</td>\n",
              "      <td>-3.126307</td>\n",
              "      <td>-15.388856</td>\n",
              "    </tr>\n",
              "    <tr>\n",
              "      <th>2024-04-01</th>\n",
              "      <td>-1.041793</td>\n",
              "      <td>0.069197</td>\n",
              "      <td>1.122882</td>\n",
              "    </tr>\n",
              "    <tr>\n",
              "      <th>2024-05-01</th>\n",
              "      <td>0.544140</td>\n",
              "      <td>-0.132622</td>\n",
              "      <td>7.730018</td>\n",
              "    </tr>\n",
              "    <tr>\n",
              "      <th>2024-06-01</th>\n",
              "      <td>-0.310364</td>\n",
              "      <td>-1.399190</td>\n",
              "      <td>1.965143</td>\n",
              "    </tr>\n",
              "    <tr>\n",
              "      <th>2024-07-01</th>\n",
              "      <td>1.717319</td>\n",
              "      <td>6.873029</td>\n",
              "      <td>7.969635</td>\n",
              "    </tr>\n",
              "  </tbody>\n",
              "</table>\n",
              "</div>\n",
              "    <div class=\"colab-df-buttons\">\n",
              "\n",
              "  <div class=\"colab-df-container\">\n",
              "    <button class=\"colab-df-convert\" onclick=\"convertToInteractive('df-dcd1278c-8d84-4772-a95e-a81d97ccb96a')\"\n",
              "            title=\"Convert this dataframe to an interactive table.\"\n",
              "            style=\"display:none;\">\n",
              "\n",
              "  <svg xmlns=\"http://www.w3.org/2000/svg\" height=\"24px\" viewBox=\"0 -960 960 960\">\n",
              "    <path d=\"M120-120v-720h720v720H120Zm60-500h600v-160H180v160Zm220 220h160v-160H400v160Zm0 220h160v-160H400v160ZM180-400h160v-160H180v160Zm440 0h160v-160H620v160ZM180-180h160v-160H180v160Zm440 0h160v-160H620v160Z\"/>\n",
              "  </svg>\n",
              "    </button>\n",
              "\n",
              "  <style>\n",
              "    .colab-df-container {\n",
              "      display:flex;\n",
              "      gap: 12px;\n",
              "    }\n",
              "\n",
              "    .colab-df-convert {\n",
              "      background-color: #E8F0FE;\n",
              "      border: none;\n",
              "      border-radius: 50%;\n",
              "      cursor: pointer;\n",
              "      display: none;\n",
              "      fill: #1967D2;\n",
              "      height: 32px;\n",
              "      padding: 0 0 0 0;\n",
              "      width: 32px;\n",
              "    }\n",
              "\n",
              "    .colab-df-convert:hover {\n",
              "      background-color: #E2EBFA;\n",
              "      box-shadow: 0px 1px 2px rgba(60, 64, 67, 0.3), 0px 1px 3px 1px rgba(60, 64, 67, 0.15);\n",
              "      fill: #174EA6;\n",
              "    }\n",
              "\n",
              "    .colab-df-buttons div {\n",
              "      margin-bottom: 4px;\n",
              "    }\n",
              "\n",
              "    [theme=dark] .colab-df-convert {\n",
              "      background-color: #3B4455;\n",
              "      fill: #D2E3FC;\n",
              "    }\n",
              "\n",
              "    [theme=dark] .colab-df-convert:hover {\n",
              "      background-color: #434B5C;\n",
              "      box-shadow: 0px 1px 3px 1px rgba(0, 0, 0, 0.15);\n",
              "      filter: drop-shadow(0px 1px 2px rgba(0, 0, 0, 0.3));\n",
              "      fill: #FFFFFF;\n",
              "    }\n",
              "  </style>\n",
              "\n",
              "    <script>\n",
              "      const buttonEl =\n",
              "        document.querySelector('#df-dcd1278c-8d84-4772-a95e-a81d97ccb96a button.colab-df-convert');\n",
              "      buttonEl.style.display =\n",
              "        google.colab.kernel.accessAllowed ? 'block' : 'none';\n",
              "\n",
              "      async function convertToInteractive(key) {\n",
              "        const element = document.querySelector('#df-dcd1278c-8d84-4772-a95e-a81d97ccb96a');\n",
              "        const dataTable =\n",
              "          await google.colab.kernel.invokeFunction('convertToInteractive',\n",
              "                                                    [key], {});\n",
              "        if (!dataTable) return;\n",
              "\n",
              "        const docLinkHtml = 'Like what you see? Visit the ' +\n",
              "          '<a target=\"_blank\" href=https://colab.research.google.com/notebooks/data_table.ipynb>data table notebook</a>'\n",
              "          + ' to learn more about interactive tables.';\n",
              "        element.innerHTML = '';\n",
              "        dataTable['output_type'] = 'display_data';\n",
              "        await google.colab.output.renderOutput(dataTable, element);\n",
              "        const docLink = document.createElement('div');\n",
              "        docLink.innerHTML = docLinkHtml;\n",
              "        element.appendChild(docLink);\n",
              "      }\n",
              "    </script>\n",
              "  </div>\n",
              "\n",
              "\n",
              "<div id=\"df-d8e3b548-24d6-4bb6-84c6-8a3a9c0106df\">\n",
              "  <button class=\"colab-df-quickchart\" onclick=\"quickchart('df-d8e3b548-24d6-4bb6-84c6-8a3a9c0106df')\"\n",
              "            title=\"Suggest charts\"\n",
              "            style=\"display:none;\">\n",
              "\n",
              "<svg xmlns=\"http://www.w3.org/2000/svg\" height=\"24px\"viewBox=\"0 0 24 24\"\n",
              "     width=\"24px\">\n",
              "    <g>\n",
              "        <path d=\"M19 3H5c-1.1 0-2 .9-2 2v14c0 1.1.9 2 2 2h14c1.1 0 2-.9 2-2V5c0-1.1-.9-2-2-2zM9 17H7v-7h2v7zm4 0h-2V7h2v10zm4 0h-2v-4h2v4z\"/>\n",
              "    </g>\n",
              "</svg>\n",
              "  </button>\n",
              "\n",
              "<style>\n",
              "  .colab-df-quickchart {\n",
              "      --bg-color: #E8F0FE;\n",
              "      --fill-color: #1967D2;\n",
              "      --hover-bg-color: #E2EBFA;\n",
              "      --hover-fill-color: #174EA6;\n",
              "      --disabled-fill-color: #AAA;\n",
              "      --disabled-bg-color: #DDD;\n",
              "  }\n",
              "\n",
              "  [theme=dark] .colab-df-quickchart {\n",
              "      --bg-color: #3B4455;\n",
              "      --fill-color: #D2E3FC;\n",
              "      --hover-bg-color: #434B5C;\n",
              "      --hover-fill-color: #FFFFFF;\n",
              "      --disabled-bg-color: #3B4455;\n",
              "      --disabled-fill-color: #666;\n",
              "  }\n",
              "\n",
              "  .colab-df-quickchart {\n",
              "    background-color: var(--bg-color);\n",
              "    border: none;\n",
              "    border-radius: 50%;\n",
              "    cursor: pointer;\n",
              "    display: none;\n",
              "    fill: var(--fill-color);\n",
              "    height: 32px;\n",
              "    padding: 0;\n",
              "    width: 32px;\n",
              "  }\n",
              "\n",
              "  .colab-df-quickchart:hover {\n",
              "    background-color: var(--hover-bg-color);\n",
              "    box-shadow: 0 1px 2px rgba(60, 64, 67, 0.3), 0 1px 3px 1px rgba(60, 64, 67, 0.15);\n",
              "    fill: var(--button-hover-fill-color);\n",
              "  }\n",
              "\n",
              "  .colab-df-quickchart-complete:disabled,\n",
              "  .colab-df-quickchart-complete:disabled:hover {\n",
              "    background-color: var(--disabled-bg-color);\n",
              "    fill: var(--disabled-fill-color);\n",
              "    box-shadow: none;\n",
              "  }\n",
              "\n",
              "  .colab-df-spinner {\n",
              "    border: 2px solid var(--fill-color);\n",
              "    border-color: transparent;\n",
              "    border-bottom-color: var(--fill-color);\n",
              "    animation:\n",
              "      spin 1s steps(1) infinite;\n",
              "  }\n",
              "\n",
              "  @keyframes spin {\n",
              "    0% {\n",
              "      border-color: transparent;\n",
              "      border-bottom-color: var(--fill-color);\n",
              "      border-left-color: var(--fill-color);\n",
              "    }\n",
              "    20% {\n",
              "      border-color: transparent;\n",
              "      border-left-color: var(--fill-color);\n",
              "      border-top-color: var(--fill-color);\n",
              "    }\n",
              "    30% {\n",
              "      border-color: transparent;\n",
              "      border-left-color: var(--fill-color);\n",
              "      border-top-color: var(--fill-color);\n",
              "      border-right-color: var(--fill-color);\n",
              "    }\n",
              "    40% {\n",
              "      border-color: transparent;\n",
              "      border-right-color: var(--fill-color);\n",
              "      border-top-color: var(--fill-color);\n",
              "    }\n",
              "    60% {\n",
              "      border-color: transparent;\n",
              "      border-right-color: var(--fill-color);\n",
              "    }\n",
              "    80% {\n",
              "      border-color: transparent;\n",
              "      border-right-color: var(--fill-color);\n",
              "      border-bottom-color: var(--fill-color);\n",
              "    }\n",
              "    90% {\n",
              "      border-color: transparent;\n",
              "      border-bottom-color: var(--fill-color);\n",
              "    }\n",
              "  }\n",
              "</style>\n",
              "\n",
              "  <script>\n",
              "    async function quickchart(key) {\n",
              "      const quickchartButtonEl =\n",
              "        document.querySelector('#' + key + ' button');\n",
              "      quickchartButtonEl.disabled = true;  // To prevent multiple clicks.\n",
              "      quickchartButtonEl.classList.add('colab-df-spinner');\n",
              "      try {\n",
              "        const charts = await google.colab.kernel.invokeFunction(\n",
              "            'suggestCharts', [key], {});\n",
              "      } catch (error) {\n",
              "        console.error('Error during call to suggestCharts:', error);\n",
              "      }\n",
              "      quickchartButtonEl.classList.remove('colab-df-spinner');\n",
              "      quickchartButtonEl.classList.add('colab-df-quickchart-complete');\n",
              "    }\n",
              "    (() => {\n",
              "      let quickchartButtonEl =\n",
              "        document.querySelector('#df-d8e3b548-24d6-4bb6-84c6-8a3a9c0106df button');\n",
              "      quickchartButtonEl.style.display =\n",
              "        google.colab.kernel.accessAllowed ? 'block' : 'none';\n",
              "    })();\n",
              "  </script>\n",
              "</div>\n",
              "\n",
              "    </div>\n",
              "  </div>\n"
            ],
            "application/vnd.google.colaboratory.intrinsic+json": {
              "type": "dataframe",
              "summary": "{\n  \"name\": \"df[-5:]\",\n  \"rows\": 5,\n  \"fields\": [\n    {\n      \"column\": \"Date\",\n      \"properties\": {\n        \"dtype\": \"date\",\n        \"min\": \"2024-03-01 00:00:00\",\n        \"max\": \"2024-07-01 00:00:00\",\n        \"num_unique_values\": 5,\n        \"samples\": [\n          \"2024-04-01 00:00:00\",\n          \"2024-07-01 00:00:00\",\n          \"2024-05-01 00:00:00\"\n        ],\n        \"semantic_type\": \"\",\n        \"description\": \"\"\n      }\n    },\n    {\n      \"column\": \"EMAE\",\n      \"properties\": {\n        \"dtype\": \"number\",\n        \"std\": 1.2500234808872857,\n        \"min\": -1.3656324237664277,\n        \"max\": 1.7173186007755523,\n        \"num_unique_values\": 5,\n        \"samples\": [\n          -1.0417932111494332,\n          1.7173186007755523,\n          0.5441401491198983\n        ],\n        \"semantic_type\": \"\",\n        \"description\": \"\"\n      }\n    },\n    {\n      \"column\": \"IPI\",\n      \"properties\": {\n        \"dtype\": \"number\",\n        \"std\": 3.8062119906698886,\n        \"min\": -3.1263069890519635,\n        \"max\": 6.873028598463016,\n        \"num_unique_values\": 5,\n        \"samples\": [\n          0.0691974689417174,\n          6.873028598463016,\n          -0.1326223471547871\n        ],\n        \"semantic_type\": \"\",\n        \"description\": \"\"\n      }\n    },\n    {\n      \"column\": \"ISAC\",\n      \"properties\": {\n        \"dtype\": \"number\",\n        \"std\": 9.524932923383213,\n        \"min\": -15.388855565307402,\n        \"max\": 7.96963466303191,\n        \"num_unique_values\": 5,\n        \"samples\": [\n          1.1228820254162164,\n          7.96963466303191,\n          7.73001843124157\n        ],\n        \"semantic_type\": \"\",\n        \"description\": \"\"\n      }\n    }\n  ]\n}"
            }
          },
          "metadata": {},
          "execution_count": 20
        }
      ]
    },
    {
      "cell_type": "markdown",
      "source": [
        "# Modelo ARIMA"
      ],
      "metadata": {
        "id": "Tew0ViCyNgTG"
      }
    },
    {
      "cell_type": "code",
      "source": [
        "from statsmodels.tsa.arima.model import ARIMA"
      ],
      "metadata": {
        "id": "tBY3xge3Qvkg"
      },
      "execution_count": 21,
      "outputs": []
    },
    {
      "cell_type": "code",
      "source": [
        "df.EMAE[:-1]"
      ],
      "metadata": {
        "id": "o7KecTYPVx_6",
        "outputId": "7efcd848-7033-4b60-e391-ce3acba25d1a",
        "colab": {
          "base_uri": "https://localhost:8080/",
          "height": 490
        }
      },
      "execution_count": 22,
      "outputs": [
        {
          "output_type": "execute_result",
          "data": {
            "text/plain": [
              "Date\n",
              "2016-02-01   -0.732842\n",
              "2016-03-01   -0.542077\n",
              "2016-04-01   -0.808724\n",
              "2016-05-01   -0.334856\n",
              "2016-06-01   -0.207642\n",
              "                ...   \n",
              "2024-02-01   -0.169671\n",
              "2024-03-01   -1.365632\n",
              "2024-04-01   -1.041793\n",
              "2024-05-01    0.544140\n",
              "2024-06-01   -0.310364\n",
              "Name: EMAE, Length: 101, dtype: float64"
            ],
            "text/html": [
              "<div>\n",
              "<style scoped>\n",
              "    .dataframe tbody tr th:only-of-type {\n",
              "        vertical-align: middle;\n",
              "    }\n",
              "\n",
              "    .dataframe tbody tr th {\n",
              "        vertical-align: top;\n",
              "    }\n",
              "\n",
              "    .dataframe thead th {\n",
              "        text-align: right;\n",
              "    }\n",
              "</style>\n",
              "<table border=\"1\" class=\"dataframe\">\n",
              "  <thead>\n",
              "    <tr style=\"text-align: right;\">\n",
              "      <th></th>\n",
              "      <th>EMAE</th>\n",
              "    </tr>\n",
              "    <tr>\n",
              "      <th>Date</th>\n",
              "      <th></th>\n",
              "    </tr>\n",
              "  </thead>\n",
              "  <tbody>\n",
              "    <tr>\n",
              "      <th>2016-02-01</th>\n",
              "      <td>-0.732842</td>\n",
              "    </tr>\n",
              "    <tr>\n",
              "      <th>2016-03-01</th>\n",
              "      <td>-0.542077</td>\n",
              "    </tr>\n",
              "    <tr>\n",
              "      <th>2016-04-01</th>\n",
              "      <td>-0.808724</td>\n",
              "    </tr>\n",
              "    <tr>\n",
              "      <th>2016-05-01</th>\n",
              "      <td>-0.334856</td>\n",
              "    </tr>\n",
              "    <tr>\n",
              "      <th>2016-06-01</th>\n",
              "      <td>-0.207642</td>\n",
              "    </tr>\n",
              "    <tr>\n",
              "      <th>...</th>\n",
              "      <td>...</td>\n",
              "    </tr>\n",
              "    <tr>\n",
              "      <th>2024-02-01</th>\n",
              "      <td>-0.169671</td>\n",
              "    </tr>\n",
              "    <tr>\n",
              "      <th>2024-03-01</th>\n",
              "      <td>-1.365632</td>\n",
              "    </tr>\n",
              "    <tr>\n",
              "      <th>2024-04-01</th>\n",
              "      <td>-1.041793</td>\n",
              "    </tr>\n",
              "    <tr>\n",
              "      <th>2024-05-01</th>\n",
              "      <td>0.544140</td>\n",
              "    </tr>\n",
              "    <tr>\n",
              "      <th>2024-06-01</th>\n",
              "      <td>-0.310364</td>\n",
              "    </tr>\n",
              "  </tbody>\n",
              "</table>\n",
              "<p>101 rows × 1 columns</p>\n",
              "</div><br><label><b>dtype:</b> float64</label>"
            ]
          },
          "metadata": {},
          "execution_count": 22
        }
      ]
    },
    {
      "cell_type": "code",
      "source": [
        "mod = ARIMA(df.EMAE , order=(1, 0, 1))\n",
        "res = mod.fit()\n",
        "print(res.summary())"
      ],
      "metadata": {
        "id": "0nX9SYLVNfeu",
        "outputId": "4bb14cda-07e4-4f35-f29b-c62dac88ff5b",
        "colab": {
          "base_uri": "https://localhost:8080/"
        }
      },
      "execution_count": 46,
      "outputs": [
        {
          "output_type": "stream",
          "name": "stderr",
          "text": [
            "/usr/local/lib/python3.10/dist-packages/statsmodels/tsa/base/tsa_model.py:473: ValueWarning: No frequency information was provided, so inferred frequency MS will be used.\n",
            "  self._init_dates(dates, freq)\n",
            "/usr/local/lib/python3.10/dist-packages/statsmodels/tsa/base/tsa_model.py:473: ValueWarning: No frequency information was provided, so inferred frequency MS will be used.\n",
            "  self._init_dates(dates, freq)\n",
            "/usr/local/lib/python3.10/dist-packages/statsmodels/tsa/base/tsa_model.py:473: ValueWarning: No frequency information was provided, so inferred frequency MS will be used.\n",
            "  self._init_dates(dates, freq)\n"
          ]
        },
        {
          "output_type": "stream",
          "name": "stdout",
          "text": [
            "                               SARIMAX Results                                \n",
            "==============================================================================\n",
            "Dep. Variable:                   EMAE   No. Observations:                  102\n",
            "Model:                 ARIMA(1, 0, 1)   Log Likelihood                -233.490\n",
            "Date:                Thu, 03 Oct 2024   AIC                            474.980\n",
            "Time:                        18:19:18   BIC                            485.479\n",
            "Sample:                    02-01-2016   HQIC                           479.231\n",
            "                         - 07-01-2024                                         \n",
            "Covariance Type:                  opg                                         \n",
            "==============================================================================\n",
            "                 coef    std err          z      P>|z|      [0.025      0.975]\n",
            "------------------------------------------------------------------------------\n",
            "const         -0.0050      0.328     -0.015      0.988      -0.649       0.638\n",
            "ar.L1         -0.8187      0.070    -11.755      0.000      -0.955      -0.682\n",
            "ma.L1          0.9778      0.055     17.820      0.000       0.870       1.085\n",
            "sigma2         5.6435      0.406     13.903      0.000       4.848       6.439\n",
            "===================================================================================\n",
            "Ljung-Box (L1) (Q):                   0.07   Jarque-Bera (JB):               885.08\n",
            "Prob(Q):                              0.79   Prob(JB):                         0.00\n",
            "Heteroskedasticity (H):               1.69   Skew:                            -1.43\n",
            "Prob(H) (two-sided):                  0.13   Kurtosis:                        17.14\n",
            "===================================================================================\n",
            "\n",
            "Warnings:\n",
            "[1] Covariance matrix calculated using the outer product of gradients (complex-step).\n"
          ]
        }
      ]
    },
    {
      "cell_type": "markdown",
      "source": [
        "# Predicción"
      ],
      "metadata": {
        "id": "x9m3GbXSWRHh"
      }
    },
    {
      "cell_type": "code",
      "source": [
        "X = df['EMAE'].loc['2016-02-01':]\n",
        "size = int(len(X) * 0.8)\n",
        "train, test = X[0:size], X[size:len(X)]\n",
        "history = [x for x in train]\n",
        "predictions = list()"
      ],
      "metadata": {
        "id": "2LLvRsBtAQ3l"
      },
      "execution_count": 49,
      "outputs": []
    },
    {
      "cell_type": "code",
      "source": [
        "# walk-forward validation\n",
        "for t in range(len(test)):\n",
        " model = ARIMA(history, order=(1,0,1))\n",
        " model_fit = model.fit()\n",
        " output = model_fit.forecast()\n",
        " yhat = output[0]\n",
        " predictions.append(yhat)\n",
        " obs = test[t]\n",
        " history.append(obs)\n",
        " print('predicted=%f, expected=%f' % (yhat, obs))"
      ],
      "metadata": {
        "id": "zeSVwMHyWdXS",
        "outputId": "3c33fc1a-fa63-4006-c487-c26ec637dd3e",
        "colab": {
          "base_uri": "https://localhost:8080/"
        }
      },
      "execution_count": 50,
      "outputs": [
        {
          "output_type": "stream",
          "name": "stderr",
          "text": [
            "<ipython-input-50-372e6cb67397>:8: FutureWarning: Series.__getitem__ treating keys as positions is deprecated. In a future version, integer keys will always be treated as labels (consistent with DataFrame behavior). To access a value by position, use `ser.iloc[pos]`\n",
            "  obs = test[t]\n"
          ]
        },
        {
          "output_type": "stream",
          "name": "stdout",
          "text": [
            "predicted=0.034700, expected=-0.404214\n",
            "predicted=-0.046942, expected=0.277750\n",
            "predicted=0.154514, expected=1.361779\n",
            "predicted=0.168130, expected=-0.105290\n",
            "predicted=-0.097854, expected=0.538130\n",
            "predicted=0.284925, expected=-2.193838\n",
            "predicted=-0.598423, expected=-1.502797\n",
            "predicted=0.361451, expected=-0.007755\n",
            "predicted=-0.340715, expected=2.185203\n",
            "predicted=0.758168, expected=1.009476\n",
            "predicted=-0.503075, expected=-0.377875\n",
            "predicted=0.506467, expected=-0.903607\n",
            "predicted=-0.591430, expected=-1.370867\n",
            "predicted=0.388387, expected=-1.835958\n",
            "predicted=-0.690705, expected=0.086541\n",
            "predicted=0.683695, expected=-0.169671\n",
            "predicted=-0.706614, expected=-1.365632\n",
            "predicted=0.448141, expected=-1.041793\n",
            "predicted=-0.659834, expected=0.544140\n",
            "predicted=0.669349, expected=-0.310364\n",
            "predicted=-0.717472, expected=1.717319\n"
          ]
        }
      ]
    },
    {
      "cell_type": "code",
      "source": [
        "from math import sqrt\n",
        "from sklearn.metrics import mean_squared_error\n",
        "# evaluate forecasts\n",
        "rmse = sqrt(mean_squared_error(test, predictions))\n",
        "print('Test RMSE: %.3f' % rmse)"
      ],
      "metadata": {
        "id": "M1UJeojOWjHL",
        "outputId": "a5f4c7de-28a4-4dab-f24e-1059c9065758",
        "colab": {
          "base_uri": "https://localhost:8080/"
        }
      },
      "execution_count": 51,
      "outputs": [
        {
          "output_type": "stream",
          "name": "stdout",
          "text": [
            "Test RMSE: 1.303\n"
          ]
        }
      ]
    },
    {
      "cell_type": "code",
      "source": [
        "import numpy as np\n",
        "df['prediction'] = np.nan\n",
        "df.iloc[-len(predictions):, df.columns.get_loc('prediction')] = predictions"
      ],
      "metadata": {
        "id": "V12FBaGXbvA-"
      },
      "execution_count": 52,
      "outputs": []
    },
    {
      "cell_type": "code",
      "source": [
        "from matplotlib import pyplot\n",
        "# plot forecasts against actual outcomes\n",
        "pyplot.plot(test)\n",
        "pyplot.plot(train)\n",
        "pyplot.plot(df['prediction'], color='red')\n",
        "pyplot.show()"
      ],
      "metadata": {
        "id": "FgKk8zz9Wkvp",
        "outputId": "d952d0e2-d384-47e1-9c2b-05fe3abd52a7",
        "colab": {
          "base_uri": "https://localhost:8080/",
          "height": 434
        }
      },
      "execution_count": 53,
      "outputs": [
        {
          "output_type": "display_data",
          "data": {
            "text/plain": [
              "<Figure size 640x480 with 1 Axes>"
            ],
            "image/png": "[encoded data removed]"
          },
          "metadata": {}
        }
      ]
    }
  ]
}