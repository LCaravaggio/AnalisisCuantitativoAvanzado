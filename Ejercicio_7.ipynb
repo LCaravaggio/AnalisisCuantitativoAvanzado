{
  "nbformat": 4,
  "nbformat_minor": 0,
  "metadata": {
    "colab": {
      "provenance": [],
      "authorship_tag": "ABX9TyMTfHzS13fVsSqAnC3SGWDk",
      "include_colab_link": true
    },
    "kernelspec": {
      "name": "python3",
      "display_name": "Python 3"
    },
    "language_info": {
      "name": "python"
    }
  },
  "cells": [
    {
      "cell_type": "markdown",
      "metadata": {
        "id": "view-in-github",
        "colab_type": "text"
      },
      "source": [
        "<a href=\"https://colab.research.google.com/github/LCaravaggio/AnalisisCuantitativoAvanzado/blob/main/Ejercicio_7.ipynb\" target=\"_parent\"><img src=\"https://colab.research.google.com/assets/colab-badge.svg\" alt=\"Open In Colab\"/></a>"
      ]
    },
    {
      "cell_type": "markdown",
      "source": [
        "# Ejercicio 7\n",
        "\n",
        "## Cargar la base\n",
        "\n",
        "La siguiente base describe datos sobre los salarios, la formación y la experiencia de empleadores que realizan entrevistas de trabajo."
      ],
      "metadata": {
        "id": "u3k0JTtjmKkI"
      }
    },
    {
      "cell_type": "code",
      "source": [
        "import pandas as pd\n",
        "import numpy as np"
      ],
      "metadata": {
        "id": "dGEQ3x7_mx9m"
      },
      "execution_count": null,
      "outputs": []
    },
    {
      "cell_type": "code",
      "execution_count": null,
      "metadata": {
        "id": "olHaot2HQL37",
        "colab": {
          "base_uri": "https://localhost:8080/"
        },
        "outputId": "1cf85600-1016-4352-d68a-60580bced47b"
      },
      "outputs": [
        {
          "output_type": "stream",
          "name": "stdout",
          "text": [
            "mkdir: cannot create directory ‘/root/.kaggle’: File exists\n",
            "Mounted at /content/drive\n",
            "salary-data.zip: Skipping, found more recently modified local copy (use --force to force download)\n"
          ]
        }
      ],
      "source": [
        "import json\n",
        "from google.colab import drive\n",
        "\n",
        "!mkdir ~/.kaggle\n",
        "!touch ~/.kaggle/kaggle.json\n",
        "\n",
        "drive.mount('/content/drive', force_remount=True)\n",
        "with open(\"/content/drive/My Drive/kaggle.json\", 'r') as f:\n",
        "    api_token= json.load(f)\n",
        "\n",
        "with open('/root/.kaggle/kaggle.json', 'w') as file:\n",
        "    json.dump(api_token, file)\n",
        "\n",
        "!chmod 600 ~/.kaggle/kaggle.json\n",
        "\n",
        "!kaggle datasets download -d mohithsairamreddy/salary-data"
      ]
    },
    {
      "cell_type": "code",
      "source": [
        "import zipfile\n",
        "import os\n",
        "\n",
        "os.listdir()\n",
        "\n",
        "for file in os.listdir():\n",
        "    if file.endswith('.zip'):\n",
        "      zip_ref = zipfile.ZipFile(file, 'r')\n",
        "      zip_ref.extractall()\n",
        "      zip_ref.close()"
      ],
      "metadata": {
        "id": "rEehM9QyQuqy"
      },
      "execution_count": null,
      "outputs": []
    },
    {
      "cell_type": "code",
      "source": [
        "## Cargamos la base\n",
        "df = pd.read_csv('/content/Salary_Data.csv')\n",
        "df.head()"
      ],
      "metadata": {
        "colab": {
          "base_uri": "https://localhost:8080/",
          "height": 206
        },
        "id": "kGLFhdFVR9iE",
        "outputId": "2e1da757-79a6-4f2a-de68-c2216d8e5f95"
      },
      "execution_count": null,
      "outputs": [
        {
          "output_type": "execute_result",
          "data": {
            "text/plain": [
              "    Age  Gender Education Level          Job Title  Years of Experience  \\\n",
              "0  32.0    Male      Bachelor's  Software Engineer                  5.0   \n",
              "1  28.0  Female        Master's       Data Analyst                  3.0   \n",
              "2  45.0    Male             PhD     Senior Manager                 15.0   \n",
              "3  36.0  Female      Bachelor's    Sales Associate                  7.0   \n",
              "4  52.0    Male        Master's           Director                 20.0   \n",
              "\n",
              "     Salary  \n",
              "0   90000.0  \n",
              "1   65000.0  \n",
              "2  150000.0  \n",
              "3   60000.0  \n",
              "4  200000.0  "
            ],
            "text/html": [
              "\n",
              "  <div id=\"df-a7b65ab2-2a7a-4840-b9c5-d05fbe962f84\">\n",
              "    <div class=\"colab-df-container\">\n",
              "      <div>\n",
              "<style scoped>\n",
              "    .dataframe tbody tr th:only-of-type {\n",
              "        vertical-align: middle;\n",
              "    }\n",
              "\n",
              "    .dataframe tbody tr th {\n",
              "        vertical-align: top;\n",
              "    }\n",
              "\n",
              "    .dataframe thead th {\n",
              "        text-align: right;\n",
              "    }\n",
              "</style>\n",
              "<table border=\"1\" class=\"dataframe\">\n",
              "  <thead>\n",
              "    <tr style=\"text-align: right;\">\n",
              "      <th></th>\n",
              "      <th>Age</th>\n",
              "      <th>Gender</th>\n",
              "      <th>Education Level</th>\n",
              "      <th>Job Title</th>\n",
              "      <th>Years of Experience</th>\n",
              "      <th>Salary</th>\n",
              "    </tr>\n",
              "  </thead>\n",
              "  <tbody>\n",
              "    <tr>\n",
              "      <th>0</th>\n",
              "      <td>32.0</td>\n",
              "      <td>Male</td>\n",
              "      <td>Bachelor's</td>\n",
              "      <td>Software Engineer</td>\n",
              "      <td>5.0</td>\n",
              "      <td>90000.0</td>\n",
              "    </tr>\n",
              "    <tr>\n",
              "      <th>1</th>\n",
              "      <td>28.0</td>\n",
              "      <td>Female</td>\n",
              "      <td>Master's</td>\n",
              "      <td>Data Analyst</td>\n",
              "      <td>3.0</td>\n",
              "      <td>65000.0</td>\n",
              "    </tr>\n",
              "    <tr>\n",
              "      <th>2</th>\n",
              "      <td>45.0</td>\n",
              "      <td>Male</td>\n",
              "      <td>PhD</td>\n",
              "      <td>Senior Manager</td>\n",
              "      <td>15.0</td>\n",
              "      <td>150000.0</td>\n",
              "    </tr>\n",
              "    <tr>\n",
              "      <th>3</th>\n",
              "      <td>36.0</td>\n",
              "      <td>Female</td>\n",
              "      <td>Bachelor's</td>\n",
              "      <td>Sales Associate</td>\n",
              "      <td>7.0</td>\n",
              "      <td>60000.0</td>\n",
              "    </tr>\n",
              "    <tr>\n",
              "      <th>4</th>\n",
              "      <td>52.0</td>\n",
              "      <td>Male</td>\n",
              "      <td>Master's</td>\n",
              "      <td>Director</td>\n",
              "      <td>20.0</td>\n",
              "      <td>200000.0</td>\n",
              "    </tr>\n",
              "  </tbody>\n",
              "</table>\n",
              "</div>\n",
              "      <button class=\"colab-df-convert\" onclick=\"convertToInteractive('df-a7b65ab2-2a7a-4840-b9c5-d05fbe962f84')\"\n",
              "              title=\"Convert this dataframe to an interactive table.\"\n",
              "              style=\"display:none;\">\n",
              "        \n",
              "  <svg xmlns=\"http://www.w3.org/2000/svg\" height=\"24px\"viewBox=\"0 0 24 24\"\n",
              "       width=\"24px\">\n",
              "    <path d=\"M0 0h24v24H0V0z\" fill=\"none\"/>\n",
              "    <path d=\"M18.56 5.44l.94 2.06.94-2.06 2.06-.94-2.06-.94-.94-2.06-.94 2.06-2.06.94zm-11 1L8.5 8.5l.94-2.06 2.06-.94-2.06-.94L8.5 2.5l-.94 2.06-2.06.94zm10 10l.94 2.06.94-2.06 2.06-.94-2.06-.94-.94-2.06-.94 2.06-2.06.94z\"/><path d=\"M17.41 7.96l-1.37-1.37c-.4-.4-.92-.59-1.43-.59-.52 0-1.04.2-1.43.59L10.3 9.45l-7.72 7.72c-.78.78-.78 2.05 0 2.83L4 21.41c.39.39.9.59 1.41.59.51 0 1.02-.2 1.41-.59l7.78-7.78 2.81-2.81c.8-.78.8-2.07 0-2.86zM5.41 20L4 18.59l7.72-7.72 1.47 1.35L5.41 20z\"/>\n",
              "  </svg>\n",
              "      </button>\n",
              "      \n",
              "  <style>\n",
              "    .colab-df-container {\n",
              "      display:flex;\n",
              "      flex-wrap:wrap;\n",
              "      gap: 12px;\n",
              "    }\n",
              "\n",
              "    .colab-df-convert {\n",
              "      background-color: #E8F0FE;\n",
              "      border: none;\n",
              "      border-radius: 50%;\n",
              "      cursor: pointer;\n",
              "      display: none;\n",
              "      fill: #1967D2;\n",
              "      height: 32px;\n",
              "      padding: 0 0 0 0;\n",
              "      width: 32px;\n",
              "    }\n",
              "\n",
              "    .colab-df-convert:hover {\n",
              "      background-color: #E2EBFA;\n",
              "      box-shadow: 0px 1px 2px rgba(60, 64, 67, 0.3), 0px 1px 3px 1px rgba(60, 64, 67, 0.15);\n",
              "      fill: #174EA6;\n",
              "    }\n",
              "\n",
              "    [theme=dark] .colab-df-convert {\n",
              "      background-color: #3B4455;\n",
              "      fill: #D2E3FC;\n",
              "    }\n",
              "\n",
              "    [theme=dark] .colab-df-convert:hover {\n",
              "      background-color: #434B5C;\n",
              "      box-shadow: 0px 1px 3px 1px rgba(0, 0, 0, 0.15);\n",
              "      filter: drop-shadow(0px 1px 2px rgba(0, 0, 0, 0.3));\n",
              "      fill: #FFFFFF;\n",
              "    }\n",
              "  </style>\n",
              "\n",
              "      <script>\n",
              "        const buttonEl =\n",
              "          document.querySelector('#df-a7b65ab2-2a7a-4840-b9c5-d05fbe962f84 button.colab-df-convert');\n",
              "        buttonEl.style.display =\n",
              "          google.colab.kernel.accessAllowed ? 'block' : 'none';\n",
              "\n",
              "        async function convertToInteractive(key) {\n",
              "          const element = document.querySelector('#df-a7b65ab2-2a7a-4840-b9c5-d05fbe962f84');\n",
              "          const dataTable =\n",
              "            await google.colab.kernel.invokeFunction('convertToInteractive',\n",
              "                                                     [key], {});\n",
              "          if (!dataTable) return;\n",
              "\n",
              "          const docLinkHtml = 'Like what you see? Visit the ' +\n",
              "            '<a target=\"_blank\" href=https://colab.research.google.com/notebooks/data_table.ipynb>data table notebook</a>'\n",
              "            + ' to learn more about interactive tables.';\n",
              "          element.innerHTML = '';\n",
              "          dataTable['output_type'] = 'display_data';\n",
              "          await google.colab.output.renderOutput(dataTable, element);\n",
              "          const docLink = document.createElement('div');\n",
              "          docLink.innerHTML = docLinkHtml;\n",
              "          element.appendChild(docLink);\n",
              "        }\n",
              "      </script>\n",
              "    </div>\n",
              "  </div>\n",
              "  "
            ]
          },
          "metadata": {},
          "execution_count": 15
        }
      ]
    },
    {
      "cell_type": "markdown",
      "source": [
        "## Procesamiento de la base\n",
        "\n",
        "Vemos que la variable `Education Level` tiene varios valores similares escritos de manera distinta."
      ],
      "metadata": {
        "id": "BBIUU-NUnMjW"
      }
    },
    {
      "cell_type": "code",
      "source": [
        "df[\"Education Level\"].value_counts()"
      ],
      "metadata": {
        "colab": {
          "base_uri": "https://localhost:8080/"
        },
        "id": "vO8TvDbYStTC",
        "outputId": "3b353327-55bc-4686-82f6-dc13c46c9df4"
      },
      "execution_count": null,
      "outputs": [
        {
          "output_type": "execute_result",
          "data": {
            "text/plain": [
              "Bachelor's Degree    2267\n",
              "Master's Degree      1573\n",
              "PhD                  1368\n",
              "Bachelor's            756\n",
              "High School           448\n",
              "Master's              288\n",
              "phD                     1\n",
              "Name: Education Level, dtype: int64"
            ]
          },
          "metadata": {},
          "execution_count": 16
        }
      ]
    },
    {
      "cell_type": "markdown",
      "source": [
        "Para unificar estos valores, la recatogrizamos creando una nueva variable denominada `Education New`:"
      ],
      "metadata": {
        "id": "RKvkvWt8ndGE"
      }
    },
    {
      "cell_type": "code",
      "source": [
        "df[\"Education New\"]=df[\"Education Level\"].copy()"
      ],
      "metadata": {
        "id": "skfsZ3tuT3p_"
      },
      "execution_count": null,
      "outputs": []
    },
    {
      "cell_type": "code",
      "source": [
        "df[\"Education New\"].loc[df[\"Education Level\"].str.contains(\"Bach\")==True]=\"Bachelor's\"\n",
        "df[\"Education New\"].loc[df[\"Education Level\"].str.contains(\"Mast\")==True]=\"Master's\"\n",
        "df[\"Education New\"].loc[df[\"Education Level\"].str.contains(\"hD\")==True]=\"PhD\"\n"
      ],
      "metadata": {
        "colab": {
          "base_uri": "https://localhost:8080/"
        },
        "id": "jLUsKTFYZK_D",
        "outputId": "ae0f43dd-c05b-4444-e47d-585a90807e90"
      },
      "execution_count": null,
      "outputs": [
        {
          "output_type": "stream",
          "name": "stderr",
          "text": [
            "<ipython-input-18-42d4324270b5>:1: SettingWithCopyWarning: \n",
            "A value is trying to be set on a copy of a slice from a DataFrame\n",
            "\n",
            "See the caveats in the documentation: https://pandas.pydata.org/pandas-docs/stable/user_guide/indexing.html#returning-a-view-versus-a-copy\n",
            "  df[\"Education New\"].loc[df[\"Education Level\"].str.contains(\"Bach\")==True]=\"Bachelor's\"\n",
            "<ipython-input-18-42d4324270b5>:2: SettingWithCopyWarning: \n",
            "A value is trying to be set on a copy of a slice from a DataFrame\n",
            "\n",
            "See the caveats in the documentation: https://pandas.pydata.org/pandas-docs/stable/user_guide/indexing.html#returning-a-view-versus-a-copy\n",
            "  df[\"Education New\"].loc[df[\"Education Level\"].str.contains(\"Mast\")==True]=\"Master's\"\n",
            "<ipython-input-18-42d4324270b5>:3: SettingWithCopyWarning: \n",
            "A value is trying to be set on a copy of a slice from a DataFrame\n",
            "\n",
            "See the caveats in the documentation: https://pandas.pydata.org/pandas-docs/stable/user_guide/indexing.html#returning-a-view-versus-a-copy\n",
            "  df[\"Education New\"].loc[df[\"Education Level\"].str.contains(\"hD\")==True]=\"PhD\"\n"
          ]
        }
      ]
    },
    {
      "cell_type": "markdown",
      "source": [
        "Verificamos que con estos cambios, las categorías quedaron unificadas"
      ],
      "metadata": {
        "id": "rwziEO4HnpcX"
      }
    },
    {
      "cell_type": "code",
      "source": [
        "df[\"Education New\"].value_counts()"
      ],
      "metadata": {
        "colab": {
          "base_uri": "https://localhost:8080/"
        },
        "id": "C3jD9Z_2noxM",
        "outputId": "8ac69814-00a5-4d23-90d5-e493cc062829"
      },
      "execution_count": null,
      "outputs": [
        {
          "output_type": "execute_result",
          "data": {
            "text/plain": [
              "Bachelor's     3023\n",
              "Master's       1861\n",
              "PhD            1369\n",
              "High School     448\n",
              "Name: Education New, dtype: int64"
            ]
          },
          "metadata": {},
          "execution_count": 19
        }
      ]
    },
    {
      "cell_type": "code",
      "source": [
        "df.info()"
      ],
      "metadata": {
        "colab": {
          "base_uri": "https://localhost:8080/"
        },
        "id": "PHZ9a9DNpyc5",
        "outputId": "e00c66d7-2e86-4f7d-b847-ef8b22f1dd2f"
      },
      "execution_count": null,
      "outputs": [
        {
          "output_type": "stream",
          "name": "stdout",
          "text": [
            "<class 'pandas.core.frame.DataFrame'>\n",
            "RangeIndex: 6704 entries, 0 to 6703\n",
            "Data columns (total 7 columns):\n",
            " #   Column               Non-Null Count  Dtype  \n",
            "---  ------               --------------  -----  \n",
            " 0   Age                  6702 non-null   float64\n",
            " 1   Gender               6702 non-null   object \n",
            " 2   Education Level      6701 non-null   object \n",
            " 3   Job Title            6702 non-null   object \n",
            " 4   Years of Experience  6701 non-null   float64\n",
            " 5   Salary               6699 non-null   float64\n",
            " 6   Education New        6701 non-null   object \n",
            "dtypes: float64(3), object(4)\n",
            "memory usage: 366.8+ KB\n"
          ]
        }
      ]
    },
    {
      "cell_type": "markdown",
      "source": [
        "Borramos además los datos faltantes de la base"
      ],
      "metadata": {
        "id": "gHPxPBZjpcH6"
      }
    },
    {
      "cell_type": "code",
      "source": [
        "df=df.dropna()"
      ],
      "metadata": {
        "id": "L0oQawI6pbmS"
      },
      "execution_count": null,
      "outputs": []
    },
    {
      "cell_type": "markdown",
      "source": [
        "Verificamos que ahora no quedan datos faltantes"
      ],
      "metadata": {
        "id": "ZLTbKpAZp-YT"
      }
    },
    {
      "cell_type": "code",
      "source": [
        "df.info()"
      ],
      "metadata": {
        "colab": {
          "base_uri": "https://localhost:8080/"
        },
        "id": "R5BLq3pRp-Fx",
        "outputId": "f3fa4e95-5f6e-487e-f500-4a03923a83ee"
      },
      "execution_count": null,
      "outputs": [
        {
          "output_type": "stream",
          "name": "stdout",
          "text": [
            "<class 'pandas.core.frame.DataFrame'>\n",
            "Int64Index: 6698 entries, 0 to 6703\n",
            "Data columns (total 7 columns):\n",
            " #   Column               Non-Null Count  Dtype  \n",
            "---  ------               --------------  -----  \n",
            " 0   Age                  6698 non-null   float64\n",
            " 1   Gender               6698 non-null   object \n",
            " 2   Education Level      6698 non-null   object \n",
            " 3   Job Title            6698 non-null   object \n",
            " 4   Years of Experience  6698 non-null   float64\n",
            " 5   Salary               6698 non-null   float64\n",
            " 6   Education New        6698 non-null   object \n",
            "dtypes: float64(3), object(4)\n",
            "memory usage: 418.6+ KB\n"
          ]
        }
      ]
    },
    {
      "cell_type": "markdown",
      "source": [
        "# Preguntas\n",
        "\n",
        "## Pregunta 1\n",
        "\n",
        "Realizar un test de hipótesis para ver si la proporción de mujeres es significativamente menor al 50%.\n",
        "\n",
        "*Ayuda:* el atributo `.shape` devuelve la cantidad de filas y columnas de una base. Por lo tanto, tomando `df.shape[0]` se calcula la cantidad de filas de la base `df` y por lo tanto, la cantidad de individuos.\n",
        "Para contar la cantidad de mujeres, por ejemplo, se puede recorrer todas las filas de \"Gender\" viendo en cada instancia si el valor coincide con \"Female\". Cuando se suman esos valores, se obtiene la cantidad de mujeres: `np.sum(df[\"Gender\"]==\"Female\")`. El valor de referencia sería `value=0.5` y determinar la hipótesis alternativa correspondiente. Utilizar el `help` para ver cómo funciona el comando.\n"
      ],
      "metadata": {
        "id": "2SpWrlegoYaj"
      }
    },
    {
      "cell_type": "code",
      "source": [
        "from statsmodels.stats.proportion import proportions_ztest\n"
      ],
      "metadata": {
        "id": "O55aSZ9_rQ6x"
      },
      "execution_count": null,
      "outputs": []
    },
    {
      "cell_type": "code",
      "source": [
        "help(proportions_ztest)"
      ],
      "metadata": {
        "id": "o4LmVogM63AR"
      },
      "execution_count": null,
      "outputs": []
    },
    {
      "cell_type": "markdown",
      "source": [
        "## Pregunta 2\n",
        "\n",
        "Notemos que el porcentaje identificado como `Other` en la base es pequeño y no es un número que permita obtener conclusiones estadísticas pertinentes.\n",
        "\n",
        "Realizar un test de hipótesis para ver si el salario medio de los hombres es **mayor** que el de las mujeres, según estos datos.\n",
        "\n",
        "*Ayuda:* Se están evaluando medias, no porcentajes, por lo que se usa la función provista. Para comparar las medias, se deben pasar dos conjuntos de datos como argumento. Para identificar, por ejemplo, los datos de salarios sólo de las mujeres, se puede utilizar el siguiente comando: `df.Salary[df[\"Gender\"]==\"Female\"]`"
      ],
      "metadata": {
        "id": "GaH1XdyQrqJC"
      }
    },
    {
      "cell_type": "code",
      "source": [
        "from statsmodels.stats.weightstats import ztest\n"
      ],
      "metadata": {
        "id": "avstO5xRtmG9"
      },
      "execution_count": null,
      "outputs": []
    },
    {
      "cell_type": "code",
      "source": [
        "help(ztest)"
      ],
      "metadata": {
        "id": "xI-R9Y6KuX5W"
      },
      "execution_count": null,
      "outputs": []
    },
    {
      "cell_type": "markdown",
      "source": [
        "## Pregunta 3\n",
        "\n",
        "Realizar un test de ANOVA para ver si el salario medio cambia con los distintos niveles educativos. Utilizar la comparación múltiple para ver cuáles son diferentes entre sí\n",
        "\n",
        "*Ayuda:* Los datos deben pasarse en una **lista**. Entonces, habría que definir previamente los datos de salario para cada nivel educativo. Para identificar el salario por cada nivel educativo, se puede usar la ayuda anterior reemplazando \"Gender\" por \"Education New\" y \"Female\" por \"High School\" para obtener los salarios de personas con título secundario completo. Para la comparación múltiple, se pueden usar directamente las columnas `df[\"Salary\"]` (datos) y `df[\"Education New\"]` (grupos)."
      ],
      "metadata": {
        "id": "bVYugQgQt49h"
      }
    },
    {
      "cell_type": "code",
      "source": [
        "from statsmodels.stats.oneway import anova_oneway\n",
        "from statsmodels.sandbox.stats.multicomp import MultiComparison"
      ],
      "metadata": {
        "id": "K59yTk5kAr5y"
      },
      "execution_count": null,
      "outputs": []
    },
    {
      "cell_type": "code",
      "source": [
        "# Datos de salarios de individuos con título secundario completo\n",
        "x1=\n",
        "# Datos de salarios de individuos con título de grado completo\n",
        "x2=\n",
        "# Datos de salarios de individuos con título de maestría completo\n",
        "x3=\n",
        "# Datos de salarios de individuos con título de doctorado completo\n",
        "x4=\n",
        "print(anova_oneway([x1,x2,x3,x4]))\n",
        "MC=MultiComparison()\n",
        "print(MC.tukeyhsd())"
      ],
      "metadata": {
        "id": "noU_wTvUwHDG"
      },
      "execution_count": null,
      "outputs": []
    },
    {
      "cell_type": "code",
      "source": [
        "help(anova_oneway)\n",
        "help(MultiComparison)"
      ],
      "metadata": {
        "id": "G55QyX4Rxcz4"
      },
      "execution_count": null,
      "outputs": []
    },
    {
      "cell_type": "markdown",
      "source": [
        "## Pregunta 4\n",
        "\n",
        "Testear si la variable de años de experiencia tiene distribución normal y obtenga alguna conclusión. Hacer un histograma de la variable para comparar con los resultados del test.\n",
        "\n"
      ],
      "metadata": {
        "id": "tB1Oz1MfxQ8b"
      }
    },
    {
      "cell_type": "code",
      "source": [
        "import matplotlib.pyplot as plt\n",
        "from scipy.stats import shapiro"
      ],
      "metadata": {
        "id": "YvWCeCr8A1ZU"
      },
      "execution_count": null,
      "outputs": []
    },
    {
      "cell_type": "code",
      "source": [],
      "metadata": {
        "id": "I6neBLN2lFhu"
      },
      "execution_count": null,
      "outputs": []
    },
    {
      "cell_type": "code",
      "source": [
        "help(shapiro)\n",
        "help(plt.hist)"
      ],
      "metadata": {
        "id": "B3L-FGJAlK8z"
      },
      "execution_count": null,
      "outputs": []
    },
    {
      "cell_type": "markdown",
      "source": [
        "## Pregunta 5\n",
        "\n",
        "Testear si hay correlación significativa entre las variables de años de experiencia y el salario. Hacer un gráfico de dispersión para contrastar con el resultado provisto por el test.\n",
        "\n"
      ],
      "metadata": {
        "id": "aN-QYYwM2oHf"
      }
    },
    {
      "cell_type": "code",
      "source": [
        "from scipy.stats import pearsonr"
      ],
      "metadata": {
        "id": "zkj5UrMmBXVq"
      },
      "execution_count": null,
      "outputs": []
    },
    {
      "cell_type": "code",
      "source": [],
      "metadata": {
        "id": "nCJRvSD3BW9f"
      },
      "execution_count": null,
      "outputs": []
    },
    {
      "cell_type": "code",
      "source": [
        "help(pearsonr)\n",
        "help(plt.scatter)"
      ],
      "metadata": {
        "id": "NBsVXYO8BvNl"
      },
      "execution_count": null,
      "outputs": []
    },
    {
      "cell_type": "code",
      "source": [
        "from statsmodels.stats.weightstats import zconfint"
      ],
      "metadata": {
        "id": "oTYwHM8rzWBi"
      },
      "execution_count": null,
      "outputs": []
    }
  ]
}